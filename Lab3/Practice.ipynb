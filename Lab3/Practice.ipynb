{
 "cells": [
  {
   "cell_type": "markdown",
   "id": "a56fa9af-b4eb-4097-b114-ed6f89912827",
   "metadata": {},
   "source": [
    "# Practice #1: Learning how ot use Jupyter Notebooks in Cuahsi HydroShare\n",
    "## Aaron Sigman\n",
    "Exercise to learn using notebook"
   ]
  },
  {
   "cell_type": "markdown",
   "id": "b9ad0ec6-3f9f-4359-b32f-c08c4dcd6053",
   "metadata": {
    "tags": []
   },
   "source": [
    "## 1. Calling geemap"
   ]
  },
  {
   "cell_type": "code",
   "execution_count": 1,
   "id": "1ca486c7-4df5-4f98-a090-a50959f2527d",
   "metadata": {},
   "outputs": [],
   "source": [
    "# To update or install geemap\n",
    "#pip install -U geemap"
   ]
  },
  {
   "cell_type": "code",
   "execution_count": 2,
   "id": "196c015b-61ce-4586-8caf-f1bdb466245c",
   "metadata": {},
   "outputs": [],
   "source": [
    "import ee\n",
    "import geemap"
   ]
  },
  {
   "cell_type": "markdown",
   "id": "1794318e-03ff-4ca8-8b34-2f9c0bbe8c33",
   "metadata": {},
   "source": [
    "## 2. Generate Map"
   ]
  },
  {
   "cell_type": "code",
   "execution_count": 3,
   "id": "eb16cbbb-fbd2-45bf-8ab4-87402c289396",
   "metadata": {},
   "outputs": [
    {
     "data": {
      "application/vnd.jupyter.widget-view+json": {
       "model_id": "58796ca7428844a8bf5c8c2440355e82",
       "version_major": 2,
       "version_minor": 0
      },
      "text/plain": [
       "Map(center=[20, 0], controls=(WidgetControl(options=['position', 'transparent_bg'], widget=HBox(children=(Togg…"
      ]
     },
     "metadata": {},
     "output_type": "display_data"
    }
   ],
   "source": [
    "Map=geemap.Map()\n",
    "Map"
   ]
  },
  {
   "cell_type": "markdown",
   "id": "7b0ffe49-2d1d-43a9-a344-e097979f086e",
   "metadata": {},
   "source": [
    "## 3. Define a location by creating a point\n",
    "- Get latitude and longitude of point"
   ]
  },
  {
   "cell_type": "code",
   "execution_count": 4,
   "id": "1964451e-64b8-4a37-8aeb-82637dd394a9",
   "metadata": {},
   "outputs": [],
   "source": [
    "# Littleton, CO\n",
    "Lat=39.5480\n",
    "Long=-105.0704\n",
    "Point=ee.Geometry.Point([Long, Lat])"
   ]
  },
  {
   "cell_type": "markdown",
   "id": "a805c1cb-a559-4710-9ad7-7304d934c12a",
   "metadata": {},
   "source": [
    "## 4. Retrieve Imagery\n",
    "- Call satellite using location from google earth engine datasets\n",
    "- Get images overlapping point\n",
    "- Filter images for dates\n",
    "- If multiple images, sort by cloud cover\n",
    "- Select first in sorted images (least cloud cover)\n",
    "- Get band names"
   ]
  },
  {
   "cell_type": "code",
   "execution_count": 11,
   "id": "06cdf168-423a-4df6-8700-9d94b101e701",
   "metadata": {},
   "outputs": [
    {
     "name": "stdout",
     "output_type": "stream",
     "text": [
      "['SR_B1', 'SR_B2', 'SR_B3', 'SR_B4', 'SR_B5', 'SR_B6', 'SR_B7', 'SR_QA_AEROSOL', 'ST_B10', 'ST_ATRAN', 'ST_CDIST', 'ST_DRAD', 'ST_EMIS', 'ST_EMSD', 'ST_QA', 'ST_TRAD', 'ST_URAD', 'QA_PIXEL', 'QA_RADSAT']\n"
     ]
    }
   ],
   "source": [
    "landsat=ee.ImageCollection(\"LANDSAT/LC08/C02/T1_L2\")\n",
    "image = ee.Image(landsat\n",
    "    .filterBounds(Point)\n",
    "    .filterDate('2022-06-01', '2022-09-01')\n",
    "    .sort('CLOUD_COVER_LAND')\n",
    "    .first())\n",
    "band_names=image.bandNames()\n",
    "print(band_names.getInfo())"
   ]
  },
  {
   "cell_type": "markdown",
   "id": "d08dd06a-214d-4de0-9f0b-cd6e6d362a9a",
   "metadata": {},
   "source": [
    "## 5. Get true color image\n",
    "- Filter bands that you want\n",
    "- Correct bands using scale and offset from GEE datasets page\n",
    "- Select bands to display true color (R, G, B)"
   ]
  },
  {
   "cell_type": "code",
   "execution_count": 12,
   "id": "3cea0d7d-a668-48b7-8359-3289820765d3",
   "metadata": {},
   "outputs": [],
   "source": [
    "image = image.select(['SR_B1', 'SR_B2', 'SR_B3', 'SR_B4', 'SR_B5', 'SR_B6', 'SR_B7'])\n",
    "image = image.multiply(0.0000275).add(-0.2)\n",
    "trueColor = {'bands': ['SR_B4', 'SR_B3', 'SR_B2'], 'min': 0, 'max': 0.5}"
   ]
  },
  {
   "cell_type": "markdown",
   "id": "bb0b515c-b2a0-4e9b-9bf9-712ee3537342",
   "metadata": {},
   "source": [
    "## 6. Add new image to map\n",
    "- Add layer\n",
    "- Center map on point"
   ]
  },
  {
   "cell_type": "code",
   "execution_count": 13,
   "id": "a7560326-5207-43da-9e08-8decc6059113",
   "metadata": {},
   "outputs": [
    {
     "data": {
      "application/vnd.jupyter.widget-view+json": {
       "model_id": "58796ca7428844a8bf5c8c2440355e82",
       "version_major": 2,
       "version_minor": 0
      },
      "text/plain": [
       "Map(bottom=797664.0, center=[39.54800033726552, -105.07049560546876], controls=(WidgetControl(options=['positi…"
      ]
     },
     "metadata": {},
     "output_type": "display_data"
    }
   ],
   "source": [
    "# add layer\n",
    "Map.addLayer(image, trueColor, name='Landsat8 Image',opacity=0.95)\n",
    "# zoom to the image\n",
    "bounds = Point.buffer(10000)\n",
    "Map.centerObject(bounds)\n",
    "Map"
   ]
  },
  {
   "cell_type": "code",
   "execution_count": null,
   "id": "c56d5f30-1a9c-4dce-839e-cdd8fda2dcb7",
   "metadata": {},
   "outputs": [],
   "source": []
  }
 ],
 "metadata": {
  "kernelspec": {
   "display_name": "Python 3 (ipykernel)",
   "language": "python",
   "name": "python3"
  },
  "language_info": {
   "codemirror_mode": {
    "name": "ipython",
    "version": 3
   },
   "file_extension": ".py",
   "mimetype": "text/x-python",
   "name": "python",
   "nbconvert_exporter": "python",
   "pygments_lexer": "ipython3",
   "version": "3.9.7"
  }
 },
 "nbformat": 4,
 "nbformat_minor": 5
}
