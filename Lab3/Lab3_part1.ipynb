{
 "cells": [
  {
   "cell_type": "markdown",
   "id": "1c39898b-0648-4a3d-ad92-f58a83d016b9",
   "metadata": {},
   "source": [
    "## Lab 3: Assignment 1\n",
    "### Aaron Sigman\n",
    "There are two types of indices: broadband and narrowband as shown in this paper: \"Evaluation of Broadband and Narrowband Vegetation Indices for the Identification of Archaeological Crop Marks\". Implement 4 other broadbands vegetation indices for Logan UT as set up in this notebook. Do you note a difference in response between the NDVI and EVI vs the ones you implemented in agricultural areas, bare soils, and water? Please explain it in a notebook."
   ]
  },
  {
   "cell_type": "markdown",
   "id": "a1e0f12c-7244-46a1-951c-07108903195f",
   "metadata": {},
   "source": [
    "- Determine what other indicies exist. \n",
    "\n",
    "Indicies used in the lab: NDVI, EVI, NDWI, NDBSI, NDSI \\\n",
    "Broadband indicies to pick from: Green NDVI, SR, MSR, MTVI2, RDVI, IRG, PVI, RVI, TSAVI, MSAVI, ARVI, GEMI, SARVI, OSAVI, SR x NDVI \\\n",
    "\n",
    "- Select 4 bands to use. \n",
    "    - Green NDVI (Green Normalized Difference Vegetation Index) \n",
    "    \n",
    "    GNDVI = (p$_{NIR}$-p$_{green}$)/(p$_{NIR}$+p$_{green}$)\n",
    "    - MSR (Modified Simple Ratio) \n",
    "    \n",
    "    MSR = p$_{red}$/(p$_{NIR}$/p$_{red}$ +1)$^{0.5}$\n",
    "    - RDVI (Renormalize Difference Vegetation Index) \n",
    "    \n",
    "    RDVI = (p$_{NIR}$ – p$_{red}$)/(p$_{NIR}$ + p$_{red}$)$^{0.5}$\n",
    "    - MSAVI (Modified Soil Adjusted Vegetation Index) \n",
    "    \n",
    "    MSAVI = [(2p$_{NIR}$+1-[(2p$_{NIR}$+1)$^2$-8(p$_{NIR}$-p$_{red}$)]$^{0.5}$]/2"
   ]
  },
  {
   "cell_type": "markdown",
   "id": "d93d6b2b-c21e-45d5-a5e7-e7ad65035b86",
   "metadata": {},
   "source": [
    "### - Initialize display and earth engine"
   ]
  },
  {
   "cell_type": "code",
   "execution_count": 1,
   "id": "f5124a4d-1534-4c83-a83d-809e129abafa",
   "metadata": {},
   "outputs": [],
   "source": [
    "from IPython.display import Image\n",
    "import ee\n",
    "ee.Initialize()"
   ]
  },
  {
   "cell_type": "code",
   "execution_count": 2,
   "id": "dd9b8900-b09f-4141-bde2-8536e3d8294a",
   "metadata": {},
   "outputs": [],
   "source": [
    "import geemap"
   ]
  },
  {
   "cell_type": "markdown",
   "id": "8be5a712-07c6-43cf-8865-86b8d5e8977a",
   "metadata": {},
   "source": [
    "### - Define a point in Logan, Utah"
   ]
  },
  {
   "cell_type": "code",
   "execution_count": 3,
   "id": "9914d7ce-573f-4086-97d5-4695d67f7024",
   "metadata": {},
   "outputs": [],
   "source": [
    "# Define point at Logan, UT\n",
    "Lat=41.735210\n",
    "Long=-111.834862\n",
    "Point = ee.Geometry.Point([Long, Lat])"
   ]
  },
  {
   "cell_type": "markdown",
   "id": "8bd03821-1067-4fae-8ca1-3f2390baad9e",
   "metadata": {},
   "source": [
    "### - Get Landsat8 imagery\n",
    "- Get landsat8 imagery using reference location from google earth engine datasets\n",
    "    - Filter by images that overlap point\n",
    "    - Filter by selected dates\n",
    "    - Sort by cloud cover\n",
    "    - Select the first (least cloudy) image to use\n",
    "- Select the bands that we are going to use (Bands 1-7)\n",
    "- Correct the image using the correction factor and offset from google earth engine datasets"
   ]
  },
  {
   "cell_type": "code",
   "execution_count": 5,
   "id": "34a65edd-88da-4cb8-ac1c-6cf719ac274d",
   "metadata": {},
   "outputs": [],
   "source": [
    "landsat8 =ee.ImageCollection(\"LANDSAT/LC08/C02/T1_L2\") #change\n",
    "\n",
    "image = ee.Image(landsat8\n",
    "    .filterBounds(Point)\n",
    "    .filterDate('2021-06-01', '2021-09-01')\n",
    "    .sort('CLOUD_COVER_LAND')\n",
    "    .first())\n",
    "\n",
    "image = image.select(['SR_B1', 'SR_B2', 'SR_B3', 'SR_B4', 'SR_B5', 'SR_B6', 'SR_B7'])\n",
    "\n",
    "\n",
    "image = image.multiply(0.0000275).add(-0.2)"
   ]
  },
  {
   "cell_type": "code",
   "execution_count": null,
   "id": "639b4f18-b8fd-4d4a-86ee-e7d4a0034419",
   "metadata": {},
   "outputs": [],
   "source": []
  }
 ],
 "metadata": {
  "kernelspec": {
   "display_name": "Python 3 (ipykernel)",
   "language": "python",
   "name": "python3"
  },
  "language_info": {
   "codemirror_mode": {
    "name": "ipython",
    "version": 3
   },
   "file_extension": ".py",
   "mimetype": "text/x-python",
   "name": "python",
   "nbconvert_exporter": "python",
   "pygments_lexer": "ipython3",
   "version": "3.9.7"
  }
 },
 "nbformat": 4,
 "nbformat_minor": 5
}
