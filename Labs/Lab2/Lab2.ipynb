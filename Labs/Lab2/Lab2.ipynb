{
 "cells": [
  {
   "cell_type": "markdown",
   "id": "7a2e30ed-b0ec-4013-9fd6-952dbde1d330",
   "metadata": {},
   "source": [
    "## Laboratory 2\n",
    "### Aaron Sigman\n",
    "\n",
    "There are more satellites and data sources available to you. Using your Lab 2 notebook and the one we showed how to create your own notebook (attached) create a notebook adding the following satellites in natural and read false color display (both)."
   ]
  },
  {
   "cell_type": "code",
   "execution_count": 1,
   "id": "ccf230b5-c3ba-4ef0-92e8-866c41610029",
   "metadata": {},
   "outputs": [],
   "source": [
    "from IPython.display import Image\n",
    "import ee\n",
    "ee.Initialize()"
   ]
  },
  {
   "cell_type": "code",
   "execution_count": 2,
   "id": "76a02c29-6d15-41ae-a47a-558272ab0d8c",
   "metadata": {},
   "outputs": [],
   "source": [
    "import geemap"
   ]
  },
  {
   "cell_type": "markdown",
   "id": "cf0c241f-4951-4a71-bc0f-7e3e0d3fbb4f",
   "metadata": {},
   "source": [
    "### Define a point"
   ]
  },
  {
   "cell_type": "code",
   "execution_count": 3,
   "id": "62021109-456f-4724-9b3d-35b12e80352b",
   "metadata": {},
   "outputs": [],
   "source": [
    "# Define point at Logan, UT\n",
    "Lat=41.735210\n",
    "Long=-111.834862\n",
    "Point = ee.Geometry.Point([Long, Lat])"
   ]
  },
  {
   "cell_type": "code",
   "execution_count": 4,
   "id": "0bb80b45-9a5f-4470-8513-3e24bb8c2283",
   "metadata": {},
   "outputs": [],
   "source": [
    "landsat8 =ee.ImageCollection(\"LANDSAT/LC08/C02/T1_L2\") #change\n",
    "image = ee.Image(landsat8\n",
    "    .filterBounds(Point)\n",
    "    .filterDate('2021-06-01', '2021-09-01')\n",
    "    .sort('CLOUD_COVER_LAND')\n",
    "    .first())\n",
    "image = image.select(['SR_B1', 'SR_B2', 'SR_B3', 'SR_B4', 'SR_B5', 'SR_B6', 'SR_B7'])\n",
    "image = image.multiply(0.0000275).add(-0.2)"
   ]
  },
  {
   "cell_type": "code",
   "execution_count": 5,
   "id": "47092200-3092-4330-b84e-ca9a6ad03c4c",
   "metadata": {},
   "outputs": [
    {
     "data": {
      "application/vnd.jupyter.widget-view+json": {
       "model_id": "59ebf6d32f8c4528bd7f883cbc68cef8",
       "version_major": 2,
       "version_minor": 0
      },
      "text/plain": [
       "Map(center=[20, 0], controls=(WidgetControl(options=['position', 'transparent_bg'], widget=HBox(children=(Togg…"
      ]
     },
     "metadata": {},
     "output_type": "display_data"
    }
   ],
   "source": [
    "Map = geemap.Map() # from ipygee\n",
    "bounds = Point.buffer(10000)\n",
    "Map.centerObject(bounds)\n",
    "trueColor = {'bands': ['SR_B4', 'SR_B3', 'SR_B2'], 'min': 0, 'max': 0.4}\n",
    "falseColor= {'bands': ['SR_B5', 'SR_B3', 'SR_B2'], 'min': 0, 'max': 0.4}\n",
    "Map.addLayer(image, trueColor, name='Landsat8 True')\n",
    "Map.addLayer(image, falseColor, name='Landsat8 False')\n",
    "Map"
   ]
  },
  {
   "cell_type": "code",
   "execution_count": 6,
   "id": "1d807fb3-1f2b-4476-94b2-786f528e6a94",
   "metadata": {},
   "outputs": [
    {
     "name": "stdout",
     "output_type": "stream",
     "text": [
      "['B01', 'B02', 'B3N', 'B04', 'B05', 'B06', 'B07', 'B08', 'B09', 'B10', 'B11', 'B12', 'B13', 'B14']\n"
     ]
    }
   ],
   "source": [
    "ASTER = ee.ImageCollection(\"ASTER/AST_L1T_003\")\n",
    "# // Get ASTER images for the study period and region of interest.\n",
    "ASTERImages = ASTER.filterDate('2019-04-01', '2019-10-31').filterBounds(Point);\n",
    "# // Mosaic adjacent images into a single image.\n",
    "ASTERImage = ASTERImages.mosaic();\n",
    "# Print the image band names to the console.\n",
    "band_names = ASTERImage.bandNames()\n",
    "print(band_names.getInfo())"
   ]
  },
  {
   "cell_type": "code",
   "execution_count": 7,
   "id": "2ba471eb-53a9-4e6c-9fa9-e4f09efabda1",
   "metadata": {},
   "outputs": [
    {
     "data": {
      "application/vnd.jupyter.widget-view+json": {
       "model_id": "59ebf6d32f8c4528bd7f883cbc68cef8",
       "version_major": 2,
       "version_minor": 0
      },
      "text/plain": [
       "Map(center=[41.7352272667938, -111.83465310180142], controls=(WidgetControl(options=['position', 'transparent_…"
      ]
     },
     "metadata": {},
     "output_type": "display_data"
    }
   ],
   "source": [
    "IRBands=  ['B3N', 'B02', 'B01']\n",
    "\n",
    "Map.addLayer(ASTERImage, {'bands':IRBands,'min': 0, 'max': 255}, name='ASTER Image')\n",
    "Map"
   ]
  },
  {
   "cell_type": "code",
   "execution_count": 8,
   "id": "c9813621-f2d4-41d4-9f39-953f58b8e55e",
   "metadata": {},
   "outputs": [
    {
     "name": "stdout",
     "output_type": "stream",
     "text": [
      "['B1', 'B2', 'B3', 'B4', 'B5', 'B6', 'B7', 'B8', 'B8A', 'B9', 'B10', 'B11', 'B12', 'QA10', 'QA20', 'QA60']\n"
     ]
    }
   ],
   "source": [
    "SEN2 = ee.ImageCollection(\"COPERNICUS/S2\")\n",
    "\n",
    "# // Get ASTER images for the study period and region of interest.\n",
    "SEN2Images = SEN2.filterDate('2019-04-01', '2019-10-31').filterBounds(Point);\n",
    "\n",
    "# // Mosaic adjacent images into a single image.\n",
    "SEN2Image = SEN2Images.mosaic();\n",
    "SEN2Image = SEN2Image.multiply(0.0001)\n",
    "# Print the image band names to the console.\n",
    "band_names = SEN2Image.bandNames()\n",
    "print(band_names.getInfo())"
   ]
  },
  {
   "cell_type": "code",
   "execution_count": 9,
   "id": "58c41578-b442-49bd-97a0-ffd10880a283",
   "metadata": {},
   "outputs": [
    {
     "data": {
      "application/vnd.jupyter.widget-view+json": {
       "model_id": "59ebf6d32f8c4528bd7f883cbc68cef8",
       "version_major": 2,
       "version_minor": 0
      },
      "text/plain": [
       "Map(center=[41.7352272667938, -111.83465310180142], controls=(WidgetControl(options=['position', 'transparent_…"
      ]
     },
     "metadata": {},
     "output_type": "display_data"
    }
   ],
   "source": [
    "# // Display the SEN2 mosaic as a color-IR composite.\n",
    "IRBands=  ['B8', 'B4', 'B3']\n",
    "TrueBands=['B4','B3','B2']\n",
    "Map.addLayer(SEN2Image, {'bands':IRBands,'min': 0, 'max': 1}, name='SEN2 NIR')\n",
    "Map.addLayer(SEN2Image, {'bands':TrueBands,'min': 0, 'max': 1}, name='SEN2 True')\n",
    "Map"
   ]
  },
  {
   "cell_type": "code",
   "execution_count": 10,
   "id": "91d3329b-a9b1-4345-b168-b6c6a6adf3ea",
   "metadata": {},
   "outputs": [],
   "source": [
    "SEN3 = ee.ImageCollection(\"COPERNICUS/S3/OLCI\").filterDate('2019-04-01', '2019-10-31').filterBounds(Point)\n",
    "rgb = SEN3.select(['Oa08_radiance', 'Oa06_radiance', 'Oa04_radiance']).median().multiply(ee.Image([0.00876539, 0.0123538, 0.0115198]))\n",
    "NIR = SEN3.select(['Oa14_radiance','Oa08_radiance', 'Oa06_radiance']).median().multiply(ee.Image([0.0086512, 0.00876539, 0.0123538]))\n",
    "\n",
    "visParams = {'min': 0,'max': 4,'gamma': 1.5}"
   ]
  },
  {
   "cell_type": "code",
   "execution_count": 11,
   "id": "54bece68-d020-461f-8915-6ea95ec39a77",
   "metadata": {},
   "outputs": [
    {
     "data": {
      "application/vnd.jupyter.widget-view+json": {
       "model_id": "59ebf6d32f8c4528bd7f883cbc68cef8",
       "version_major": 2,
       "version_minor": 0
      },
      "text/plain": [
       "Map(center=[41.7352272667938, -111.83465310180142], controls=(WidgetControl(options=['position', 'transparent_…"
      ]
     },
     "metadata": {},
     "output_type": "display_data"
    }
   ],
   "source": [
    "Map.addLayer(rgb, visParams, name='SEN3 True')\n",
    "Map.addLayer(NIR, visParams, name='SEN3 NIR')\n",
    "\n",
    "Map"
   ]
  },
  {
   "cell_type": "code",
   "execution_count": 12,
   "id": "050f9d61-efc5-45ff-aad1-d527616ae0bd",
   "metadata": {},
   "outputs": [
    {
     "name": "stdout",
     "output_type": "stream",
     "text": [
      "['RED', 'NIR', 'BLUE', 'SWIR', 'NDVI', 'SZA', 'SAA', 'SWIRVAA', 'SWIRVZA', 'VNIRVAA', 'VNIRVZA', 'SM', 'TIME']\n"
     ]
    }
   ],
   "source": [
    "PROBA = ee.ImageCollection(\"VITO/PROBAV/C1/S1_TOC_100M\").filterDate('2019-05-25', '2019-10-27').filterBounds(Point).sort(\"CLOUD_COVER_LAND\").first()\n",
    "band_names = PROBA.bandNames()\n",
    "print(band_names.getInfo())"
   ]
  },
  {
   "cell_type": "code",
   "execution_count": 13,
   "id": "7723e0c8-f611-4acf-b154-549fb650eac0",
   "metadata": {},
   "outputs": [
    {
     "data": {
      "application/vnd.jupyter.widget-view+json": {
       "model_id": "59ebf6d32f8c4528bd7f883cbc68cef8",
       "version_major": 2,
       "version_minor": 0
      },
      "text/plain": [
       "Map(center=[41.7352272667938, -111.83465310180142], controls=(WidgetControl(options=['position', 'transparent_…"
      ]
     },
     "metadata": {},
     "output_type": "display_data"
    }
   ],
   "source": [
    "# No green band, so combo here is NIR, R, B\n",
    "IRBands=  ['NIR', 'RED', 'BLUE']\n",
    "Map.addLayer(PROBA, {'bands':IRBands,'min': 20, 'max': 2000}, name='PROBA IR')\n",
    "Map"
   ]
  },
  {
   "cell_type": "code",
   "execution_count": 14,
   "id": "6443badf-6aa0-48e1-b116-1a3d653b8438",
   "metadata": {},
   "outputs": [
    {
     "name": "stdout",
     "output_type": "stream",
     "text": [
      "['I1', 'I2', 'I3', 'M1', 'M2', 'M3', 'M4', 'M5', 'M7', 'M8', 'M10', 'M11', 'SensorAzimuth', 'SensorZenith', 'SolarAzimuth', 'SolarZenith', 'iobs_res', 'num_observations_1km', 'num_observations_500m', 'obscov_1km', 'obscov_500m', 'orbit_pnt', 'QF1', 'QF2', 'QF3', 'QF4', 'QF5', 'QF6', 'QF7']\n"
     ]
    }
   ],
   "source": [
    "VIIRS = ee.ImageCollection(\"NOAA/VIIRS/001/VNP09GA\")\n",
    "\n",
    "# // Get ASTER images for the study period and region of interest.\n",
    "VIIRSImages = VIIRS.filterDate('2019-05-25', '2019-10-27').filterBounds(Point).sort(\"CLOUD_COVER_LAND\").first()\n",
    "\n",
    "VIIRSImage = VIIRSImages.multiply(0.0001)\n",
    "# Print the image band names to the console.\n",
    "band_names = VIIRSImage.bandNames()\n",
    "print(band_names.getInfo())"
   ]
  },
  {
   "cell_type": "code",
   "execution_count": 15,
   "id": "58652e2d-96ec-4059-a57b-3160381a0258",
   "metadata": {},
   "outputs": [
    {
     "data": {
      "application/vnd.jupyter.widget-view+json": {
       "model_id": "59ebf6d32f8c4528bd7f883cbc68cef8",
       "version_major": 2,
       "version_minor": 0
      },
      "text/plain": [
       "Map(center=[41.7352272667938, -111.83465310180142], controls=(WidgetControl(options=['position', 'transparent_…"
      ]
     },
     "metadata": {},
     "output_type": "display_data"
    }
   ],
   "source": [
    "IRBands=  ['M7', 'M5', 'M4']\n",
    "TrueBands=['M5','M4','M3']\n",
    "Map.addLayer(VIIRSImage, {'bands':IRBands,'min': 0, 'max': 1}, name='VIIRS IR')\n",
    "Map.addLayer(VIIRSImage, {'bands':TrueBands,'min': 0, 'max': 1}, name='VIIRS True')\n",
    "\n",
    "Map"
   ]
  },
  {
   "cell_type": "code",
   "execution_count": 16,
   "id": "c827184f-0834-468b-ad63-95800acbbe49",
   "metadata": {},
   "outputs": [
    {
     "name": "stdout",
     "output_type": "stream",
     "text": [
      "['B008', 'B009', 'B010', 'B011', 'B012', 'B013', 'B014', 'B015', 'B016', 'B017', 'B018', 'B019', 'B020', 'B021', 'B022', 'B023', 'B024', 'B025', 'B026', 'B027', 'B028', 'B029', 'B030', 'B031', 'B032', 'B033', 'B034', 'B035', 'B036', 'B037', 'B038', 'B039', 'B040', 'B041', 'B042', 'B043', 'B044', 'B045', 'B046', 'B047', 'B048', 'B049', 'B050', 'B051', 'B052', 'B053', 'B054', 'B055', 'B056', 'B057', 'B077', 'B078', 'B079', 'B080', 'B081', 'B082', 'B083', 'B084', 'B085', 'B086', 'B087', 'B088', 'B089', 'B090', 'B091', 'B092', 'B093', 'B094', 'B095', 'B096', 'B097', 'B098', 'B099', 'B100', 'B101', 'B102', 'B103', 'B104', 'B105', 'B106', 'B107', 'B108', 'B109', 'B110', 'B111', 'B112', 'B113', 'B114', 'B115', 'B116', 'B117', 'B118', 'B119', 'B120', 'B121', 'B122', 'B123', 'B124', 'B125', 'B126', 'B127', 'B128', 'B129', 'B130', 'B131', 'B132', 'B133', 'B134', 'B135', 'B136', 'B137', 'B138', 'B139', 'B140', 'B141', 'B142', 'B143', 'B144', 'B145', 'B146', 'B147', 'B148', 'B149', 'B150', 'B151', 'B152', 'B153', 'B154', 'B155', 'B156', 'B157', 'B158', 'B159', 'B160', 'B161', 'B162', 'B163', 'B164', 'B165', 'B166', 'B167', 'B168', 'B169', 'B170', 'B171', 'B172', 'B173', 'B174', 'B175', 'B176', 'B177', 'B178', 'B179', 'B180', 'B181', 'B182', 'B183', 'B184', 'B185', 'B186', 'B187', 'B188', 'B189', 'B190', 'B191', 'B192', 'B193', 'B194', 'B195', 'B196', 'B197', 'B198', 'B199', 'B200', 'B201', 'B202', 'B203', 'B204', 'B205', 'B206', 'B207', 'B208', 'B209', 'B210', 'B211', 'B212', 'B213', 'B214', 'B215', 'B216', 'B217', 'B218', 'B219', 'B220', 'B221', 'B222', 'B223', 'B224']\n"
     ]
    }
   ],
   "source": [
    "HYP = ee.ImageCollection(\"EO1/HYPERION\")\n",
    "\n",
    "# // Get ASTER images for the study period and region of interest.\n",
    "HYPImages = HYP.filterDate('2001-05-01', '2002-5-01').filterBounds(Point);\n",
    "\n",
    "# // Mosaic adjacent images into a single image.\n",
    "HYPImage = HYPImages.mosaic();\n",
    "#VIIRSImage = VIIRSImage.multiply(0.0001)\n",
    "# Print the image band names to the console.\n",
    "band_names = HYPImage.bandNames()\n",
    "print(band_names.getInfo())"
   ]
  },
  {
   "cell_type": "code",
   "execution_count": 21,
   "id": "aeb46642-104e-45d2-905b-20785d2934e6",
   "metadata": {},
   "outputs": [
    {
     "data": {
      "application/vnd.jupyter.widget-view+json": {
       "model_id": "59ebf6d32f8c4528bd7f883cbc68cef8",
       "version_major": 2,
       "version_minor": 0
      },
      "text/plain": [
       "Map(bottom=780850.0, center=[41.73775991204252, -111.81833267211915], controls=(WidgetControl(options=['positi…"
      ]
     },
     "metadata": {},
     "output_type": "display_data"
    }
   ],
   "source": [
    "# NIR, R, G\n",
    "IRBands=  ['B050', 'B023', 'B015']\n",
    "TrueBands=['B023','B015','B013']\n",
    "Map.addLayer(HYPImage, {'bands':IRBands,'min': 0, 'max': 7000}, name='HYPERION IR')\n",
    "Map.addLayer(HYPImage, {'bands':TrueBands,'min': 0, 'max': 7000}, name='HYPERION True')\n",
    "Map"
   ]
  },
  {
   "cell_type": "code",
   "execution_count": null,
   "id": "77cb1e3a-cc63-49ba-a89f-3f61fcb45d40",
   "metadata": {},
   "outputs": [],
   "source": []
  }
 ],
 "metadata": {
  "kernelspec": {
   "display_name": "Python 3 (ipykernel)",
   "language": "python",
   "name": "python3"
  },
  "language_info": {
   "codemirror_mode": {
    "name": "ipython",
    "version": 3
   },
   "file_extension": ".py",
   "mimetype": "text/x-python",
   "name": "python",
   "nbconvert_exporter": "python",
   "pygments_lexer": "ipython3",
   "version": "3.9.7"
  }
 },
 "nbformat": 4,
 "nbformat_minor": 5
}
