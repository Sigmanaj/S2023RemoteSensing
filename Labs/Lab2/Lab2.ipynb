{
 "cells": [
  {
   "cell_type": "markdown",
   "id": "7a2e30ed-b0ec-4013-9fd6-952dbde1d330",
   "metadata": {},
   "source": [
    "## Laboratory 2\n",
    "### Aaron Sigman\n",
    "\n",
    "There are more satellites and data sources available to you. Using your Lab 2 notebook and the one we showed how to create your own notebook (attached) create a notebook adding the following satellites in natural and read false color display (both)."
   ]
  },
  {
   "cell_type": "code",
   "execution_count": 1,
   "id": "ccf230b5-c3ba-4ef0-92e8-866c41610029",
   "metadata": {},
   "outputs": [],
   "source": [
    "from IPython.display import Image\n",
    "import ee\n",
    "ee.Initialize()"
   ]
  },
  {
   "cell_type": "code",
   "execution_count": 2,
   "id": "76a02c29-6d15-41ae-a47a-558272ab0d8c",
   "metadata": {},
   "outputs": [],
   "source": [
    "import geemap"
   ]
  },
  {
   "cell_type": "markdown",
   "id": "cf0c241f-4951-4a71-bc0f-7e3e0d3fbb4f",
   "metadata": {},
   "source": [
    "### Define a point"
   ]
  },
  {
   "cell_type": "code",
   "execution_count": 3,
   "id": "62021109-456f-4724-9b3d-35b12e80352b",
   "metadata": {},
   "outputs": [],
   "source": [
    "# Define point at Logan, UT\n",
    "Lat=41.735210\n",
    "Long=-111.834862\n",
    "Point = ee.Geometry.Point([Long, Lat])"
   ]
  },
  {
   "cell_type": "markdown",
   "id": "0709abc5-14b1-4a73-9a7b-4801bee92015",
   "metadata": {},
   "source": [
    "### Landsat8 Imagery for comparison"
   ]
  },
  {
   "cell_type": "code",
   "execution_count": 4,
   "id": "0bb80b45-9a5f-4470-8513-3e24bb8c2283",
   "metadata": {},
   "outputs": [],
   "source": [
    "# Call in landsat imagery, selecting region, date, and sorting by cloud cover\n",
    "landsat8 =ee.ImageCollection(\"LANDSAT/LC08/C02/T1_L2\").filterBounds(Point).filterDate('2021-06-01', '2021-09-01').sort('CLOUD_COVER_LAND').first()\n",
    "# Select bands\n",
    "image = landsat8.select(['SR_B1', 'SR_B2', 'SR_B3', 'SR_B4', 'SR_B5', 'SR_B6', 'SR_B7'])\n",
    "image = image.multiply(0.0000275).add(-0.2)"
   ]
  },
  {
   "cell_type": "code",
   "execution_count": 5,
   "id": "47092200-3092-4330-b84e-ca9a6ad03c4c",
   "metadata": {},
   "outputs": [
    {
     "data": {
      "application/vnd.jupyter.widget-view+json": {
       "model_id": "9bf2d4c06689465dbb1857b2e060038f",
       "version_major": 2,
       "version_minor": 0
      },
      "text/plain": [
       "Map(center=[20, 0], controls=(WidgetControl(options=['position', 'transparent_bg'], widget=HBox(children=(Togg…"
      ]
     },
     "metadata": {},
     "output_type": "display_data"
    }
   ],
   "source": [
    "# Call map, and add layers with bands you want\n",
    "Map = geemap.Map() # from ipygee\n",
    "bounds = Point.buffer(10000)\n",
    "Map.centerObject(bounds)\n",
    "trueColor = {'bands': ['SR_B4', 'SR_B3', 'SR_B2'], 'min': 0, 'max': 0.4}\n",
    "falseColor= {'bands': ['SR_B5', 'SR_B3', 'SR_B2'], 'min': 0, 'max': 0.4}\n",
    "Map.addLayer(image, trueColor, name='Landsat8 True')\n",
    "Map.addLayer(image, falseColor, name='Landsat8 False')\n",
    "Map"
   ]
  },
  {
   "cell_type": "code",
   "execution_count": 6,
   "id": "1d807fb3-1f2b-4476-94b2-786f528e6a94",
   "metadata": {},
   "outputs": [],
   "source": [
    "# Get ASTER images for the study period and region of interest.\n",
    "ASTERImages = ee.ImageCollection(\"ASTER/AST_L1T_003\").filterDate('2019-04-01', '2019-10-31').filterBounds(Point)\n",
    "# Mosaic adjacent images into a single image.\n",
    "ASTERImage = ASTERImages.mosaic();"
   ]
  },
  {
   "cell_type": "code",
   "execution_count": 7,
   "id": "2ba471eb-53a9-4e6c-9fa9-e4f09efabda1",
   "metadata": {},
   "outputs": [
    {
     "data": {
      "application/vnd.jupyter.widget-view+json": {
       "model_id": "9bf2d4c06689465dbb1857b2e060038f",
       "version_major": 2,
       "version_minor": 0
      },
      "text/plain": [
       "Map(bottom=195442.0, center=[41.7352272667938, -111.83465310180142], controls=(WidgetControl(options=['positio…"
      ]
     },
     "metadata": {},
     "output_type": "display_data"
    }
   ],
   "source": [
    "# ASTER doesn't have blue\n",
    "IRBands=  ['B3N', 'B02', 'B01']\n",
    "# Add layer to map\n",
    "Map.addLayer(ASTERImage, {'bands':IRBands,'min': 0, 'max': 255}, name='ASTER Image')\n",
    "Map"
   ]
  },
  {
   "cell_type": "code",
   "execution_count": 8,
   "id": "c9813621-f2d4-41d4-9f39-953f58b8e55e",
   "metadata": {},
   "outputs": [],
   "source": [
    "# // Get SEN2 images for the study period and region of interest.\n",
    "SEN2Images = ee.ImageCollection(\"COPERNICUS/S2\").filterDate('2019-04-01', '2019-10-31').filterBounds(Point)\n",
    "# // Mosaic adjacent images into a single image.\n",
    "SEN2Image = SEN2Images.mosaic();\n",
    "SEN2Image = SEN2Image.multiply(0.0001)"
   ]
  },
  {
   "cell_type": "code",
   "execution_count": 9,
   "id": "58c41578-b442-49bd-97a0-ffd10880a283",
   "metadata": {},
   "outputs": [
    {
     "data": {
      "application/vnd.jupyter.widget-view+json": {
       "model_id": "9bf2d4c06689465dbb1857b2e060038f",
       "version_major": 2,
       "version_minor": 0
      },
      "text/plain": [
       "Map(bottom=195442.0, center=[41.7352272667938, -111.83465310180142], controls=(WidgetControl(options=['positio…"
      ]
     },
     "metadata": {},
     "output_type": "display_data"
    }
   ],
   "source": [
    "# Select bands\n",
    "IRBands=  ['B8', 'B4', 'B3']\n",
    "TrueBands=['B4','B3','B2']\n",
    "# Add layers to map\n",
    "Map.addLayer(SEN2Image, {'bands':IRBands,'min': 0, 'max': 1}, name='SEN2 NIR')\n",
    "Map.addLayer(SEN2Image, {'bands':TrueBands,'min': 0, 'max': 1}, name='SEN2 True')\n",
    "Map"
   ]
  },
  {
   "cell_type": "code",
   "execution_count": 10,
   "id": "91d3329b-a9b1-4345-b168-b6c6a6adf3ea",
   "metadata": {},
   "outputs": [],
   "source": [
    "# Get SEN imagery\n",
    "SEN3 = ee.ImageCollection(\"COPERNICUS/S3/OLCI\").filterDate('2019-04-01', '2019-10-31').filterBounds(Point)\n",
    "# Correct bands for band scales\n",
    "rgb = SEN3.select(['Oa08_radiance', 'Oa06_radiance', 'Oa04_radiance']).median().multiply(ee.Image([0.00876539, 0.0123538, 0.0115198]))\n",
    "NIR = SEN3.select(['Oa14_radiance','Oa08_radiance', 'Oa06_radiance']).median().multiply(ee.Image([0.0086512, 0.00876539, 0.0123538]))\n",
    "\n",
    "visParams = {'min': 0,'max': 4,'gamma': 1.5}"
   ]
  },
  {
   "cell_type": "code",
   "execution_count": 11,
   "id": "54bece68-d020-461f-8915-6ea95ec39a77",
   "metadata": {},
   "outputs": [
    {
     "data": {
      "application/vnd.jupyter.widget-view+json": {
       "model_id": "9bf2d4c06689465dbb1857b2e060038f",
       "version_major": 2,
       "version_minor": 0
      },
      "text/plain": [
       "Map(bottom=195442.0, center=[41.7352272667938, -111.83465310180142], controls=(WidgetControl(options=['positio…"
      ]
     },
     "metadata": {},
     "output_type": "display_data"
    }
   ],
   "source": [
    "Map.addLayer(rgb, visParams, name='SEN3 True')\n",
    "Map.addLayer(NIR, visParams, name='SEN3 NIR')\n",
    "\n",
    "Map"
   ]
  },
  {
   "cell_type": "code",
   "execution_count": 12,
   "id": "050f9d61-efc5-45ff-aad1-d527616ae0bd",
   "metadata": {},
   "outputs": [],
   "source": [
    "# Get PROBA images\n",
    "PROBA = ee.ImageCollection(\"VITO/PROBAV/C1/S1_TOC_100M\").filterDate('2019-05-25', '2019-10-27').filterBounds(Point).sort(\"CLOUD_COVER_LAND\").first()"
   ]
  },
  {
   "cell_type": "code",
   "execution_count": 13,
   "id": "7723e0c8-f611-4acf-b154-549fb650eac0",
   "metadata": {},
   "outputs": [
    {
     "data": {
      "application/vnd.jupyter.widget-view+json": {
       "model_id": "9bf2d4c06689465dbb1857b2e060038f",
       "version_major": 2,
       "version_minor": 0
      },
      "text/plain": [
       "Map(bottom=195442.0, center=[41.7352272667938, -111.83465310180142], controls=(WidgetControl(options=['positio…"
      ]
     },
     "metadata": {},
     "output_type": "display_data"
    }
   ],
   "source": [
    "# No green band, so combo here is NIR, R, B\n",
    "IRBands=  ['NIR', 'RED', 'BLUE']\n",
    "Map.addLayer(PROBA, {'bands':IRBands,'min': 20, 'max': 2000}, name='PROBA IR')\n",
    "Map"
   ]
  },
  {
   "cell_type": "code",
   "execution_count": 14,
   "id": "6443badf-6aa0-48e1-b116-1a3d653b8438",
   "metadata": {},
   "outputs": [
    {
     "name": "stdout",
     "output_type": "stream",
     "text": [
      "['I1', 'I2', 'I3', 'M1', 'M2', 'M3', 'M4', 'M5', 'M7', 'M8', 'M10', 'M11', 'SensorAzimuth', 'SensorZenith', 'SolarAzimuth', 'SolarZenith', 'iobs_res', 'num_observations_1km', 'num_observations_500m', 'obscov_1km', 'obscov_500m', 'orbit_pnt', 'QF1', 'QF2', 'QF3', 'QF4', 'QF5', 'QF6', 'QF7']\n"
     ]
    }
   ],
   "source": [
    "VIIRSImages = ee.ImageCollection(\"NOAA/VIIRS/001/VNP09GA\").filterDate('2019-05-25', '2019-10-27').filterBounds(Point).sort(\"CLOUD_COVER_LAND\").first()\n",
    "VIIRSImage = VIIRSImages.multiply(0.0001)"
   ]
  },
  {
   "cell_type": "code",
   "execution_count": 15,
   "id": "58652e2d-96ec-4059-a57b-3160381a0258",
   "metadata": {},
   "outputs": [
    {
     "data": {
      "application/vnd.jupyter.widget-view+json": {
       "model_id": "9bf2d4c06689465dbb1857b2e060038f",
       "version_major": 2,
       "version_minor": 0
      },
      "text/plain": [
       "Map(bottom=195442.0, center=[41.7352272667938, -111.83465310180142], controls=(WidgetControl(options=['positio…"
      ]
     },
     "metadata": {},
     "output_type": "display_data"
    }
   ],
   "source": [
    "IRBands=  ['M7', 'M5', 'M4']\n",
    "TrueBands=['M5','M4','M3']\n",
    "Map.addLayer(VIIRSImage, {'bands':IRBands,'min': 0, 'max': 1}, name='VIIRS IR')\n",
    "Map.addLayer(VIIRSImage, {'bands':TrueBands,'min': 0, 'max': 1}, name='VIIRS True')\n",
    "\n",
    "Map"
   ]
  },
  {
   "cell_type": "code",
   "execution_count": 16,
   "id": "c827184f-0834-468b-ad63-95800acbbe49",
   "metadata": {},
   "outputs": [],
   "source": [
    "HYPImages = ee.ImageCollection(\"EO1/HYPERION\").filterDate('2001-05-01', '2002-5-01').filterBounds(Point)\n",
    "HYPImage = HYPImages.mosaic()"
   ]
  },
  {
   "cell_type": "code",
   "execution_count": 17,
   "id": "aeb46642-104e-45d2-905b-20785d2934e6",
   "metadata": {},
   "outputs": [
    {
     "data": {
      "application/vnd.jupyter.widget-view+json": {
       "model_id": "9bf2d4c06689465dbb1857b2e060038f",
       "version_major": 2,
       "version_minor": 0
      },
      "text/plain": [
       "Map(bottom=49086.0, center=[41.73545418490723, -111.83395385742189], controls=(WidgetControl(options=['positio…"
      ]
     },
     "metadata": {},
     "output_type": "display_data"
    }
   ],
   "source": [
    "# NIR, R, G\n",
    "IRBands=  ['B050', 'B023', 'B015']\n",
    "TrueBands=['B023','B015','B013']\n",
    "Map.addLayer(HYPImage, {'bands':IRBands,'min': 0, 'max': 7000}, name='HYPERION IR')\n",
    "Map.addLayer(HYPImage, {'bands':TrueBands,'min': 0, 'max': 7000}, name='HYPERION True')\n",
    "Map"
   ]
  },
  {
   "cell_type": "code",
   "execution_count": null,
   "id": "77cb1e3a-cc63-49ba-a89f-3f61fcb45d40",
   "metadata": {},
   "outputs": [],
   "source": []
  }
 ],
 "metadata": {
  "kernelspec": {
   "display_name": "Python 3 (ipykernel)",
   "language": "python",
   "name": "python3"
  },
  "language_info": {
   "codemirror_mode": {
    "name": "ipython",
    "version": 3
   },
   "file_extension": ".py",
   "mimetype": "text/x-python",
   "name": "python",
   "nbconvert_exporter": "python",
   "pygments_lexer": "ipython3",
   "version": "3.9.7"
  }
 },
 "nbformat": 4,
 "nbformat_minor": 5
}
