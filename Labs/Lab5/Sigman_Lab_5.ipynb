{
 "cells": [
  {
   "cell_type": "markdown",
   "metadata": {},
   "source": [
    "## Lab 5: Supervised classification"
   ]
  },
  {
   "cell_type": "markdown",
   "metadata": {},
   "source": [
    "***ATENTION:*** before running this lab, upgrade geemap, please go to File, New, Terminal, and pass the following command:"
   ]
  },
  {
   "cell_type": "raw",
   "metadata": {},
   "source": [
    "pip install -U geemap"
   ]
  },
  {
   "cell_type": "markdown",
   "metadata": {},
   "source": [
    "**Purpose:**\n",
    "The purpose of this lab is introduce you to concepts of supervised classification: prediction of nominal or numeric values of a geographic variable from other geographic variables.  You will explore processes of training data collection, classifier selection, classifier training, image classification and accuracy assessment.  At the completion of the lab, you will be able to perform supervised classification in Earth Engine.\n",
    "\n",
    "**Prerequisites:** Lab 4"
   ]
  },
  {
   "cell_type": "markdown",
   "metadata": {},
   "source": [
    "### 1. Introduction to classification and regression\n",
    "For present purposes, define prediction as guessing the value of some geographic variable of interest *g*, using a function *G* that takes as input a pixel vector **p**:"
   ]
  },
  {
   "cell_type": "markdown",
   "metadata": {},
   "source": [
    "\\begin{equation}\n",
    "G_{T}(p_i) = g_i \n",
    "\\end{equation}"
   ]
  },
  {
   "cell_type": "markdown",
   "metadata": {},
   "source": [
    "The *i* in this equation refers to a particular instance from a set of pixels.  Think of *G* as a guessing function and *gi* as the guess for pixel *i*.   The **T** in the subscript of *G* refers to a *training set* (a set of known values for p and the correct g), used to infer the structure of G.  You have to choose a suitable *G* to train with **T**.  When *g* is nominal (e.g. {'water', 'vegetation', 'bare'}), call this setup classification.  When g is numeric, call this setup regression.  This is an incredibly simplistic description of a problem addressed in a broad range of fields including mathematics, statistics, data mining, machine learning, etc.  Interested readers may see [Witten et al. (2011)](http://www.cs.waikato.ac.nz/ml/weka/book.html), [Hastie et al. (2009)](http://statweb.stanford.edu/~tibs/ElemStatLearn/) or [Goodfellow et al (2016)](http://www.deeplearningbook.org/)."
   ]
  },
  {
   "cell_type": "markdown",
   "metadata": {},
   "source": [
    "### Classification\n",
    "Classification in Earth Engine has a similar workflow to regression: build the training, train the classifier, classify an image.\n"
   ]
  },
  {
   "cell_type": "markdown",
   "metadata": {},
   "source": [
    "In classification, g is nominal.  The first step is to create training data manually.  (Alternatively, upload a shapefile  training data (of points or polygons), for example data collected on the ground with a GPS).  Using Google Earth we can also digitize training polygons."
   ]
  },
  {
   "cell_type": "code",
   "execution_count": 1,
   "metadata": {},
   "outputs": [
    {
     "data": {
      "application/vnd.jupyter.widget-view+json": {
       "model_id": "d711a390ca0548c48b7423c05c3fa6f0",
       "version_major": 2,
       "version_minor": 0
      },
      "text/plain": [
       "Map(center=[20, 0], controls=(WidgetControl(options=['position', 'transparent_bg'], widget=HBox(children=(Togg…"
      ]
     },
     "metadata": {},
     "output_type": "display_data"
    }
   ],
   "source": [
    "import ee\n",
    "ee.Initialize()\n",
    "\n",
    "import geemap\n",
    "Map = geemap.Map()\n",
    "Map"
   ]
  },
  {
   "cell_type": "markdown",
   "metadata": {},
   "source": [
    "Let's import a Landsat 8 image for San Francisco\n"
   ]
  },
  {
   "cell_type": "code",
   "execution_count": 2,
   "metadata": {},
   "outputs": [],
   "source": [
    "#point = ee.Geometry.Point([-122.4439, 37.7538])\n",
    "point = ee.Geometry.Point([-111.0633, 41.916835])\n",
    "\n",
    "landsat = ee.ImageCollection('LANDSAT/LC08/C02/T1_L2') \\\n",
    "    .filterBounds(point) \\\n",
    "    .filterDate('2023-03-10', '2023-04-06') \\\n",
    "    .sort('CLOUD_COVER') \\\n",
    "    .first() \\\n",
    "    .select('SR_B[1-7]')\n",
    "\n",
    "landsat = landsat.multiply(0.0000275).add(-0.2)\n",
    "\n",
    "\n",
    "vis_params = {\n",
    "    'min': 0,\n",
    "    'max': 0.2,\n",
    "    'bands': ['SR_B4', 'SR_B3', 'SR_B2']\n",
    "}"
   ]
  },
  {
   "cell_type": "code",
   "execution_count": 3,
   "metadata": {},
   "outputs": [
    {
     "data": {
      "application/vnd.jupyter.widget-view+json": {
       "model_id": "d711a390ca0548c48b7423c05c3fa6f0",
       "version_major": 2,
       "version_minor": 0
      },
      "text/plain": [
       "Map(center=[41.916835, -111.0633], controls=(WidgetControl(options=['position', 'transparent_bg'], widget=HBox…"
      ]
     },
     "metadata": {},
     "output_type": "display_data"
    }
   ],
   "source": [
    "\n",
    "# landsat = landsat.updateMask(waterMask)\n",
    "# print(landsat.getInfo())\n",
    "Map.centerObject(point, 8)\n",
    "Map.addLayer(landsat, vis_params, 'false color composite')\n",
    "\n",
    "Map"
   ]
  },
  {
   "cell_type": "markdown",
   "metadata": {},
   "source": [
    "Define areas that have unique characteristics: bare soil, water, vegetation"
   ]
  },
  {
   "cell_type": "markdown",
   "metadata": {},
   "source": [
    "We can use NDVI for help in diferentiating these areas:"
   ]
  },
  {
   "cell_type": "code",
   "execution_count": 4,
   "metadata": {},
   "outputs": [
    {
     "data": {
      "application/vnd.jupyter.widget-view+json": {
       "model_id": "d711a390ca0548c48b7423c05c3fa6f0",
       "version_major": 2,
       "version_minor": 0
      },
      "text/plain": [
       "Map(center=[41.916835, -111.0633], controls=(WidgetControl(options=['position', 'transparent_bg'], widget=HBox…"
      ]
     },
     "metadata": {},
     "output_type": "display_data"
    }
   ],
   "source": [
    "img_name ='ndvi'\n",
    "ndvi=landsat.normalizedDifference(['SR_B5', 'SR_B4'])\n",
    "\n",
    "vis_params = {\n",
    "  'min': -0.2,\n",
    "  'max': 1.0,\n",
    "  'palette': ['blue','white','brown','yellow', 'lime', 'green','navy']}\n",
    "\n",
    "Map.addLayer(ndvi,vis_params,img_name)\n",
    "\n",
    "colors = vis_params['palette']\n",
    "vmin = vis_params['min']\n",
    "vmax = vis_params['max']\n",
    "\n",
    "Map.add_colorbar_branca(colors=colors, vmin=vmin, vmax=vmax, layer_name=img_name)\n",
    "\n",
    "Map"
   ]
  },
  {
   "cell_type": "markdown",
   "metadata": {},
   "source": [
    "### Make training dataset\n",
    "\n",
    "There are several ways you can create a region for generating the training dataset.\n",
    "\n",
    "- Draw a shape (e.g., rectangle) on the map and the use `region = Map.user_roi`\n",
    "- Define a geometry, such as `region = ee.Geometry.Rectangle([-122.6003, 37.4831, -121.8036, 37.8288])`\n",
    "- Create a buffer zone around a point, such as `region = ee.Geometry.Point([-122.4439, 37.7538]).buffer(10000)`\n",
    "- If you don't define a region, it will use the image footprint by default"
   ]
  },
  {
   "cell_type": "code",
   "execution_count": 5,
   "metadata": {},
   "outputs": [
    {
     "data": {
      "application/vnd.jupyter.widget-view+json": {
       "model_id": "d711a390ca0548c48b7423c05c3fa6f0",
       "version_major": 2,
       "version_minor": 0
      },
      "text/plain": [
       "Map(center=[41.916835, -111.0633], controls=(WidgetControl(options=['position', 'transparent_bg'], widget=HBox…"
      ]
     },
     "metadata": {},
     "output_type": "display_data"
    }
   ],
   "source": [
    "# FOR BARE SOIL: \n",
    "\n",
    "soil_pnt1 = ee.Geometry.Point([-111.2550, 41.9493]).buffer(750)\n",
    "soil_pnt2 = ee.Geometry.Point([-111.1599, 42.0288]).buffer(750)\n",
    "soil_pnt3 = ee.Geometry.Point([-110.4738, 41.6114]).buffer(750)\n",
    "soil_pnt4 = ee.Geometry.Point([-112.3878, 41.5306]).buffer(750)\n",
    "\n",
    "# // Create a Feature from the Geometry.\n",
    "soil1 = ee.Feature(soil_pnt1, {'class': 2, 'name': 'bare soil'})\n",
    "soil2 = ee.Feature(soil_pnt2, {'class': 2, 'name': 'bare soil'})\n",
    "soil3 = ee.Feature(soil_pnt3, {'class': 2, 'name': 'bare soil'})\n",
    "soil4 = ee.Feature(soil_pnt4, {'class': 2, 'name': 'bare soil'})\n",
    "Map.addLayer(soil1, {'fill_color':'yellow', 'outline': 1}, name='soil1')\n",
    "Map.addLayer(soil2, {'fill_color':'yellow', 'outline': 1}, name='soil2')\n",
    "Map.addLayer(soil3, {'fill_color':'yellow', 'outline': 1}, name='soil3')\n",
    "Map.addLayer(soil4, {'fill_color':'yellow', 'outline': 1}, name='soil4')\n",
    "Map"
   ]
  },
  {
   "cell_type": "code",
   "execution_count": 6,
   "metadata": {},
   "outputs": [
    {
     "data": {
      "application/vnd.jupyter.widget-view+json": {
       "model_id": "d711a390ca0548c48b7423c05c3fa6f0",
       "version_major": 2,
       "version_minor": 0
      },
      "text/plain": [
       "Map(center=[41.916835, -111.0633], controls=(WidgetControl(options=['position', 'transparent_bg'], widget=HBox…"
      ]
     },
     "metadata": {},
     "output_type": "display_data"
    }
   ],
   "source": [
    "# FOR VEGETATION\n",
    "veg_pnt1 = ee.Geometry.Point([-111.6271, 42.3179]).buffer(400)\n",
    "veg_pnt2 = ee.Geometry.Point([-111.2781, 42.2846]).buffer(400)\n",
    "veg_pnt3 = ee.Geometry.Point([-111.3762, 42.2827]).buffer(400)\n",
    "veg_pnt4 = ee.Geometry.Point([-112.3497, 42.6440]).buffer(400)\n",
    "# Create a Feature from the Geometry.\n",
    "veg1 = ee.Feature(veg_pnt1, {'class': 1, 'name': 'vegetation'})\n",
    "veg2 = ee.Feature(veg_pnt2, {'class': 1, 'name': 'vegetation'})\n",
    "veg3 = ee.Feature(veg_pnt3, {'class': 1, 'name': 'vegetation'})\n",
    "veg4 = ee.Feature(veg_pnt4, {'class': 1, 'name': 'vegetation'})\n",
    "\n",
    "Map.addLayer(veg1, {'fill_color':'green', 'outline': 1}, name='vegetation1')\n",
    "Map.addLayer(veg2, {'fill_color':'green', 'outline': 1}, name='vegetation2')\n",
    "Map.addLayer(veg3, {'fill_color':'green', 'outline': 1}, name='vegetation3')\n",
    "Map.addLayer(veg4, {'fill_color':'green', 'outline': 1}, name='vegetation4')\n",
    "Map"
   ]
  },
  {
   "cell_type": "code",
   "execution_count": 7,
   "metadata": {},
   "outputs": [
    {
     "data": {
      "application/vnd.jupyter.widget-view+json": {
       "model_id": "d711a390ca0548c48b7423c05c3fa6f0",
       "version_major": 2,
       "version_minor": 0
      },
      "text/plain": [
       "Map(center=[41.916835, -111.0633], controls=(WidgetControl(options=['position', 'transparent_bg'], widget=HBox…"
      ]
     },
     "metadata": {},
     "output_type": "display_data"
    }
   ],
   "source": [
    "# FOR WATER\n",
    "wat_pnt1 = ee.Geometry.Point([-112.6644, 41.3003]).buffer(500)\n",
    "wat_pnt2 = ee.Geometry.Point([-112.3824, 41.0801]).buffer(500)\n",
    "wat_pnt3 = ee.Geometry.Point([-112.0877, 41.3790]).buffer(500)\n",
    "wat_pnt4 = ee.Geometry.Point([-111.2988, 42.0454]).buffer(500)\n",
    "# // Create a Feature from the Geometry.\n",
    "water1 = ee.Feature(wat_pnt1, {'class': 0, 'name': 'water'})\n",
    "water2 = ee.Feature(wat_pnt2, {'class': 0, 'name': 'water'})\n",
    "water3 = ee.Feature(wat_pnt3, {'class': 0, 'name': 'water'})\n",
    "water4 = ee.Feature(wat_pnt4, {'class': 0, 'name': 'water'})\n",
    "\n",
    "Map.addLayer(water1, {'fill_color':'blue', 'outline': 1}, name='water1')\n",
    "Map.addLayer(water2, {'fill_color':'blue', 'outline': 1}, name='water2')\n",
    "Map.addLayer(water3, {'fill_color':'blue', 'outline': 1}, name='water3')\n",
    "Map.addLayer(water4, {'fill_color':'blue', 'outline': 1}, name='water4')\n",
    "Map"
   ]
  },
  {
   "cell_type": "markdown",
   "metadata": {},
   "source": [
    "Merge Features into a Feature Collection"
   ]
  },
  {
   "cell_type": "code",
   "execution_count": 8,
   "metadata": {},
   "outputs": [],
   "source": [
    "trainingFeatures = ee.FeatureCollection([water1,water2,water3,water4,veg1,veg2,veg3,veg4,soil1,soil2,soil3,soil4])"
   ]
  },
  {
   "cell_type": "markdown",
   "metadata": {},
   "source": [
    "Specify the bands of the Landsat composite to be used as predictors (i.e. the elements of p):\n"
   ]
  },
  {
   "cell_type": "code",
   "execution_count": 9,
   "metadata": {},
   "outputs": [],
   "source": [
    "predictionBands = ['SR_B2', 'SR_B3', 'SR_B4', 'SR_B5' ,'SR_B6','SR_B7']"
   ]
  },
  {
   "cell_type": "markdown",
   "metadata": {},
   "source": [
    "In the merged FeatureCollection, each Feature should have a property called 'class' where the classes are consecutive integers, one for each class, starting at 0. Verify that this is true."
   ]
  },
  {
   "cell_type": "code",
   "execution_count": 10,
   "metadata": {},
   "outputs": [
    {
     "name": "stdout",
     "output_type": "stream",
     "text": [
      "{'type': 'Feature', 'geometry': {'type': 'Polygon', 'coordinates': [[[-112.66440000000001, 41.30479943297575], [-112.66607296798168, 41.30462034343331], [-112.66761274194504, 41.30409733314919], [-112.66889673815861, 41.30327204131005], [-112.66982274637458, 41.30221017110426], [-112.67031706705797, 41.30099625664007], [-112.67034037452255, 41.29972693114703], [-112.66989084031316, 41.29850323321184], [-112.66900427038155, 41.29742256402102], [-112.66775124774776, 41.29657093583999], [-112.66623151033254, 41.29601612824594], [-112.66456601265688, 41.29580229600171], [-112.66288730303476, 41.29594645680805], [-112.66132898062094, 41.29643713773837], [-112.66001506907061, 41.29723528777452], [-112.65905015012532, 41.29827738402657], [-112.65851104066036, 41.299480485080736], [-112.65844067515309, 41.30074883018779], [-112.6588446814335, 41.3019814599163], [-112.65969092436596, 41.30308025226091], [-112.66091205638863, 41.30395773461354], [-112.66241087420293, 41.304544049309634], [-112.66406805652596, 41.304792517441065], [-112.66440000000001, 41.30479943297575]]]}, 'id': '0', 'properties': {'class': 0, 'name': 'water'}}\n"
     ]
    }
   ],
   "source": [
    "print(trainingFeatures.first().getInfo())"
   ]
  },
  {
   "cell_type": "markdown",
   "metadata": {},
   "source": [
    "  Create a training set T for the classifier by sampling the Landsat composite with the merged features:"
   ]
  },
  {
   "cell_type": "code",
   "execution_count": 11,
   "metadata": {},
   "outputs": [],
   "source": [
    "classifierTraining = landsat.select(predictionBands).sampleRegions(\n",
    "      collection= trainingFeatures, \n",
    "      properties= ['class'], \n",
    "      scale= 30\n",
    "    );"
   ]
  },
  {
   "cell_type": "code",
   "execution_count": 12,
   "metadata": {},
   "outputs": [],
   "source": [
    "# // Randomly split the data into 60% for training, and 40% for testing\n",
    "trainingTesting = classifierTraining.randomColumn('random',111009);\n",
    "\n",
    "training = trainingTesting.filter(ee.Filter.lt('random', 0.66));\n",
    "\n",
    "testing = trainingTesting.filter(ee.Filter.gte('random', 0.66));"
   ]
  },
  {
   "cell_type": "markdown",
   "metadata": {},
   "source": [
    "### - Non-linear regression functions"
   ]
  },
  {
   "cell_type": "markdown",
   "metadata": {},
   "source": [
    "There is a pletora of options for classification in Google Earth Engine. Here is an screenshot of these options:"
   ]
  },
  {
   "cell_type": "code",
   "execution_count": 13,
   "metadata": {},
   "outputs": [
    {
     "data": {
      "text/html": [
       "<img src=\"https://i.imgur.com/vROsEiq.png\"/>"
      ],
      "text/plain": [
       "<IPython.core.display.Image object>"
      ]
     },
     "execution_count": 13,
     "metadata": {},
     "output_type": "execute_result"
    }
   ],
   "source": [
    "# ![](https://i.imgur.com/vROsEiq.png)\n",
    "from IPython.display import Image\n",
    "from IPython.core.display import HTML \n",
    "Image(url= \"https://i.imgur.com/vROsEiq.png\")#, width=100, height=100)"
   ]
  },
  {
   "cell_type": "markdown",
   "metadata": {},
   "source": [
    "- For example, a Classification and Regression Tree (CART, see Brieman et al. 1984) is a machine learning algorithm that can learn non-linear patterns in your data.  Reusing the T table (without the constant term), train a CART as follows:"
   ]
  },
  {
   "cell_type": "code",
   "execution_count": 14,
   "metadata": {},
   "outputs": [],
   "source": [
    "#hyperparameter to tune\n",
    "leaf_val=3\n",
    "\n",
    "cartclassifier = ee.Classifier.smileCart(minLeafPopulation=leaf_val).train(\n",
    "      features= training, \n",
    "      classProperty= 'class', \n",
    "      inputProperties= predictionBands\n",
    "    )"
   ]
  },
  {
   "cell_type": "markdown",
   "metadata": {},
   "source": [
    "- Make predictions over the input imagery (classify in this context is a misnomer):\n"
   ]
  },
  {
   "cell_type": "code",
   "execution_count": 15,
   "metadata": {},
   "outputs": [
    {
     "data": {
      "application/vnd.jupyter.widget-view+json": {
       "model_id": "d711a390ca0548c48b7423c05c3fa6f0",
       "version_major": 2,
       "version_minor": 0
      },
      "text/plain": [
       "Map(center=[41.916835, -111.0633], controls=(WidgetControl(options=['position', 'transparent_bg'], widget=HBox…"
      ]
     },
     "metadata": {},
     "output_type": "display_data"
    }
   ],
   "source": [
    "cartClasifficationImage = landsat.select(predictionBands).classify(cartclassifier);\n",
    "\n",
    "Map.addLayer(cartClasifficationImage, {'min': 0, 'max': 2,\n",
    "                                   'palette':['blue', 'green','yellow']},'CART classification');\n",
    "Map"
   ]
  },
  {
   "cell_type": "markdown",
   "metadata": {},
   "source": [
    "Use a Random Forest classifier"
   ]
  },
  {
   "cell_type": "code",
   "execution_count": 16,
   "metadata": {},
   "outputs": [],
   "source": [
    "# hyperparameter to tune\n",
    "trees_val=2\n",
    "\n",
    "rfClassification = ee.Classifier.smileRandomForest(numberOfTrees=trees_val, seed=111009).train(\n",
    "      features= training, \n",
    "      classProperty= 'class', \n",
    "      inputProperties= predictionBands\n",
    "    )"
   ]
  },
  {
   "cell_type": "code",
   "execution_count": 17,
   "metadata": {},
   "outputs": [
    {
     "data": {
      "application/vnd.jupyter.widget-view+json": {
       "model_id": "d711a390ca0548c48b7423c05c3fa6f0",
       "version_major": 2,
       "version_minor": 0
      },
      "text/plain": [
       "Map(center=[41.916835, -111.0633], controls=(WidgetControl(options=['position', 'transparent_bg'], widget=HBox…"
      ]
     },
     "metadata": {},
     "output_type": "display_data"
    }
   ],
   "source": [
    "# // Perform the RF regression on the landsat image\n",
    "rfClassificationImage = landsat.select(predictionBands).classify(rfClassification);\n",
    "    \n",
    "# // Visualize the RF regression\n",
    "Map.addLayer(rfClassificationImage,  {'min': 0, 'max': 2,\n",
    "                                   'palette':['blue','green', 'yellow']}, 'RF classification');\n",
    "\n",
    "Map"
   ]
  },
  {
   "cell_type": "markdown",
   "metadata": {},
   "source": [
    "Using Support Vector Machines"
   ]
  },
  {
   "cell_type": "code",
   "execution_count": 18,
   "metadata": {},
   "outputs": [],
   "source": [
    "# hyperparameter to tune\n",
    "gamma_val =0.2\n",
    "\n",
    "# // Create an SVM classifier with custom parameters.\n",
    "svClassification = ee.Classifier.libsvm(svmType='C_SVC',kernelType='RBF',gamma=gamma_val).train(\n",
    "      features= training, \n",
    "      classProperty= 'class', \n",
    "      inputProperties= predictionBands\n",
    "    )"
   ]
  },
  {
   "cell_type": "code",
   "execution_count": 19,
   "metadata": {},
   "outputs": [
    {
     "data": {
      "application/vnd.jupyter.widget-view+json": {
       "model_id": "d711a390ca0548c48b7423c05c3fa6f0",
       "version_major": 2,
       "version_minor": 0
      },
      "text/plain": [
       "Map(center=[41.916835, -111.0633], controls=(WidgetControl(options=['position', 'transparent_bg'], widget=HBox…"
      ]
     },
     "metadata": {},
     "output_type": "display_data"
    }
   ],
   "source": [
    "# // Perform the RF regression on the landsat image\n",
    "svClassificationImage = landsat.select(predictionBands).classify(svClassification);\n",
    "    \n",
    "# // Visualize the RF regression\n",
    "Map.addLayer(svClassificationImage,{'min': 0, 'max': 2,\n",
    "                                   'palette':['blue', 'green','yellow']}, 'SV CLassification');\n",
    "Map"
   ]
  },
  {
   "cell_type": "markdown",
   "metadata": {},
   "source": [
    "In the classification context, accuracy measurements are often derived from a [confusion matrix](https://en.wikipedia.org/wiki/Confusion_matrix)."
   ]
  },
  {
   "cell_type": "markdown",
   "metadata": {},
   "source": [
    "### Accuracy Assessment"
   ]
  },
  {
   "cell_type": "markdown",
   "metadata": {},
   "source": [
    "Print the confusion matrix and expand the object to inspect the matrix.  The entries represent number of pixels.  Items on the diagonal represent correct classification.  Items off the diagonal are misclassifications, where the class in row i is classified as column j.  It's also possible to get basic descriptive statistics from the confusion matrix.  For example:"
   ]
  },
  {
   "cell_type": "markdown",
   "metadata": {},
   "source": [
    "### What is a confusion matrix?\n",
    "\n",
    "A confusion matrix is used here to compare two different data, one the true value and the other the predicted values. We will be using it primarily to compute overall accuracy between the model and the different machine learning results, but confusion matrices also provide explicit information about which  classes were classified incorrectly; not just if pixels were classified incorrectly, but what class they were incorrectly classified as. For an example of how to use and interpret a confusion matrix for LULC remote sensing visit https://www.harrisgeospatial.com/docs/CalculatingConfusionMatrices.html and \n",
    "http://gsp.humboldt.edu/olm_2019/courses/GSP_216_Online/lesson6-2/metrics.html"
   ]
  },
  {
   "cell_type": "code",
   "execution_count": 20,
   "metadata": {},
   "outputs": [],
   "source": [
    "# // Perform the CART classification on the test set\n",
    "\n",
    "test=testing.classify(cartclassifier)\n",
    "# print(test.first().getInfo())\n",
    "# // Get a confusion matrix representing expected accuracy.\n",
    "testAccuracy = test.errorMatrix('class', 'classification');"
   ]
  },
  {
   "cell_type": "code",
   "execution_count": 21,
   "metadata": {},
   "outputs": [
    {
     "name": "stdout",
     "output_type": "stream",
     "text": [
      "ConfusionMatrix\n",
      "[[1142    0    6]\n",
      " [   0  769   10]\n",
      " [  13   11 2554]]\n",
      "Overall Accuracy: 0.9911209766925638\n",
      "Producers Accuracy: [[0.9947735191637631], [0.9871630295250321], [0.9906904577191621]]\n",
      "Consumers Accuracy: [[0.9887445887445887, 0.985897435897436, 0.9937743190661479]]\n",
      "Kappa: 0.9846455416472641\n"
     ]
    }
   ],
   "source": [
    "import numpy as np\n",
    "errormaxtrix=np.array(testAccuracy.array().getInfo())\n",
    "\n",
    "print(testAccuracy.name());\n",
    "print(errormaxtrix)\n",
    "print('Overall Accuracy:', testAccuracy.accuracy().getInfo());\n",
    "print('Producers Accuracy:', testAccuracy.producersAccuracy().getInfo());\n",
    "print('Consumers Accuracy:', testAccuracy.consumersAccuracy().getInfo());\n",
    "print('Kappa:', testAccuracy.kappa().getInfo());\n"
   ]
  },
  {
   "cell_type": "code",
   "execution_count": 22,
   "metadata": {},
   "outputs": [
    {
     "name": "stdout",
     "output_type": "stream",
     "text": [
      "ConfusionMatrix\n",
      "[[1142    0    6]\n",
      " [   1  775    3]\n",
      " [  34   35 2509]]\n",
      "Overall Accuracy: 0.9824639289678135\n",
      "Producers Accuracy: [[0.9947735191637631], [0.9948652118100129], [0.9732350659425911]]\n",
      "Consumers Accuracy: [[0.9702633814783348, 0.9567901234567902, 0.9964257347100873]]\n",
      "Kappa: 0.9698940949216404\n"
     ]
    }
   ],
   "source": [
    "# // Perform the RF classification on the test set\n",
    "\n",
    "test=testing.classify(rfClassification)\n",
    "# print(test.first().getInfo())\n",
    "# // Get a confusion matrix representing expected accuracy.\n",
    "testAccuracy = test.errorMatrix('class', 'classification');\n",
    "\n",
    "errormaxtrix=np.array(testAccuracy.array().getInfo())\n",
    "\n",
    "print(testAccuracy.name());\n",
    "print(errormaxtrix)\n",
    "print('Overall Accuracy:', testAccuracy.accuracy().getInfo());\n",
    "print('Producers Accuracy:', testAccuracy.producersAccuracy().getInfo());\n",
    "print('Consumers Accuracy:', testAccuracy.consumersAccuracy().getInfo());\n",
    "print('Kappa:', testAccuracy.kappa().getInfo());\n"
   ]
  },
  {
   "cell_type": "code",
   "execution_count": 23,
   "metadata": {},
   "outputs": [
    {
     "name": "stdout",
     "output_type": "stream",
     "text": [
      "ConfusionMatrix\n",
      "[[ 841    0  307]\n",
      " [   0  339  440]\n",
      " [  10   10 2558]]\n",
      "Overall Accuracy: 0.8297447280799112\n",
      "Producers Accuracy: [[0.7325783972125436], [0.43517329910141206], [0.9922420480993018]]\n",
      "Consumers Accuracy: [[0.9882491186839013, 0.9713467048710601, 0.7739788199697428]]\n",
      "Kappa: 0.6717307073322644\n"
     ]
    }
   ],
   "source": [
    "# // Perform the SVR classification on the test set\n",
    "\n",
    "test=testing.classify(svClassification)\n",
    "# print(test.first().getInfo())\n",
    "# // Get a confusion matrix representing expected accuracy.\n",
    "testAccuracy = test.errorMatrix('class', 'classification');\n",
    "\n",
    "errormaxtrix=np.array(testAccuracy.array().getInfo())\n",
    "\n",
    "print(testAccuracy.name());\n",
    "print(errormaxtrix)\n",
    "print('Overall Accuracy:', testAccuracy.accuracy().getInfo());\n",
    "print('Producers Accuracy:', testAccuracy.producersAccuracy().getInfo());\n",
    "print('Consumers Accuracy:', testAccuracy.consumersAccuracy().getInfo());\n",
    "print('Kappa:', testAccuracy.kappa().getInfo());\n"
   ]
  },
  {
   "cell_type": "markdown",
   "metadata": {},
   "source": [
    "### BONUS: Hyperparameters tuning\n",
    "\n",
    "A random forest is a collection of random trees the predictions of which are used to compute an average (regression) or vote on a label (classification).  Note that the only parameter to the classifier is the number of trees.  How many trees should you use?  Making that choice is best done by hyperparameter tuning.  For example, \n"
   ]
  },
  {
   "cell_type": "code",
   "execution_count": 24,
   "metadata": {},
   "outputs": [
    {
     "data": {
      "image/png": "[encoded data removed]",
      "text/plain": [
       "<Figure size 432x288 with 1 Axes>"
      ]
     },
     "metadata": {
      "needs_background": "light"
     },
     "output_type": "display_data"
    }
   ],
   "source": [
    "numTrees = ee.List.sequence(1, 10, 1)\n",
    "\n",
    "\n",
    "def trees(t):\n",
    "    rfclass = ee.Classifier.smileRandomForest(numberOfTrees=t, seed=111009).train(\n",
    "    features= training, \n",
    "    classProperty= 'class', \n",
    "    inputProperties= predictionBands)\n",
    "    \n",
    "    rfTesting = testing.classify(rfclass)\n",
    "    testAccuracy = rfTesting.errorMatrix('class', 'classification');\n",
    "    kappa= testAccuracy.kappa();       \n",
    "    return kappa\n",
    "\n",
    "\n",
    "kappa_trees=numTrees.map(trees)\n",
    "value_info = kappa_trees.getInfo()\n",
    "\n",
    "# print(rmse_trees.getInfo())\n",
    "\n",
    "import pandas as pd\n",
    "df =pd.DataFrame(value_info,columns=['kappa'])\n",
    "df['numTrees'] = numTrees.getInfo() \n",
    "\n",
    "ax =df.plot.line(x='numTrees', \n",
    "             y='kappa',\n",
    "             title= 'Impact of Number of Trees in Random Forest'\n",
    "             )\n",
    "ax.grid()"
   ]
  },
  {
   "cell_type": "markdown",
   "metadata": {},
   "source": [
    "same for svc"
   ]
  },
  {
   "cell_type": "code",
   "execution_count": 25,
   "metadata": {},
   "outputs": [
    {
     "data": {
      "image/png": "[encoded data removed]",
      "text/plain": [
       "<Figure size 432x288 with 1 Axes>"
      ]
     },
     "metadata": {
      "needs_background": "light"
     },
     "output_type": "display_data"
    }
   ],
   "source": [
    "gamma_vals = ee.List.sequence(0.01, 0.2, 0.02)\n",
    "\n",
    "\n",
    "def gammas(t):\n",
    "    svclass = ee.Classifier.libsvm(svmType='C_SVC',kernelType='RBF',gamma=t).train(\n",
    "      features= training, \n",
    "      classProperty= 'class', \n",
    "      inputProperties= predictionBands\n",
    "    )\n",
    "    \n",
    "    svTesting = testing.classify(svclass)\n",
    "    testAccuracy = svTesting.errorMatrix('class', 'classification');\n",
    "    kappa= testAccuracy.kappa();       \n",
    "    return kappa\n",
    "\n",
    "\n",
    "kappa_gama=gamma_vals.map(gammas)\n",
    "value_info = kappa_gama.getInfo()\n",
    "\n",
    "# print(rmse_gama.getInfo())\n",
    "\n",
    "import pandas as pd\n",
    "df =pd.DataFrame(value_info,columns=['kappa'])\n",
    "df['Gamma'] = gamma_vals.getInfo() \n",
    "\n",
    "ax =df.plot.line(x='Gamma', \n",
    "             y='kappa',\n",
    "             title= 'Impact of Gamma in SV'\n",
    "             )\n",
    "ax.grid()"
   ]
  },
  {
   "cell_type": "markdown",
   "metadata": {},
   "source": [
    "now for Cart"
   ]
  },
  {
   "cell_type": "code",
   "execution_count": 26,
   "metadata": {},
   "outputs": [
    {
     "data": {
      "image/png": "[encoded data removed]",
      "text/plain": [
       "<Figure size 432x288 with 1 Axes>"
      ]
     },
     "metadata": {
      "needs_background": "light"
     },
     "output_type": "display_data"
    }
   ],
   "source": [
    "leaf_vals = ee.List.sequence(1, 10, 1)\n",
    "\n",
    "\n",
    "def leaves(t):\n",
    "    cartclass= ee.Classifier.smileCart(minLeafPopulation=t).train(\n",
    "      features= training, \n",
    "      classProperty= 'class', \n",
    "      inputProperties= predictionBands\n",
    "    )\n",
    "    \n",
    "    cartTesting = testing.classify(cartclass)\n",
    "    testAccuracy = cartTesting.errorMatrix('class', 'classification');\n",
    "    kappa= testAccuracy.kappa();       \n",
    "    return kappa\n",
    "\n",
    "\n",
    "kappa_leaf=leaf_vals.map(leaves)\n",
    "value_info = kappa_leaf.getInfo()\n",
    "\n",
    "# print(rmse_gama.getInfo())\n",
    "\n",
    "import pandas as pd\n",
    "df =pd.DataFrame(value_info,columns=['kappa'])\n",
    "df['leaf'] = leaf_vals.getInfo() \n",
    "\n",
    "ax =df.plot.line(x='leaf', \n",
    "             y='kappa',\n",
    "             title= 'Impact of minLeafPopulation in cart'\n",
    "             )\n",
    "ax.grid()"
   ]
  },
  {
   "cell_type": "markdown",
   "metadata": {},
   "source": [
    "### Assignment\n",
    "\n",
    "Recreate this notebook for Logan UT, and add 3 more polygons that describe soil, vegetation and water (there must be 3 polygons per class). Make sure your CART, SVC and Random Forest uses the tuned hyperparameters when discussing your accuracy found. Are the models behaving similarly? Do they statistically perform different than this example? Discuss it.\n",
    "\n",
    "Note: if after a while the code does not run, or shows an error, reduce the size of the polygons. "
   ]
  },
  {
   "cell_type": "code",
   "execution_count": null,
   "metadata": {},
   "outputs": [],
   "source": []
  },
  {
   "cell_type": "code",
   "execution_count": null,
   "metadata": {},
   "outputs": [],
   "source": []
  }
 ],
 "metadata": {
  "kernelspec": {
   "display_name": "Python 3 (ipykernel)",
   "language": "python",
   "name": "python3"
  },
  "language_info": {
   "codemirror_mode": {
    "name": "ipython",
    "version": 3
   },
   "file_extension": ".py",
   "mimetype": "text/x-python",
   "name": "python",
   "nbconvert_exporter": "python",
   "pygments_lexer": "ipython3",
   "version": "3.9.7"
  },
  "latex_envs": {
   "LaTeX_envs_menu_present": true,
   "autoclose": false,
   "autocomplete": true,
   "bibliofile": "biblio.bib",
   "cite_by": "apalike",
   "current_citInitial": 1,
   "eqLabelWithNumbers": true,
   "eqNumInitial": 1,
   "hotkeys": {
    "equation": "Ctrl-E",
    "itemize": "Ctrl-I"
   },
   "labels_anchors": false,
   "latex_user_defs": false,
   "report_style_numbering": false,
   "user_envs_cfg": false
  },
  "widgets": {
   "application/vnd.jupyter.widget-state+json": {
    "state": {},
    "version_major": 2,
    "version_minor": 0
   }
  }
 },
 "nbformat": 4,
 "nbformat_minor": 4
}
