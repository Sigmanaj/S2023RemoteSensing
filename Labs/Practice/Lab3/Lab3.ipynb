{
 "cells": [
  {
   "cell_type": "markdown",
   "id": "1c39898b-0648-4a3d-ad92-f58a83d016b9",
   "metadata": {},
   "source": [
    "## Lab 2\n",
    "### Aaron Sigman\n",
    "There are two types of indices: broadband and narrowband as shown in this paper: \"Evaluation of Broadband and Narrowband Vegetation Indices for the Identification of Archaeological Crop Marks\". Implement 4 other broadbands vegetation indices for Logan, UT as set up in this notebook. Do you note a difference in response between the NDVI and EVI vs the ones you implemented in agricultural areas, bare soils, and water? Please explain it in a notebook."
   ]
  },
  {
   "cell_type": "markdown",
   "id": "a1e0f12c-7244-46a1-951c-07108903195f",
   "metadata": {},
   "source": [
    "- Determine what other indicies exist. \n",
    "\n",
    "Indicies used in the lab: NDVI, EVI, NDWI, NDBSI, NDSI \\\n",
    "Broadband indicies to pick from: Green NDVI, SR, MSR, MTVI2, RDVI, IRG, PVI, RVI, TSAVI, MSAVI, ARVI, GEMI, SARVI, OSAVI, SR x NDVI \\\n",
    "\n",
    "- Select 4 bands to use. \n",
    "    - Green NDVI (Green Normalized Difference Vegetation Index) \n",
    "    \n",
    "    GNDVI = (p$_{NIR}$-p$_{green}$)/(p$_{NIR}$+p$_{green}$)\n",
    "    - MSR (Modified Simple Ratio) \n",
    "    \n",
    "    MSR = p$_{red}$/(p$_{NIR}$/p$_{red}$ +1)$^{0.5}$\n",
    "    - RDVI (Renormalize Difference Vegetation Index) \n",
    "    \n",
    "    RDVI = (p$_{NIR}$ – p$_{red}$)/(p$_{NIR}$ + p$_{red}$)$^{0.5}$\n",
    "    - MSAVI (Modified Soil Adjusted Vegetation Index) \n",
    "    \n",
    "    MSAVI = [(2p$_{NIR}$+1-[(2p$_{NIR}$+1)$^2$-8(p$_{NIR}$-p$_{red}$)]$^{0.5}$]/2"
   ]
  },
  {
   "cell_type": "markdown",
   "id": "d93d6b2b-c21e-45d5-a5e7-e7ad65035b86",
   "metadata": {},
   "source": [
    "### Initialize display and earth engine"
   ]
  },
  {
   "cell_type": "code",
   "execution_count": 1,
   "id": "f5124a4d-1534-4c83-a83d-809e129abafa",
   "metadata": {},
   "outputs": [],
   "source": [
    "from IPython.display import Image\n",
    "import ee\n",
    "ee.Initialize()"
   ]
  },
  {
   "cell_type": "code",
   "execution_count": 2,
   "id": "dd9b8900-b09f-4141-bde2-8536e3d8294a",
   "metadata": {},
   "outputs": [],
   "source": [
    "import geemap"
   ]
  },
  {
   "cell_type": "markdown",
   "id": "8be5a712-07c6-43cf-8865-86b8d5e8977a",
   "metadata": {},
   "source": [
    "### Define a point in Logan, Utah"
   ]
  },
  {
   "cell_type": "code",
   "execution_count": 3,
   "id": "9914d7ce-573f-4086-97d5-4695d67f7024",
   "metadata": {},
   "outputs": [],
   "source": [
    "# Define point at Logan, UT\n",
    "Lat=41.735210\n",
    "Long=-111.834862\n",
    "Point = ee.Geometry.Point([Long, Lat])"
   ]
  },
  {
   "cell_type": "markdown",
   "id": "8bd03821-1067-4fae-8ca1-3f2390baad9e",
   "metadata": {},
   "source": [
    "### Get Landsat8 imagery\n",
    "- Get landsat8 imagery using reference location from google earth engine datasets\n",
    "    - Filter by images that overlap point\n",
    "    - Filter by selected dates\n",
    "    - Sort by cloud cover\n",
    "    - Select the first (least cloudy) image to use\n",
    "- Select the bands that we are going to use (Bands 1-7)\n",
    "- Correct the image using the correction factor and offset from google earth engine datasets"
   ]
  },
  {
   "cell_type": "code",
   "execution_count": 4,
   "id": "34a65edd-88da-4cb8-ac1c-6cf719ac274d",
   "metadata": {},
   "outputs": [],
   "source": [
    "landsat8 =ee.ImageCollection(\"LANDSAT/LC08/C02/T1_L2\") #change\n",
    "\n",
    "image = ee.Image(landsat8\n",
    "    .filterBounds(Point)\n",
    "    .filterDate('2021-06-01', '2021-09-01')\n",
    "    .sort('CLOUD_COVER_LAND')\n",
    "    .first())\n",
    "\n",
    "image = image.select(['SR_B1', 'SR_B2', 'SR_B3', 'SR_B4', 'SR_B5', 'SR_B6', 'SR_B7'])\n",
    "\n",
    "\n",
    "image = image.multiply(0.0000275).add(-0.2)"
   ]
  },
  {
   "cell_type": "markdown",
   "id": "e47d1a43-2d31-4475-a894-a68016c01133",
   "metadata": {},
   "source": [
    "### Create Interactive Map\n",
    "- Center around the selected point.\n",
    "- Add the true color image"
   ]
  },
  {
   "cell_type": "code",
   "execution_count": 5,
   "id": "639b4f18-b8fd-4d4a-86ee-e7d4a0034419",
   "metadata": {},
   "outputs": [
    {
     "data": {
      "application/vnd.jupyter.widget-view+json": {
       "model_id": "bd4f230af9754b39b28aca2fb5862ec3",
       "version_major": 2,
       "version_minor": 0
      },
      "text/plain": [
       "Map(center=[20, 0], controls=(WidgetControl(options=['position', 'transparent_bg'], widget=HBox(children=(Togg…"
      ]
     },
     "metadata": {},
     "output_type": "display_data"
    }
   ],
   "source": [
    "Map = geemap.Map() # from ipygee\n",
    "bounds = Point.buffer(10000)\n",
    "Map.centerObject(bounds)\n",
    "trueColor = {'bands': ['SR_B4', 'SR_B3', 'SR_B2'], 'min': 0, 'max': 0.4}\n",
    "Map.addLayer(image, trueColor, name='Landsat8 Image')\n",
    "Map"
   ]
  },
  {
   "cell_type": "code",
   "execution_count": 6,
   "id": "576f1982-d65f-4617-8ede-ff1527882d2c",
   "metadata": {},
   "outputs": [],
   "source": [
    "ndvi = image.normalizedDifference(['SR_B5', 'SR_B4'])\n",
    "evi = image.expression(\n",
    "    '2.5 * ((NIR - RED) / (NIR + 6 * RED - 7.5 * BLUE + 1))', {\n",
    "      'NIR': image.select('SR_B5'),\n",
    "      'RED': image.select('SR_B4'),\n",
    "      'BLUE': image.select('SR_B2')\n",
    "})"
   ]
  },
  {
   "cell_type": "code",
   "execution_count": 7,
   "id": "03df4b54-4602-435e-92b5-2345b5ebd909",
   "metadata": {},
   "outputs": [
    {
     "data": {
      "application/vnd.jupyter.widget-view+json": {
       "model_id": "bd4f230af9754b39b28aca2fb5862ec3",
       "version_major": 2,
       "version_minor": 0
      },
      "text/plain": [
       "Map(center=[41.7352272667938, -111.83465310180142], controls=(WidgetControl(options=['position', 'transparent_…"
      ]
     },
     "metadata": {},
     "output_type": "display_data"
    }
   ],
   "source": [
    "vegPalette = ['white','red','yellow', 'green','blue']\n",
    "Map.addLayer(ndvi, {'min': 0, 'max': 1, 'palette': vegPalette},name = 'NDVI',opacity=1)\n",
    "Map.addLayer(evi, {'min': 0, 'max': 1, 'palette': vegPalette}, 'EVI',opacity=1)\n",
    "Map"
   ]
  },
  {
   "cell_type": "markdown",
   "id": "196445b7-eafd-4f72-b981-09a501ca61a1",
   "metadata": {},
   "source": [
    "### - Green NDVI\n",
    "- GNDVI = (p$_{NIR}$-p$_{green}$)/(p$_{NIR}$+p$_{green}$)\n",
    "- Compute normalize difference between NIR and green\n",
    "\n",
    "Green NDVI is similar to NDVI except that instead of the red spectrum it measures the green spectrum. This is an indicator of the photosynthetic activity of the vegetation cover; it is most often used in assessing the moisture content and nitrogen concentration in plant leaves according to multispectral data which do not have an extreme red channel. Compared to the NDVI index, it is more sensitive to chlorophyll concentration. It is used in assessing depressed and aged vegetation. "
   ]
  },
  {
   "cell_type": "code",
   "execution_count": 8,
   "id": "da32c467-9696-44c7-b85f-6509f29f76cd",
   "metadata": {},
   "outputs": [
    {
     "data": {
      "application/vnd.jupyter.widget-view+json": {
       "model_id": "bd4f230af9754b39b28aca2fb5862ec3",
       "version_major": 2,
       "version_minor": 0
      },
      "text/plain": [
       "Map(center=[41.7352272667938, -111.83465310180142], controls=(WidgetControl(options=['position', 'transparent_…"
      ]
     },
     "metadata": {},
     "output_type": "display_data"
    }
   ],
   "source": [
    "gndvi = image.normalizedDifference(['SR_B5', 'SR_B3'])\n",
    "Map.addLayer(gndvi, {'min': 0, 'max': 1.0, 'palette': vegPalette},name = 'Green NDVI',opacity=1)\n",
    "Map"
   ]
  },
  {
   "cell_type": "markdown",
   "id": "a3f27105-d32e-43c3-aaac-58816eed67bd",
   "metadata": {},
   "source": [
    "#### Results\n",
    "Green NDVI and Red NDVI both exclude water well. EVI doesn't seem to select water very well. The values for green ndvi don't go as high for the fields. Since GNDVI is more sensitive to chlorophyll concentration, it can tell more about plant health than plant density like red NDVI. EVI is used for detecting vegetation in areas with a high leaf area index, essentially removing some of the effects of soil, focusing on the vegetation. EVI seems to be more stricty selecting areas of healthy vegetation."
   ]
  },
  {
   "cell_type": "markdown",
   "id": "f3e5f318-c840-4a7e-9c5a-b32e142fc821",
   "metadata": {},
   "source": [
    "### Modified Simple Ratio\n",
    "- MSR = p$_{red}$/(p$_{NIR}$/p$_{red}$ +1)$^{0.5}$"
   ]
  },
  {
   "cell_type": "code",
   "execution_count": 9,
   "id": "56deca45-b55c-48d5-8536-f963a6868711",
   "metadata": {},
   "outputs": [],
   "source": [
    "msr = image.expression(\n",
    "    'RED / ((NIR / RED) + 1)**(1/2)', {\n",
    "      'NIR': image.select('SR_B5'),\n",
    "      'RED': image.select('SR_B4')\n",
    "})"
   ]
  },
  {
   "cell_type": "code",
   "execution_count": 17,
   "id": "602e2ed9-0449-48d1-a5fd-638ddae6b5e3",
   "metadata": {},
   "outputs": [
    {
     "data": {
      "application/vnd.jupyter.widget-view+json": {
       "model_id": "bd4f230af9754b39b28aca2fb5862ec3",
       "version_major": 2,
       "version_minor": 0
      },
      "text/plain": [
       "Map(bottom=780653.0, center=[41.76298940381476, -111.86090469360353], controls=(WidgetControl(options=['positi…"
      ]
     },
     "metadata": {},
     "output_type": "display_data"
    }
   ],
   "source": [
    "vegInv=['blue','green','yellow','red','white']\n",
    "Palette2=['green','white']\n",
    "Map.addLayer(msr, {'min': 0, 'max': .2, 'palette': vegInv}, 'MSR',opacity=1)\n",
    "Map"
   ]
  },
  {
   "cell_type": "markdown",
   "id": "f2e8d6de-6b0d-49b0-9158-c94b1a99b02a",
   "metadata": {},
   "source": [
    "#### Results\n",
    "MSR doesn't seem to be the best tool for characterizing water or plants, as these areas sometimes look to fall within the same ranges. MSR does seem to do a decent job at characterizing more urban areas."
   ]
  },
  {
   "cell_type": "markdown",
   "id": "1fb6c437-cb53-4df8-8cf2-effd5c0547d2",
   "metadata": {},
   "source": [
    "### Renormalize Difference Vegetation Index\n",
    "- RDVI = (p$_{NIR}$ – p$_{red}$)/(p$_{NIR}$ + p$_{red}$)$^{0.5}$"
   ]
  },
  {
   "cell_type": "code",
   "execution_count": 11,
   "id": "5f69bac5-d8d7-4052-82b6-d93600e480be",
   "metadata": {},
   "outputs": [],
   "source": [
    "rdvi = image.expression(\n",
    "    '(NIR - RED)/((NIR + RED)**(1/2))', {\n",
    "      'NIR': image.select('SR_B5'),\n",
    "      'RED': image.select('SR_B4')\n",
    "})"
   ]
  },
  {
   "cell_type": "code",
   "execution_count": 12,
   "id": "0bafc4f1-0a09-4ada-81e7-420d22f675e9",
   "metadata": {},
   "outputs": [
    {
     "data": {
      "application/vnd.jupyter.widget-view+json": {
       "model_id": "bd4f230af9754b39b28aca2fb5862ec3",
       "version_major": 2,
       "version_minor": 0
      },
      "text/plain": [
       "Map(center=[41.7352272667938, -111.83465310180142], controls=(WidgetControl(options=['position', 'transparent_…"
      ]
     },
     "metadata": {},
     "output_type": "display_data"
    }
   ],
   "source": [
    "Map.addLayer(rdvi, {'min': 0, 'max': 1, 'palette': vegPalette}, 'RDVI',opacity=1)\n",
    "Map"
   ]
  },
  {
   "cell_type": "markdown",
   "id": "95233ffd-7205-4d40-a256-46d2f2c99dd5",
   "metadata": {},
   "source": [
    "### Modified Soil Adjusted Vegetation Index\n",
    "- MSAVI = [(2p$_{NIR}$+1-[(2p$_{NIR}$+1)$^2$-8(p$_{NIR}$-p$_{red}$)]$^{0.5}$]/2"
   ]
  },
  {
   "cell_type": "code",
   "execution_count": 13,
   "id": "a39a930e-b781-4d9d-b4ff-23c3303e73f9",
   "metadata": {},
   "outputs": [],
   "source": [
    "msavi = image.expression(\n",
    "    '(2*NIR+1 - ((((2*NIR+1)**2)-(8*(NIR-RED)))**(0.5)))/2', {\n",
    "      'NIR': image.select('SR_B5'),\n",
    "      'RED': image.select('SR_B4')\n",
    "})"
   ]
  },
  {
   "cell_type": "code",
   "execution_count": 14,
   "id": "0f4590fe-a9d4-442e-aed4-3f75509a5fe3",
   "metadata": {},
   "outputs": [
    {
     "data": {
      "application/vnd.jupyter.widget-view+json": {
       "model_id": "bd4f230af9754b39b28aca2fb5862ec3",
       "version_major": 2,
       "version_minor": 0
      },
      "text/plain": [
       "Map(center=[41.7352272667938, -111.83465310180142], controls=(WidgetControl(options=['position', 'transparent_…"
      ]
     },
     "metadata": {},
     "output_type": "display_data"
    }
   ],
   "source": [
    "Map.addLayer(msavi, {'min': 0, 'max': 1, 'palette': vegPalette}, 'MSAVI',opacity=1)\n",
    "Map"
   ]
  },
  {
   "cell_type": "code",
   "execution_count": null,
   "id": "05f18755-d367-4ec2-8184-8d85a338ffe4",
   "metadata": {},
   "outputs": [],
   "source": []
  }
 ],
 "metadata": {
  "kernelspec": {
   "display_name": "Python 3 (ipykernel)",
   "language": "python",
   "name": "python3"
  },
  "language_info": {
   "codemirror_mode": {
    "name": "ipython",
    "version": 3
   },
   "file_extension": ".py",
   "mimetype": "text/x-python",
   "name": "python",
   "nbconvert_exporter": "python",
   "pygments_lexer": "ipython3",
   "version": "3.9.7"
  }
 },
 "nbformat": 4,
 "nbformat_minor": 5
}
