{
 "cells": [
  {
   "cell_type": "raw",
   "metadata": {},
   "source": [
    "YOUR NAME HERE: Aaron Sigman"
   ]
  },
  {
   "cell_type": "markdown",
   "metadata": {},
   "source": [
    "# Lab 2: Characteristics of remotely sensed data"
   ]
  },
  {
   "cell_type": "code",
   "execution_count": 1,
   "metadata": {},
   "outputs": [
    {
     "name": "stdout",
     "output_type": "stream",
     "text": [
      "Updated by Alfonso Torres-Rua,  February 10, 2023\n"
     ]
    }
   ],
   "source": [
    "from datetime import date\n",
    "today = date.today()\n",
    "d2 = today.strftime(\"%B %d, %Y\")\n",
    "print(\"Updated by Alfonso Torres-Rua, \", d2)"
   ]
  },
  {
   "cell_type": "markdown",
   "metadata": {},
   "source": [
    "## **Purpose:**\n",
    "The purpose of this lab is to demonstrate concepts of spatial, spectral, temporal and radiometric resolution.  You will be introduced to image data from several sensors aboard various platforms.  At the completion of the lab, you will be able to understand the difference between remotely sensed datasets based on sensor characteristics and how to choose an appropriate remotely sensed dataset based on these concepts.  \n",
    "\n",
    "**Prerequisites:** Lab 1"
   ]
  },
  {
   "cell_type": "markdown",
   "metadata": {},
   "source": [
    "## 1. Temporal Resolution\n",
    "\n",
    "Every satellite is different from each other, spectrally, radiometrically, and temporally. This is due to multiple reasons such as access to technology, monetary resources, application targets, mission duration, and others. See these videos for two satellites:"
   ]
  },
  {
   "cell_type": "markdown",
   "metadata": {},
   "source": [
    "- Landsat orbit:\n",
    "https://svs.gsfc.nasa.gov//vis/a010000/a011400/a011481/G2014-016_LDCM_orbit_MASTER_ipod_lg.m4v"
   ]
  },
  {
   "cell_type": "markdown",
   "metadata": {},
   "source": [
    "- MODIS orbit: https://svs.gsfc.nasa.gov//vis/a000000/a003300/a003348/aquacomp720.mp4"
   ]
  },
  {
   "cell_type": "markdown",
   "metadata": {},
   "source": [
    "## 2. Spatial resolution\n",
    "\n",
    "In the present context, spatial resolution means pixel size.  In practice, spatial resolution depends on the projection of the sensor's instantaneous field of view (IFOV) on the ground and how a set of radiometric measurements are resampled into a regular grid.  To see the difference in spatial resolution resulting from different sensors, visualize data at different scales from different sensors."
   ]
  },
  {
   "cell_type": "code",
   "execution_count": 2,
   "metadata": {},
   "outputs": [
    {
     "data": {
      "application/vnd.jupyter.widget-view+json": {
       "model_id": "c83a78bd984e43b09219b0d056ee47b9",
       "version_major": 2,
       "version_minor": 0
      },
      "text/plain": [
       "Map(center=[20, 0], controls=(WidgetControl(options=['position', 'transparent_bg'], widget=HBox(children=(Togg…"
      ]
     },
     "metadata": {},
     "output_type": "display_data"
    }
   ],
   "source": [
    "import ee\n",
    "ee.Initialize()\n",
    "\n",
    "import geemap\n",
    "\n",
    "Map = geemap.Map() \n",
    "Map"
   ]
  },
  {
   "cell_type": "markdown",
   "metadata": {},
   "source": [
    "### - MODIS.  \n",
    "There are two Moderate Resolution Imaging Spectro-Radiometers ([MODIS](http://modis.gsfc.nasa.gov/)) aboard the [Terra](http://terra.nasa.gov/) and [Aqua](http://aqua.nasa.gov/) satellites.  Different MODIS [bands](http://modis.gsfc.nasa.gov/about/specifications.php) produce data at different spatial resolutions.  For the visible bands, the lowest common resolution is 500 meters (red and NIR are 250 meters).  "
   ]
  },
  {
   "cell_type": "markdown",
   "metadata": {},
   "source": [
    "Search for 'MYD09GA' in the [Google EarthEngine datasets](https://developers.google.com/earth-engine/datasets/catalog/) and retrieve (copy) the path to 'MYD09GA.006 Aqua Surface Reflectance Daily Global 1km and 500m'.  Name the import myd09. ([Complete list of MODIS land products](https://lpdaac.usgs.gov/dataset_discovery/modis/modis_products_table).  Note that Terra MODIS datasets start with 'MOD' and MODIS Aqua datasets start with 'MYD')."
   ]
  },
  {
   "cell_type": "code",
   "execution_count": 3,
   "metadata": {},
   "outputs": [],
   "source": [
    "myd09 = ee.ImageCollection(\"MODIS/006/MYD09GA\")\n",
    "\n",
    "\n",
    "latitude =41.7370\n",
    "longitude = -111.8338\n",
    "sfoPoint = ee.Geometry.Point([longitude, latitude]);\n",
    "\n"
   ]
  },
  {
   "cell_type": "markdown",
   "metadata": {},
   "source": [
    "To display a false-color MODIS image, select an image acquired by the Aqua MODIS sensor and display it for SFO:"
   ]
  },
  {
   "cell_type": "code",
   "execution_count": 4,
   "metadata": {},
   "outputs": [
    {
     "name": "stdout",
     "output_type": "stream",
     "text": [
      "['num_observations_1km', 'state_1km', 'SensorZenith', 'SensorAzimuth', 'Range', 'SolarZenith', 'SolarAzimuth', 'gflags', 'orbit_pnt', 'granule_pnt', 'num_observations_500m', 'sur_refl_b01', 'sur_refl_b02', 'sur_refl_b03', 'sur_refl_b04', 'sur_refl_b05', 'sur_refl_b06', 'sur_refl_b07', 'QC_500m', 'obscov_500m', 'iobs_res', 'q_scan']\n"
     ]
    }
   ],
   "source": [
    "# Get a surface reflectance image from the MODIS MYD09GA collection.\n",
    "modisImage = ee.Image(myd09.filterDate('2020-07-06').first());\n",
    "\n",
    "modisImage = modisImage.multiply(0.0001)\n",
    "# Print the image band names to the console.\n",
    "band_names = modisImage.bandNames()\n",
    "print(band_names.getInfo())"
   ]
  },
  {
   "cell_type": "markdown",
   "metadata": {},
   "source": [
    "These names are described also here: [modis bands](https://modis.gsfc.nasa.gov/about/specifications.php)"
   ]
  },
  {
   "cell_type": "code",
   "execution_count": 5,
   "metadata": {},
   "outputs": [
    {
     "data": {
      "application/vnd.jupyter.widget-view+json": {
       "model_id": "c83a78bd984e43b09219b0d056ee47b9",
       "version_major": 2,
       "version_minor": 0
      },
      "text/plain": [
       "Map(center=[20, 0], controls=(WidgetControl(options=['position', 'transparent_bg'], widget=HBox(children=(Togg…"
      ]
     },
     "metadata": {},
     "output_type": "display_data"
    }
   ],
   "source": [
    "# Use these MODIS bands for red, green, blue, respectively.\n",
    "modisBands = ['sur_refl_b01', 'sur_refl_b04', 'sur_refl_b03'];\n",
    "\n",
    "#// Add the image to the map.\n",
    "# url = modisImage.getThumbURL({'dimensions': 700,'bands':modisBands,'min': 0, 'max': 3000,'region':area_to_display})\n",
    "# # print(url)\n",
    "# Image(url=url)\n",
    "\n",
    "# add layer\n",
    "Map.addLayer(modisImage, {'bands':modisBands,'min': 0, 'max':0.3}, name='MODIS Image')\n",
    "Map"
   ]
  },
  {
   "cell_type": "markdown",
   "metadata": {},
   "source": [
    "Note the size of pixels with respect to objects on the ground.  Print the size of the pixels (in meters) with:\n"
   ]
  },
  {
   "cell_type": "code",
   "execution_count": 6,
   "metadata": {},
   "outputs": [
    {
     "name": "stdout",
     "output_type": "stream",
     "text": [
      "MODIS scale: 463.31271652770823\n"
     ]
    }
   ],
   "source": [
    "# Get the scale of the data from the first band's projection:\n",
    "modisScale = modisImage.select('sur_refl_b01').projection().nominalScale();\n",
    "\n",
    "print('MODIS scale:', modisScale.getInfo());\n"
   ]
  },
  {
   "cell_type": "code",
   "execution_count": 7,
   "metadata": {},
   "outputs": [],
   "source": [
    "# add layer SensorZenith\n",
    "# Map.addLayer(modisImage, {'bands':'SensorZenith','min': 0, 'max': 0.3}, name='MODIS SensorZenith')"
   ]
  },
  {
   "cell_type": "markdown",
   "metadata": {},
   "source": [
    "It's also worth noting that these MYD09 data are surface reflectance scaled by 10000 (not TOA reflectance), meaning that clever NASA scientists have done a fancy atmospheric correction for you!\n"
   ]
  },
  {
   "cell_type": "markdown",
   "metadata": {},
   "source": [
    "## - Landsat MSS.  \n",
    "\n",
    "Multi-spectral scanners (MSS) were flown aboard Landsats 1-5.  MSS data have a spatial resolution of 60 meters.\n",
    "Search for 'landsat 5 mss' and import the result called 'USGS Landsat 5 MSS Collection 1 Tier 2 Raw Scenes'.  Name the import mss.\n",
    "\n",
    "To visualize MSS data over SFO, for a relatively less cloudy image, use:\n"
   ]
  },
  {
   "cell_type": "code",
   "execution_count": 8,
   "metadata": {},
   "outputs": [
    {
     "name": "stdout",
     "output_type": "stream",
     "text": [
      "['B1', 'B2', 'B3', 'B4', 'BQA']\n"
     ]
    }
   ],
   "source": [
    "# Filter MSS imagery by location, date and cloudiness.\n",
    "mss= ee.ImageCollection(\"LANDSAT/LM05/C01/T2\")\n",
    "\n",
    "mssImage = ee.Image(mss\n",
    "    .filterBounds(sfoPoint)\n",
    "    .sort('CLOUD_COVER')\n",
    "#Get the least cloudy image.\n",
    "    .first());\n",
    "\n",
    "# Print the image band names to the console.\n",
    "band_names = mssImage.bandNames()\n",
    "print(band_names.getInfo())\n",
    "# Display the MSS image as a color-IR composite.\n"
   ]
  },
  {
   "cell_type": "code",
   "execution_count": 9,
   "metadata": {},
   "outputs": [
    {
     "data": {
      "application/vnd.jupyter.widget-view+json": {
       "model_id": "c83a78bd984e43b09219b0d056ee47b9",
       "version_major": 2,
       "version_minor": 0
      },
      "text/plain": [
       "Map(center=[20, 0], controls=(WidgetControl(options=['position', 'transparent_bg'], widget=HBox(children=(Togg…"
      ]
     },
     "metadata": {},
     "output_type": "display_data"
    }
   ],
   "source": [
    "# Use these MODIS bands for red, green, blue, respectively.\n",
    "mssBands = ['B4', 'B2', 'B1'];\n",
    "\n",
    "Map.addLayer(mssImage, {'bands':mssBands,'min': 0, 'max': 200}, name='LandsatMSS Image')\n",
    "\n",
    "bounds = sfoPoint.buffer(70000)\n",
    "Map.centerObject(bounds)\n",
    "Map"
   ]
  },
  {
   "cell_type": "markdown",
   "metadata": {},
   "source": [
    "Check the scale (in meters) as previously:"
   ]
  },
  {
   "cell_type": "code",
   "execution_count": 10,
   "metadata": {},
   "outputs": [
    {
     "name": "stdout",
     "output_type": "stream",
     "text": [
      "MSS scale: 60\n"
     ]
    }
   ],
   "source": [
    "# Get the scale of the MSS data from its projection:\n",
    "mssScale = mssImage.select('B1').projection().nominalScale();\n",
    "\n",
    "print('MSS scale:', mssScale.getInfo());\n"
   ]
  },
  {
   "cell_type": "markdown",
   "metadata": {},
   "source": [
    "## -TM.  \n",
    "\n",
    "The Thematic Mapper ([TM](http://landsat.gsfc.nasa.gov/?p=3229)) was flown aboard Landsats 4-5.  (It was succeeded by the Enhanced Thematic Mapper ([ETM+](http://landsat.gsfc.nasa.gov/?p=3225)) aboard Landsat 7 and the Operational Land Imager ([OLI](http://landsat.gsfc.nasa.gov/?p=5447)) / Thermal Infrared Sensor ([TIRS](http://landsat.gsfc.nasa.gov/?p=5474)) sensors aboard Landsat 8.)  TM data have a spatial resolution of 30 meters.\n",
    "\n",
    "1. Search for 'landsat 5 toa' and import the first result (which should be 'USGS Landsat 5 TM Collection 1 Tier 1 TOA Reflectance'.  Name the import tm.\n",
    "\n",
    "2. Visualize MSS data over SFO, for approximately the same area as the MSS image, use  image.geometry():\n"
   ]
  },
  {
   "cell_type": "code",
   "execution_count": 11,
   "metadata": {},
   "outputs": [
    {
     "name": "stdout",
     "output_type": "stream",
     "text": [
      "['B1', 'B2', 'B3', 'B4', 'B5', 'B6', 'B7', 'BQA']\n"
     ]
    }
   ],
   "source": [
    "tm= ee.ImageCollection(\"LANDSAT/LT05/C01/T1_TOA\")\n",
    "\n",
    "# // Filter TM imagery by location, date and cloudiness.\n",
    "tmImage = ee.Image(tm\n",
    "    .filterBounds(sfoPoint) # I could have used sfopoint too. every image has a boundary geometry\n",
    "    .filterDate('2011-05-01', '2011-10-01')\n",
    "    .sort('CLOUD_COVER') # not all satellites have this property, check the properties table\n",
    "    .first());\n",
    "\n",
    "# Print the image band names to the console.\n",
    "band_names = tmImage.bandNames()\n",
    "print(band_names.getInfo())"
   ]
  },
  {
   "cell_type": "code",
   "execution_count": 12,
   "metadata": {},
   "outputs": [
    {
     "data": {
      "application/vnd.jupyter.widget-view+json": {
       "model_id": "c83a78bd984e43b09219b0d056ee47b9",
       "version_major": 2,
       "version_minor": 0
      },
      "text/plain": [
       "Map(center=[20, 0], controls=(WidgetControl(options=['position', 'transparent_bg'], widget=HBox(children=(Togg…"
      ]
     },
     "metadata": {},
     "output_type": "display_data"
    }
   ],
   "source": [
    "# // Display the TM image as a color-IR composite.\n",
    "tmBands=  ['B4', 'B3', 'B2']\n",
    "\n",
    "Map.addLayer(tmImage, {'bands':tmBands,'min': 0, 'max': 0.4}, name='Landsat TM Image')\n",
    "Map\n",
    "# bounds = sfoPoint.buffer(70000)\n",
    "# Map.centerObject(bounds)"
   ]
  },
  {
   "cell_type": "markdown",
   "metadata": {},
   "source": [
    "Check the scale (in meters) as previously:"
   ]
  },
  {
   "cell_type": "code",
   "execution_count": 13,
   "metadata": {},
   "outputs": [
    {
     "name": "stdout",
     "output_type": "stream",
     "text": [
      "TM scale: 30\n"
     ]
    }
   ],
   "source": [
    "# // Get the scale of the TM data from its projection:\n",
    "tmScale = tmImage.select('B1').projection().nominalScale();\n",
    "print('TM scale:', tmScale.getInfo());\n"
   ]
  },
  {
   "cell_type": "code",
   "execution_count": 14,
   "metadata": {},
   "outputs": [],
   "source": [
    "## - Sentinel 2 "
   ]
  },
  {
   "cell_type": "markdown",
   "metadata": {},
   "source": [
    "## -NAIP.  \n",
    "The National Agriculture Imagery Program ([NAIP](http://www.fsa.usda.gov/programs-and-services/aerial-photography/imagery-programs/naip-imagery/)) is an effort to acquire imagery over the continental US on a 3-year rotation using airborne sensors.  The imagery have a spatial resolution of 1-2 meters.  \n",
    "\n",
    "1. Search for 'naip' and import the first result (which should be 'NAIP: National Agriculture Imagery Program'.  Name the import naip.\n",
    "\n",
    "2. Since NAIP imagery is distributed as quarters of Digital Ortho Quads (DOQs) at irregular cadence, load everything from the most recent year in the acquisition cycle (2012) over the study area and mosaic() it:\n"
   ]
  },
  {
   "cell_type": "code",
   "execution_count": 15,
   "metadata": {},
   "outputs": [
    {
     "name": "stdout",
     "output_type": "stream",
     "text": [
      "['R', 'G', 'B', 'N']\n"
     ]
    }
   ],
   "source": [
    "naip = ee.ImageCollection(\"USDA/NAIP/DOQQ\")\n",
    "\n",
    "# // Get NAIP images for the study period and region of interest.\n",
    "naipImages = naip.filterDate('2012-01-01', '2017-12-31').filterBounds(sfoPoint);\n",
    "\n",
    "# // Mosaic adjacent images into a single image.\n",
    "naipImage = naipImages.mosaic();\n",
    "\n",
    "# Print the image band names to the console.\n",
    "band_names = naipImage.bandNames()\n",
    "print(band_names.getInfo())\n"
   ]
  },
  {
   "cell_type": "code",
   "execution_count": 16,
   "metadata": {
    "tags": []
   },
   "outputs": [
    {
     "data": {
      "application/vnd.jupyter.widget-view+json": {
       "model_id": "c83a78bd984e43b09219b0d056ee47b9",
       "version_major": 2,
       "version_minor": 0
      },
      "text/plain": [
       "Map(center=[20, 0], controls=(WidgetControl(options=['position', 'transparent_bg'], widget=HBox(children=(Togg…"
      ]
     },
     "metadata": {},
     "output_type": "display_data"
    }
   ],
   "source": [
    "# // Display the NAIP mosaic as a color-IR composite.\n",
    "nBands=  ['N', 'R', 'G']\n",
    "\n",
    "Map.addLayer(naipImage, {'bands':nBands,'min': 0, 'max': 255}, name='NAIP Image')\n",
    "\n",
    "bounds = sfoPoint.buffer(70000)\n",
    "Map.centerObject(bounds)\n",
    "Map"
   ]
  },
  {
   "cell_type": "code",
   "execution_count": 17,
   "metadata": {},
   "outputs": [
    {
     "name": "stdout",
     "output_type": "stream",
     "text": [
      "NAIP scale: 1\n"
     ]
    }
   ],
   "source": [
    "# // Get the NAIP resolution from the first image in the mosaic.\n",
    "naipScale = ee.Image(naipImages.first()).projection().nominalScale();\n",
    "print('NAIP scale:', naipScale.getInfo());\n"
   ]
  },
  {
   "cell_type": "markdown",
   "metadata": {},
   "source": [
    "## Assignment\n",
    "1. What are the necessary changes to this notebook, to perform the same steps for Cache Valley? Produce a notebook.\n",
    "\n",
    "To change the region of this assignment only thing that needs to change is the latitude and longitude at the beginning. This works for most of the datasets, but there wasn't a NAIP flyover of Logan during the preset time period, so the time period needed to be expanded to get an image at that resolution.\n",
    "\n",
    "2. There are more satellites and data sources available to you. To your Logan notebook add the following satellites completing the same steps we did for each of the imagery sources in this notebook.\n",
    "\n",
    "The imagery sources to add are:\n",
    "\n",
    "ASTER: ee.ImageCollection(\"ASTER/AST_L1T_003\"), hint: request 2019 april to october season\n",
    "https://developers.google.com/earth-engine/datasets/catalog/ASTER_AST_L1T_003\n",
    "\n",
    "Sentinel-2: ee.ImageCollection('COPERNICUS/S2')\n",
    "https://developers.google.com/earth-engine/datasets/catalog/COPERNICUS_S2\n",
    "\n",
    "Sentinel-3: ee.ImageCollection(\"COPERNICUS/S3/OLCI\") hint: this satellite behaves like MODIS\n",
    "https://developers.google.com/earth-engine/datasets/catalog/COPERNICUS_S3_OLCI\n",
    "\n",
    "PROBA-V: ee.ImageCollection(\"VITO/PROBAV/C1/S1_TOC_100M\") hint: request 2019 gorwing season\n",
    "https://developers.google.com/earth-engine/datasets/catalog/VITO_PROBAV_C1_S1_TOC_100M\n",
    "\n",
    "VIIRS: ee.ImageCollection(\"NOAA/VIIRS/001/VNP09GA\") hint: this satellite behaves like MODIS\n",
    "https://developers.google.com/earth-engine/datasets/catalog/NOAA_VIIRS_001_VNP09GA\n",
    "\n",
    "BONUS: HYPERSPECTRAL SENSOR\n",
    "EO-1 Hyperion Hyperspectral Imager: ee.ImageCollection(\"EO1/HYPERION\") \n",
    "hint: this satellite has 220 bands, choose between 2001 and 2017 to get an image for Cache Valley\n",
    "https://developers.google.com/earth-engine/datasets/catalog/EO1_HYPERION\n",
    "\n",
    "\n",
    "Happy coding!"
   ]
  },
  {
   "cell_type": "markdown",
   "metadata": {},
   "source": [
    "## ASTER"
   ]
  },
  {
   "cell_type": "code",
   "execution_count": 18,
   "metadata": {},
   "outputs": [
    {
     "name": "stdout",
     "output_type": "stream",
     "text": [
      "['B01', 'B02', 'B3N', 'B04', 'B05', 'B06', 'B07', 'B08', 'B09', 'B10', 'B11', 'B12', 'B13', 'B14']\n"
     ]
    }
   ],
   "source": [
    "ASTER = ee.ImageCollection(\"ASTER/AST_L1T_003\")\n",
    "\n",
    "# // Get ASTER images for the study period and region of interest.\n",
    "ASTERImages = ASTER.filterDate('2019-04-01', '2019-10-31').filterBounds(sfoPoint);\n",
    "\n",
    "# // Mosaic adjacent images into a single image.\n",
    "ASTERImage = ASTERImages.mosaic();\n",
    "\n",
    "# Print the image band names to the console.\n",
    "band_names = ASTERImage.bandNames()\n",
    "print(band_names.getInfo())"
   ]
  },
  {
   "cell_type": "code",
   "execution_count": 19,
   "metadata": {},
   "outputs": [
    {
     "data": {
      "application/vnd.jupyter.widget-view+json": {
       "model_id": "c83a78bd984e43b09219b0d056ee47b9",
       "version_major": 2,
       "version_minor": 0
      },
      "text/plain": [
       "Map(center=[20, 0], controls=(WidgetControl(options=['position', 'transparent_bg'], widget=HBox(children=(Togg…"
      ]
     },
     "metadata": {},
     "output_type": "display_data"
    }
   ],
   "source": [
    "# // Display the ASTER mosaic as a color-IR composite.\n",
    "nBands=  ['B3N', 'B02', 'B01']\n",
    "\n",
    "Map.addLayer(ASTERImage, {'bands':nBands,'min': 0, 'max': 255}, name='ASTER Image')\n",
    "\n",
    "bounds = sfoPoint.buffer(70000)\n",
    "Map.centerObject(bounds)\n",
    "Map"
   ]
  },
  {
   "cell_type": "code",
   "execution_count": 20,
   "metadata": {},
   "outputs": [
    {
     "name": "stdout",
     "output_type": "stream",
     "text": [
      "ASTER scale: 15\n"
     ]
    }
   ],
   "source": [
    "# // Get the ASTER resolution from the first image in the mosaic.\n",
    "ASTERScale = ee.Image(ASTERImages.first()).select(nBands)\n",
    "ASTERScale2 = ASTERScale.projection().nominalScale().getInfo()\n",
    "print('ASTER scale:', ASTERScale2);"
   ]
  },
  {
   "cell_type": "markdown",
   "metadata": {},
   "source": [
    "## Sentinel-2"
   ]
  },
  {
   "cell_type": "code",
   "execution_count": 21,
   "metadata": {},
   "outputs": [
    {
     "name": "stdout",
     "output_type": "stream",
     "text": [
      "['B1', 'B2', 'B3', 'B4', 'B5', 'B6', 'B7', 'B8', 'B8A', 'B9', 'B10', 'B11', 'B12', 'QA10', 'QA20', 'QA60']\n"
     ]
    }
   ],
   "source": [
    "SEN2 = ee.ImageCollection(\"COPERNICUS/S2\")\n",
    "\n",
    "# // Get ASTER images for the study period and region of interest.\n",
    "SEN2Images = SEN2.filterDate('2019-04-01', '2019-10-31').filterBounds(sfoPoint);\n",
    "\n",
    "# // Mosaic adjacent images into a single image.\n",
    "SEN2Image = SEN2Images.mosaic();\n",
    "SEN2Image = SEN2Image.multiply(0.0001)\n",
    "# Print the image band names to the console.\n",
    "band_names = SEN2Image.bandNames()\n",
    "print(band_names.getInfo())"
   ]
  },
  {
   "cell_type": "code",
   "execution_count": 22,
   "metadata": {},
   "outputs": [
    {
     "data": {
      "application/vnd.jupyter.widget-view+json": {
       "model_id": "c83a78bd984e43b09219b0d056ee47b9",
       "version_major": 2,
       "version_minor": 0
      },
      "text/plain": [
       "Map(center=[41.73711986614877, -111.83153778868876], controls=(WidgetControl(options=['position', 'transparent…"
      ]
     },
     "metadata": {},
     "output_type": "display_data"
    }
   ],
   "source": [
    "# // Display the SEN2 mosaic as a color-IR composite.\n",
    "nBands=  ['B8', 'B4', 'B3']\n",
    "\n",
    "Map.addLayer(SEN2Image, {'bands':nBands,'min': 0, 'max': 1}, name='SEN2 Image')\n",
    "\n",
    "bounds = sfoPoint.buffer(70000)\n",
    "Map.centerObject(bounds)\n",
    "Map"
   ]
  },
  {
   "cell_type": "code",
   "execution_count": 23,
   "metadata": {},
   "outputs": [
    {
     "name": "stdout",
     "output_type": "stream",
     "text": [
      "SEN2 scale: 10\n"
     ]
    }
   ],
   "source": [
    "# // Get the ASTER resolution from the first image in the mosaic.\n",
    "SEN2Scale = ee.Image(SEN2Images.first()).select(nBands)\n",
    "SEN2Scale2 = SEN2Scale.projection().nominalScale().getInfo()\n",
    "print('SEN2 scale:', SEN2Scale2);"
   ]
  },
  {
   "cell_type": "markdown",
   "metadata": {},
   "source": [
    "## SEN3"
   ]
  },
  {
   "cell_type": "code",
   "execution_count": 24,
   "metadata": {},
   "outputs": [
    {
     "name": "stdout",
     "output_type": "stream",
     "text": [
      "['Oa01_radiance', 'Oa02_radiance', 'Oa03_radiance', 'Oa04_radiance', 'Oa05_radiance', 'Oa06_radiance', 'Oa07_radiance', 'Oa08_radiance', 'Oa09_radiance', 'Oa10_radiance', 'Oa11_radiance', 'Oa12_radiance', 'Oa13_radiance', 'Oa14_radiance', 'Oa15_radiance', 'Oa16_radiance', 'Oa17_radiance', 'Oa18_radiance', 'Oa19_radiance', 'Oa20_radiance', 'Oa21_radiance', 'quality_flags']\n"
     ]
    }
   ],
   "source": [
    "SEN3 = ee.ImageCollection(\"COPERNICUS/S3/OLCI\")\n",
    "\n",
    "# // Get ASTER images for the study period and region of interest.\n",
    "SEN3Images = SEN3.filterDate('2019-04-01', '2019-10-31').filterBounds(sfoPoint);\n",
    "\n",
    "# // Mosaic adjacent images into a single image.\n",
    "SEN3Image = SEN3Images.mosaic();\n",
    "SEN3Image = SEN3Image.multiply(0.00876539)\n",
    "# Print the image band names to the console.\n",
    "band_names = SEN3Image.bandNames()\n",
    "print(band_names.getInfo())"
   ]
  },
  {
   "cell_type": "code",
   "execution_count": 25,
   "metadata": {},
   "outputs": [
    {
     "data": {
      "application/vnd.jupyter.widget-view+json": {
       "model_id": "c83a78bd984e43b09219b0d056ee47b9",
       "version_major": 2,
       "version_minor": 0
      },
      "text/plain": [
       "Map(center=[41.73711986614877, -111.83153778868876], controls=(WidgetControl(options=['position', 'transparent…"
      ]
     },
     "metadata": {},
     "output_type": "display_data"
    }
   ],
   "source": [
    "# // Display the SEN3 mosaic as a color-IR composite. \n",
    "# Problem with this dataset, the scale for each band is different\n",
    "nBands=  ['Oa14_radiance', 'Oa08_radiance', 'Oa07_radiance']\n",
    "\n",
    "Map.addLayer(SEN3Image, {'bands':nBands,'min': 0, 'max': 0.7}, name='SEN3 Image')\n",
    "\n",
    "bounds = sfoPoint.buffer(70000)\n",
    "Map.centerObject(bounds)\n",
    "Map"
   ]
  },
  {
   "cell_type": "code",
   "execution_count": 26,
   "metadata": {},
   "outputs": [
    {
     "name": "stdout",
     "output_type": "stream",
     "text": [
      "SEN3 scale: 319.4258570670981\n"
     ]
    }
   ],
   "source": [
    "SEN3Scale = ee.Image(SEN3Images.first()).select(nBands)\n",
    "SEN3Scale2 = SEN3Scale.projection().nominalScale().getInfo()\n",
    "print('SEN3 scale:', SEN3Scale2);"
   ]
  },
  {
   "cell_type": "markdown",
   "metadata": {},
   "source": [
    "## PROBA-V"
   ]
  },
  {
   "cell_type": "code",
   "execution_count": 27,
   "metadata": {},
   "outputs": [
    {
     "name": "stdout",
     "output_type": "stream",
     "text": [
      "['RED', 'NIR', 'BLUE', 'SWIR', 'NDVI', 'SZA', 'SAA', 'SWIRVAA', 'SWIRVZA', 'VNIRVAA', 'VNIRVZA', 'SM', 'TIME']\n"
     ]
    }
   ],
   "source": [
    "PROBA = ee.ImageCollection(\"VITO/PROBAV/C1/S1_TOC_100M\")\n",
    "\n",
    "# // Get ASTER images for the study period and region of interest.\n",
    "PROBAImages = PROBA.filterDate('2019-05-25', '2019-5-27').filterBounds(sfoPoint);\n",
    "\n",
    "# // Mosaic adjacent images into a single image.\n",
    "PROBAImage = PROBAImages.mosaic();\n",
    "\n",
    "# Print the image band names to the console.\n",
    "band_names = PROBAImage.bandNames()\n",
    "print(band_names.getInfo())"
   ]
  },
  {
   "cell_type": "code",
   "execution_count": 28,
   "metadata": {},
   "outputs": [
    {
     "data": {
      "application/vnd.jupyter.widget-view+json": {
       "model_id": "c83a78bd984e43b09219b0d056ee47b9",
       "version_major": 2,
       "version_minor": 0
      },
      "text/plain": [
       "Map(center=[41.73711986614877, -111.83153778868876], controls=(WidgetControl(options=['position', 'transparent…"
      ]
     },
     "metadata": {},
     "output_type": "display_data"
    }
   ],
   "source": [
    "# No green band, so combo here is NIR, R, B\n",
    "nBands=  ['NIR', 'RED', 'BLUE']\n",
    "\n",
    "Map.addLayer(PROBAImage, {'bands':nBands,'min': 20, 'max': 2000}, name='PROBA Image')\n",
    "\n",
    "bounds = sfoPoint.buffer(70000)\n",
    "Map.centerObject(bounds)\n",
    "Map"
   ]
  },
  {
   "cell_type": "code",
   "execution_count": 29,
   "metadata": {},
   "outputs": [
    {
     "name": "stdout",
     "output_type": "stream",
     "text": [
      "PROBA scale: 110.43600277104996\n"
     ]
    }
   ],
   "source": [
    "PROBAScale = ee.Image(PROBAImages.first()).select(nBands)\n",
    "PROBAScale2 = PROBAScale.projection().nominalScale().getInfo()\n",
    "print('PROBA scale:', PROBAScale2);"
   ]
  },
  {
   "cell_type": "markdown",
   "metadata": {},
   "source": [
    "## VIIRS"
   ]
  },
  {
   "cell_type": "code",
   "execution_count": 30,
   "metadata": {},
   "outputs": [
    {
     "name": "stdout",
     "output_type": "stream",
     "text": [
      "['I1', 'I2', 'I3', 'M1', 'M2', 'M3', 'M4', 'M5', 'M7', 'M8', 'M10', 'M11', 'SensorAzimuth', 'SensorZenith', 'SolarAzimuth', 'SolarZenith', 'iobs_res', 'num_observations_1km', 'num_observations_500m', 'obscov_1km', 'obscov_500m', 'orbit_pnt', 'QF1', 'QF2', 'QF3', 'QF4', 'QF5', 'QF6', 'QF7']\n"
     ]
    }
   ],
   "source": [
    "VIIRS = ee.ImageCollection(\"NOAA/VIIRS/001/VNP09GA\")\n",
    "\n",
    "# // Get ASTER images for the study period and region of interest.\n",
    "VIIRSImages = VIIRS.filterDate('2019-05-25', '2019-5-27').filterBounds(sfoPoint);\n",
    "\n",
    "# // Mosaic adjacent images into a single image.\n",
    "VIIRSImage = VIIRSImages.mosaic();\n",
    "#VIIRSImage = VIIRSImage.multiply(0.0001)\n",
    "# Print the image band names to the console.\n",
    "band_names = VIIRSImage.bandNames()\n",
    "print(band_names.getInfo())"
   ]
  },
  {
   "cell_type": "code",
   "execution_count": 31,
   "metadata": {},
   "outputs": [
    {
     "data": {
      "application/vnd.jupyter.widget-view+json": {
       "model_id": "c83a78bd984e43b09219b0d056ee47b9",
       "version_major": 2,
       "version_minor": 0
      },
      "text/plain": [
       "Map(center=[41.73711986614877, -111.83153778868876], controls=(WidgetControl(options=['position', 'transparent…"
      ]
     },
     "metadata": {},
     "output_type": "display_data"
    }
   ],
   "source": [
    "nBands=  ['M7', 'M5', 'M4']\n",
    "\n",
    "Map.addLayer(VIIRSImage, {'bands':nBands,'min': 0, 'max': 3000}, name='VIIRS Image')\n",
    "\n",
    "bounds = sfoPoint.buffer(70000)\n",
    "Map.centerObject(bounds)\n",
    "Map"
   ]
  },
  {
   "cell_type": "code",
   "execution_count": 32,
   "metadata": {},
   "outputs": [
    {
     "name": "stdout",
     "output_type": "stream",
     "text": [
      "VIIRS scale: 926.625433056\n"
     ]
    }
   ],
   "source": [
    "VIIRSScale = ee.Image(VIIRSImages.first()).select(nBands)\n",
    "VIIRSScale2 = VIIRSScale.projection().nominalScale().getInfo()\n",
    "print('VIIRS scale:', VIIRSScale2);"
   ]
  },
  {
   "cell_type": "markdown",
   "metadata": {},
   "source": [
    "## Hyperion"
   ]
  },
  {
   "cell_type": "code",
   "execution_count": 33,
   "metadata": {},
   "outputs": [
    {
     "name": "stdout",
     "output_type": "stream",
     "text": [
      "['B008', 'B009', 'B010', 'B011', 'B012', 'B013', 'B014', 'B015', 'B016', 'B017', 'B018', 'B019', 'B020', 'B021', 'B022', 'B023', 'B024', 'B025', 'B026', 'B027', 'B028', 'B029', 'B030', 'B031', 'B032', 'B033', 'B034', 'B035', 'B036', 'B037', 'B038', 'B039', 'B040', 'B041', 'B042', 'B043', 'B044', 'B045', 'B046', 'B047', 'B048', 'B049', 'B050', 'B051', 'B052', 'B053', 'B054', 'B055', 'B056', 'B057', 'B077', 'B078', 'B079', 'B080', 'B081', 'B082', 'B083', 'B084', 'B085', 'B086', 'B087', 'B088', 'B089', 'B090', 'B091', 'B092', 'B093', 'B094', 'B095', 'B096', 'B097', 'B098', 'B099', 'B100', 'B101', 'B102', 'B103', 'B104', 'B105', 'B106', 'B107', 'B108', 'B109', 'B110', 'B111', 'B112', 'B113', 'B114', 'B115', 'B116', 'B117', 'B118', 'B119', 'B120', 'B121', 'B122', 'B123', 'B124', 'B125', 'B126', 'B127', 'B128', 'B129', 'B130', 'B131', 'B132', 'B133', 'B134', 'B135', 'B136', 'B137', 'B138', 'B139', 'B140', 'B141', 'B142', 'B143', 'B144', 'B145', 'B146', 'B147', 'B148', 'B149', 'B150', 'B151', 'B152', 'B153', 'B154', 'B155', 'B156', 'B157', 'B158', 'B159', 'B160', 'B161', 'B162', 'B163', 'B164', 'B165', 'B166', 'B167', 'B168', 'B169', 'B170', 'B171', 'B172', 'B173', 'B174', 'B175', 'B176', 'B177', 'B178', 'B179', 'B180', 'B181', 'B182', 'B183', 'B184', 'B185', 'B186', 'B187', 'B188', 'B189', 'B190', 'B191', 'B192', 'B193', 'B194', 'B195', 'B196', 'B197', 'B198', 'B199', 'B200', 'B201', 'B202', 'B203', 'B204', 'B205', 'B206', 'B207', 'B208', 'B209', 'B210', 'B211', 'B212', 'B213', 'B214', 'B215', 'B216', 'B217', 'B218', 'B219', 'B220', 'B221', 'B222', 'B223', 'B224']\n"
     ]
    }
   ],
   "source": [
    "HYP = ee.ImageCollection(\"EO1/HYPERION\")\n",
    "\n",
    "# // Get ASTER images for the study period and region of interest.\n",
    "HYPImages = HYP.filterDate('2001-05-01', '2002-5-01').filterBounds(sfoPoint);\n",
    "\n",
    "# // Mosaic adjacent images into a single image.\n",
    "HYPImage = HYPImages.mosaic();\n",
    "#VIIRSImage = VIIRSImage.multiply(0.0001)\n",
    "# Print the image band names to the console.\n",
    "band_names = HYPImage.bandNames()\n",
    "print(band_names.getInfo())"
   ]
  },
  {
   "cell_type": "code",
   "execution_count": 34,
   "metadata": {},
   "outputs": [
    {
     "data": {
      "application/vnd.jupyter.widget-view+json": {
       "model_id": "c83a78bd984e43b09219b0d056ee47b9",
       "version_major": 2,
       "version_minor": 0
      },
      "text/plain": [
       "Map(center=[41.73711986614877, -111.83153778868876], controls=(WidgetControl(options=['position', 'transparent…"
      ]
     },
     "metadata": {},
     "output_type": "display_data"
    }
   ],
   "source": [
    "# NIR, R, G\n",
    "nBands=  ['B050', 'B023', 'B015']\n",
    "\n",
    "Map.addLayer(HYPImage, {'bands':nBands,'min': 0, 'max': 5000}, name='HYPERION Image')\n",
    "\n",
    "bounds = sfoPoint.buffer(10000)\n",
    "Map.centerObject(bounds)\n",
    "Map"
   ]
  },
  {
   "cell_type": "code",
   "execution_count": 35,
   "metadata": {},
   "outputs": [
    {
     "name": "stdout",
     "output_type": "stream",
     "text": [
      "HYPERION scale: 29.989829492111358\n"
     ]
    }
   ],
   "source": [
    "HYPScale = ee.Image(HYPImages.first()).select(nBands)\n",
    "HYPScale2 = HYPScale.projection().nominalScale().getInfo()\n",
    "print('HYPERION scale:', HYPScale2);"
   ]
  },
  {
   "cell_type": "code",
   "execution_count": null,
   "metadata": {},
   "outputs": [],
   "source": []
  }
 ],
 "metadata": {
  "kernelspec": {
   "display_name": "Python 3 (ipykernel)",
   "language": "python",
   "name": "python3"
  },
  "language_info": {
   "codemirror_mode": {
    "name": "ipython",
    "version": 3
   },
   "file_extension": ".py",
   "mimetype": "text/x-python",
   "name": "python",
   "nbconvert_exporter": "python",
   "pygments_lexer": "ipython3",
   "version": "3.9.7"
  },
  "latex_envs": {
   "LaTeX_envs_menu_present": true,
   "autoclose": false,
   "autocomplete": true,
   "bibliofile": "biblio.bib",
   "cite_by": "apalike",
   "current_citInitial": 1,
   "eqLabelWithNumbers": true,
   "eqNumInitial": 1,
   "hotkeys": {
    "equation": "Ctrl-E",
    "itemize": "Ctrl-I"
   },
   "labels_anchors": false,
   "latex_user_defs": false,
   "report_style_numbering": false,
   "user_envs_cfg": false
  }
 },
 "nbformat": 4,
 "nbformat_minor": 4
}
