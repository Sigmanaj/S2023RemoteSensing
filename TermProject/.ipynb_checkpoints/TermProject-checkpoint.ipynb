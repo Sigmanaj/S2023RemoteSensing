{
 "cells": [
  {
   "cell_type": "markdown",
   "id": "51f58c78-84e3-42d1-88ec-fd8862d4a85a",
   "metadata": {},
   "source": [
    "## Term Project: Identifying Land Cover changes with NLCD and Landsat imagery using Google Earth Engine \n",
    "### Aaron Sigman"
   ]
  },
  {
   "cell_type": "code",
   "execution_count": 1,
   "id": "e6d90240-076c-4803-99dd-f58a4b872ce0",
   "metadata": {},
   "outputs": [],
   "source": [
    "from IPython.display import Image\n",
    "import ee\n",
    "import matplotlib.pyplot as plt\n",
    "import os\n",
    "import pandas as pd\n",
    "ee.Initialize()"
   ]
  },
  {
   "cell_type": "code",
   "execution_count": 2,
   "id": "27727e47-554b-46a5-b308-b6ca9ec78aff",
   "metadata": {},
   "outputs": [],
   "source": [
    "import geemap"
   ]
  },
  {
   "cell_type": "code",
   "execution_count": 3,
   "id": "60418fbc-ce5b-4f29-a369-bdadfa7ccc04",
   "metadata": {},
   "outputs": [],
   "source": [
    "# Define area of interest\n",
    "Point = ee.Geometry.Point([-105.0000, 39.5065])\n",
    "Area = Point.buffer(14000)"
   ]
  },
  {
   "cell_type": "code",
   "execution_count": 4,
   "id": "562ce698-80f1-41a1-b0d8-7e6ceafcdbd6",
   "metadata": {
    "tags": []
   },
   "outputs": [
    {
     "name": "stdout",
     "output_type": "stream",
     "text": [
      "['landcover', 'impervious', 'impervious_descriptor', 'percent_tree_cover', 'rangeland_annual_herbaceous', 'rangeland_bare_ground', 'rangeland_big_sagebrush', 'rangeland_herbaceous', 'rangeland_litter', 'rangeland_sagebrush', 'rangeland_sagebrush_height', 'rangeland_shrub', 'rangeland_shrub_height']\n"
     ]
    }
   ],
   "source": [
    "# Get NLCD 2016 map for the region\n",
    "image=ee.ImageCollection(\"USGS/NLCD_RELEASES/2016_REL\")\n",
    "image=image.filter(ee.Filter.eq('system:index', '2016')).first()\n",
    "NLCD2016=image.clip(Area)\n",
    "band_names=NLCD2016.bandNames()\n",
    "print(band_names.getInfo())"
   ]
  },
  {
   "cell_type": "code",
   "execution_count": 5,
   "id": "b439916b-18c5-452c-b6ce-7db77c408542",
   "metadata": {},
   "outputs": [
    {
     "name": "stdout",
     "output_type": "stream",
     "text": [
      "{'impervious': 676641, 'impervious_descriptor': 676641, 'landcover': 676641, 'percent_tree_cover': 676641, 'rangeland_annual_herbaceous': 478789, 'rangeland_bare_ground': 478789, 'rangeland_big_sagebrush': 478789, 'rangeland_herbaceous': 478789, 'rangeland_litter': 478789, 'rangeland_sagebrush': 478789, 'rangeland_sagebrush_height': 478789, 'rangeland_shrub': 478789, 'rangeland_shrub_height': 478789}\n",
      "[[11, 12033.952941176474], [12, 0], [13, 0], [14, 0], [15, 0], [16, 0], [17, 0], [18, 0], [19, 0], [20, 0], [21, 90771.50980392154], [22, 106763.07450980386], [23, 54867.44313725489], [24, 14596.752941176472], [25, 0], [26, 0], [27, 0], [28, 0], [29, 0], [30, 0], [31, 73], [32, 0], [33, 0], [34, 0], [35, 0], [36, 0], [37, 0], [38, 0], [39, 0], [40, 0], [41, 20656.403921568624], [42, 41158.16862745101], [43, 1304.1843137254903], [44, 0], [45, 0], [46, 0], [47, 0], [48, 0], [49, 0], [50, 0], [51, 0], [52, 132784.40784313728], [53, 0], [54, 0], [55, 0], [56, 0], [57, 0], [58, 0], [59, 0], [60, 0], [61, 0], [62, 0], [63, 0], [64, 0], [65, 0], [66, 0], [67, 0], [68, 0], [69, 0], [70, 0], [71, 181096.65882352932], [72, 0], [73, 0], [74, 0], [75, 0], [76, 0], [77, 0], [78, 0], [79, 0], [80, 0], [81, 7], [82, 513], [83, 0], [84, 0], [85, 0], [86, 0], [87, 0], [88, 0], [89, 0], [90, 5326.082352941176], [91, 0], [92, 0], [93, 0], [94, 0], [95, 14679.909803921568]]\n"
     ]
    },
    {
     "data": {
      "text/html": [
       "<div>\n",
       "<style scoped>\n",
       "    .dataframe tbody tr th:only-of-type {\n",
       "        vertical-align: middle;\n",
       "    }\n",
       "\n",
       "    .dataframe tbody tr th {\n",
       "        vertical-align: top;\n",
       "    }\n",
       "\n",
       "    .dataframe thead th {\n",
       "        text-align: right;\n",
       "    }\n",
       "</style>\n",
       "<table border=\"1\" class=\"dataframe\">\n",
       "  <thead>\n",
       "    <tr style=\"text-align: right;\">\n",
       "      <th></th>\n",
       "      <th>2016_count</th>\n",
       "      <th>2016_percent</th>\n",
       "    </tr>\n",
       "    <tr>\n",
       "      <th>index</th>\n",
       "      <th></th>\n",
       "      <th></th>\n",
       "    </tr>\n",
       "  </thead>\n",
       "  <tbody>\n",
       "    <tr>\n",
       "      <th>11</th>\n",
       "      <td>12033.952941</td>\n",
       "      <td>1.778484</td>\n",
       "    </tr>\n",
       "    <tr>\n",
       "      <th>21</th>\n",
       "      <td>90771.509804</td>\n",
       "      <td>13.415018</td>\n",
       "    </tr>\n",
       "    <tr>\n",
       "      <th>22</th>\n",
       "      <td>106763.074510</td>\n",
       "      <td>15.778393</td>\n",
       "    </tr>\n",
       "    <tr>\n",
       "      <th>23</th>\n",
       "      <td>54867.443137</td>\n",
       "      <td>8.108797</td>\n",
       "    </tr>\n",
       "    <tr>\n",
       "      <th>24</th>\n",
       "      <td>14596.752941</td>\n",
       "      <td>2.157237</td>\n",
       "    </tr>\n",
       "    <tr>\n",
       "      <th>31</th>\n",
       "      <td>73.000000</td>\n",
       "      <td>0.010789</td>\n",
       "    </tr>\n",
       "    <tr>\n",
       "      <th>41</th>\n",
       "      <td>20656.403922</td>\n",
       "      <td>3.052786</td>\n",
       "    </tr>\n",
       "    <tr>\n",
       "      <th>42</th>\n",
       "      <td>41158.168627</td>\n",
       "      <td>6.082719</td>\n",
       "    </tr>\n",
       "    <tr>\n",
       "      <th>43</th>\n",
       "      <td>1304.184314</td>\n",
       "      <td>0.192744</td>\n",
       "    </tr>\n",
       "    <tr>\n",
       "      <th>52</th>\n",
       "      <td>132784.407843</td>\n",
       "      <td>19.624056</td>\n",
       "    </tr>\n",
       "    <tr>\n",
       "      <th>71</th>\n",
       "      <td>181096.658824</td>\n",
       "      <td>26.764068</td>\n",
       "    </tr>\n",
       "    <tr>\n",
       "      <th>81</th>\n",
       "      <td>7.000000</td>\n",
       "      <td>0.001035</td>\n",
       "    </tr>\n",
       "    <tr>\n",
       "      <th>82</th>\n",
       "      <td>513.000000</td>\n",
       "      <td>0.075816</td>\n",
       "    </tr>\n",
       "    <tr>\n",
       "      <th>90</th>\n",
       "      <td>5326.082353</td>\n",
       "      <td>0.787136</td>\n",
       "    </tr>\n",
       "    <tr>\n",
       "      <th>95</th>\n",
       "      <td>14679.909804</td>\n",
       "      <td>2.169527</td>\n",
       "    </tr>\n",
       "  </tbody>\n",
       "</table>\n",
       "</div>"
      ],
      "text/plain": [
       "          2016_count  2016_percent\n",
       "index                             \n",
       "11      12033.952941      1.778484\n",
       "21      90771.509804     13.415018\n",
       "22     106763.074510     15.778393\n",
       "23      54867.443137      8.108797\n",
       "24      14596.752941      2.157237\n",
       "31         73.000000      0.010789\n",
       "41      20656.403922      3.052786\n",
       "42      41158.168627      6.082719\n",
       "43       1304.184314      0.192744\n",
       "52     132784.407843     19.624056\n",
       "71     181096.658824     26.764068\n",
       "81          7.000000      0.001035\n",
       "82        513.000000      0.075816\n",
       "90       5326.082353      0.787136\n",
       "95      14679.909804      2.169527"
      ]
     },
     "execution_count": 5,
     "metadata": {},
     "output_type": "execute_result"
    }
   ],
   "source": [
    "TotalCount=NLCD2016.reduceRegion(ee.Reducer.count(), Area, 30)\n",
    "LULCCount=NLCD2016.select('landcover').reduceRegion(ee.Reducer.autoHistogram(),Area,30)\n",
    "print(TotalCount.getInfo())\n",
    "print(LULCCount.getInfo().get('landcover'))\n",
    "df2016=pd.DataFrame.from_dict(LULCCount.getInfo().get('landcover'))\n",
    "df2016.columns=['index',\"2016_count\"]\n",
    "df2016=df2016.set_index('index')\n",
    "df2016=df2016[df2016['2016_count']>0]\n",
    "df2016[\"2016_percent\"]=df2016[\"2016_count\"]/TotalCount.getInfo().get('landcover')*100\n",
    "df2016"
   ]
  },
  {
   "cell_type": "code",
   "execution_count": 6,
   "id": "8d962aec-9381-4e78-8fb6-a2c46c463a93",
   "metadata": {},
   "outputs": [
    {
     "data": {
      "application/vnd.jupyter.widget-view+json": {
       "model_id": "a7356988ea36485a8ff3075c2925321f",
       "version_major": 2,
       "version_minor": 0
      },
      "text/plain": [
       "Map(center=[20, 0], controls=(WidgetControl(options=['position', 'transparent_bg'], widget=HBox(children=(Togg…"
      ]
     },
     "metadata": {},
     "output_type": "display_data"
    }
   ],
   "source": [
    "Map = geemap.Map()\n",
    "Map.centerObject(Area)\n",
    "Map.addLayer(Area, {'outline': 2}, name='Study Area')\n",
    "landcover = {'bands': ['landcover']}\n",
    "Map.addLayer(NLCD2016,landcover, name='NLCD 2016')\n",
    "#Map.add_legend(builtin_legend='NLCD')\n",
    "Map"
   ]
  },
  {
   "cell_type": "code",
   "execution_count": 7,
   "id": "163a4da3-0091-49be-a50d-85484cd3918d",
   "metadata": {},
   "outputs": [
    {
     "name": "stdout",
     "output_type": "stream",
     "text": [
      "['landcover', 'impervious', 'impervious_descriptor']\n"
     ]
    }
   ],
   "source": [
    "# Get NLCD 2016 map for the region\n",
    "image=ee.ImageCollection(\"USGS/NLCD_RELEASES/2019_REL/NLCD\")\n",
    "image=image.filter(ee.Filter.eq('system:index', '2019')).first()\n",
    "NLCD2019=image.clip(Area)\n",
    "band_names=NLCD2019.bandNames()\n",
    "print(band_names.getInfo())"
   ]
  },
  {
   "cell_type": "code",
   "execution_count": 8,
   "id": "a5b55942-933a-4302-b913-9e4943c2c638",
   "metadata": {},
   "outputs": [
    {
     "name": "stdout",
     "output_type": "stream",
     "text": [
      "{'impervious': 676641, 'impervious_descriptor': 676641, 'landcover': 676641}\n",
      "[[11, 11875.168627450985], [12, 0], [13, 0], [14, 0], [15, 0], [16, 0], [17, 0], [18, 0], [19, 0], [20, 0], [21, 77787.38039215683], [22, 99060.49411764702], [23, 76367.71764705885], [24, 22199.086274509802], [25, 0], [26, 0], [27, 0], [28, 0], [29, 0], [30, 0], [31, 121], [32, 0], [33, 0], [34, 0], [35, 0], [36, 0], [37, 0], [38, 0], [39, 0], [40, 0], [41, 20239.764705882353], [42, 42233.16470588238], [43, 1310.105882352941], [44, 0], [45, 0], [46, 0], [47, 0], [48, 0], [49, 0], [50, 0], [51, 0], [52, 127422.46274509808], [53, 0], [54, 0], [55, 0], [56, 0], [57, 0], [58, 0], [59, 0], [60, 0], [61, 0], [62, 0], [63, 0], [64, 0], [65, 0], [66, 0], [67, 0], [68, 0], [69, 0], [70, 0], [71, 176958.6431372548], [72, 0], [73, 0], [74, 0], [75, 0], [76, 0], [77, 0], [78, 0], [79, 0], [80, 0], [81, 12], [82, 502], [83, 0], [84, 0], [85, 0], [86, 0], [87, 0], [88, 0], [89, 0], [90, 5657.454901960785], [91, 0], [92, 0], [93, 0], [94, 0], [95, 14885.10588235294]]\n"
     ]
    },
    {
     "data": {
      "text/html": [
       "<div>\n",
       "<style scoped>\n",
       "    .dataframe tbody tr th:only-of-type {\n",
       "        vertical-align: middle;\n",
       "    }\n",
       "\n",
       "    .dataframe tbody tr th {\n",
       "        vertical-align: top;\n",
       "    }\n",
       "\n",
       "    .dataframe thead th {\n",
       "        text-align: right;\n",
       "    }\n",
       "</style>\n",
       "<table border=\"1\" class=\"dataframe\">\n",
       "  <thead>\n",
       "    <tr style=\"text-align: right;\">\n",
       "      <th></th>\n",
       "      <th>2019_count</th>\n",
       "      <th>2019_percent</th>\n",
       "    </tr>\n",
       "    <tr>\n",
       "      <th>index</th>\n",
       "      <th></th>\n",
       "      <th></th>\n",
       "    </tr>\n",
       "  </thead>\n",
       "  <tbody>\n",
       "    <tr>\n",
       "      <th>11</th>\n",
       "      <td>11875.168627</td>\n",
       "      <td>1.755018</td>\n",
       "    </tr>\n",
       "    <tr>\n",
       "      <th>21</th>\n",
       "      <td>77787.380392</td>\n",
       "      <td>11.496108</td>\n",
       "    </tr>\n",
       "    <tr>\n",
       "      <th>22</th>\n",
       "      <td>99060.494118</td>\n",
       "      <td>14.640037</td>\n",
       "    </tr>\n",
       "    <tr>\n",
       "      <th>23</th>\n",
       "      <td>76367.717647</td>\n",
       "      <td>11.286298</td>\n",
       "    </tr>\n",
       "    <tr>\n",
       "      <th>24</th>\n",
       "      <td>22199.086275</td>\n",
       "      <td>3.280778</td>\n",
       "    </tr>\n",
       "    <tr>\n",
       "      <th>31</th>\n",
       "      <td>121.000000</td>\n",
       "      <td>0.017882</td>\n",
       "    </tr>\n",
       "    <tr>\n",
       "      <th>41</th>\n",
       "      <td>20239.764706</td>\n",
       "      <td>2.991212</td>\n",
       "    </tr>\n",
       "    <tr>\n",
       "      <th>42</th>\n",
       "      <td>42233.164706</td>\n",
       "      <td>6.241591</td>\n",
       "    </tr>\n",
       "    <tr>\n",
       "      <th>43</th>\n",
       "      <td>1310.105882</td>\n",
       "      <td>0.193619</td>\n",
       "    </tr>\n",
       "    <tr>\n",
       "      <th>52</th>\n",
       "      <td>127422.462745</td>\n",
       "      <td>18.831620</td>\n",
       "    </tr>\n",
       "    <tr>\n",
       "      <th>71</th>\n",
       "      <td>176958.643137</td>\n",
       "      <td>26.152516</td>\n",
       "    </tr>\n",
       "    <tr>\n",
       "      <th>81</th>\n",
       "      <td>12.000000</td>\n",
       "      <td>0.001773</td>\n",
       "    </tr>\n",
       "    <tr>\n",
       "      <th>82</th>\n",
       "      <td>502.000000</td>\n",
       "      <td>0.074190</td>\n",
       "    </tr>\n",
       "    <tr>\n",
       "      <th>90</th>\n",
       "      <td>5657.454902</td>\n",
       "      <td>0.836109</td>\n",
       "    </tr>\n",
       "    <tr>\n",
       "      <th>95</th>\n",
       "      <td>14885.105882</td>\n",
       "      <td>2.199853</td>\n",
       "    </tr>\n",
       "  </tbody>\n",
       "</table>\n",
       "</div>"
      ],
      "text/plain": [
       "          2019_count  2019_percent\n",
       "index                             \n",
       "11      11875.168627      1.755018\n",
       "21      77787.380392     11.496108\n",
       "22      99060.494118     14.640037\n",
       "23      76367.717647     11.286298\n",
       "24      22199.086275      3.280778\n",
       "31        121.000000      0.017882\n",
       "41      20239.764706      2.991212\n",
       "42      42233.164706      6.241591\n",
       "43       1310.105882      0.193619\n",
       "52     127422.462745     18.831620\n",
       "71     176958.643137     26.152516\n",
       "81         12.000000      0.001773\n",
       "82        502.000000      0.074190\n",
       "90       5657.454902      0.836109\n",
       "95      14885.105882      2.199853"
      ]
     },
     "execution_count": 8,
     "metadata": {},
     "output_type": "execute_result"
    }
   ],
   "source": [
    "TotalCount=NLCD2019.reduceRegion(ee.Reducer.count(), Area, 30)\n",
    "LULCCount=NLCD2019.select('landcover').reduceRegion(ee.Reducer.autoHistogram(),Area,30)\n",
    "print(TotalCount.getInfo())\n",
    "print(LULCCount.getInfo().get('landcover'))\n",
    "df2019=pd.DataFrame.from_dict(LULCCount.getInfo().get('landcover'))\n",
    "df2019.columns=['index',\"2019_count\"]\n",
    "df2019=df2019.set_index('index')\n",
    "df2019=df2019[df2019['2019_count']>0]\n",
    "df2019[\"2019_percent\"]=df2019[\"2019_count\"]/TotalCount.getInfo().get('landcover')*100\n",
    "df2019\n"
   ]
  },
  {
   "cell_type": "code",
   "execution_count": 9,
   "id": "a4e44ffd-64c7-487e-b3f5-16fb4852125a",
   "metadata": {},
   "outputs": [
    {
     "data": {
      "text/html": [
       "<div>\n",
       "<style scoped>\n",
       "    .dataframe tbody tr th:only-of-type {\n",
       "        vertical-align: middle;\n",
       "    }\n",
       "\n",
       "    .dataframe tbody tr th {\n",
       "        vertical-align: top;\n",
       "    }\n",
       "\n",
       "    .dataframe thead th {\n",
       "        text-align: right;\n",
       "    }\n",
       "</style>\n",
       "<table border=\"1\" class=\"dataframe\">\n",
       "  <thead>\n",
       "    <tr style=\"text-align: right;\">\n",
       "      <th></th>\n",
       "      <th>2016_count</th>\n",
       "      <th>2016_percent</th>\n",
       "      <th>2019_count</th>\n",
       "      <th>2019_percent</th>\n",
       "    </tr>\n",
       "    <tr>\n",
       "      <th>index</th>\n",
       "      <th></th>\n",
       "      <th></th>\n",
       "      <th></th>\n",
       "      <th></th>\n",
       "    </tr>\n",
       "  </thead>\n",
       "  <tbody>\n",
       "    <tr>\n",
       "      <th>11</th>\n",
       "      <td>12033.952941</td>\n",
       "      <td>1.778484</td>\n",
       "      <td>11875.168627</td>\n",
       "      <td>1.755018</td>\n",
       "    </tr>\n",
       "    <tr>\n",
       "      <th>21</th>\n",
       "      <td>90771.509804</td>\n",
       "      <td>13.415018</td>\n",
       "      <td>77787.380392</td>\n",
       "      <td>11.496108</td>\n",
       "    </tr>\n",
       "    <tr>\n",
       "      <th>22</th>\n",
       "      <td>106763.074510</td>\n",
       "      <td>15.778393</td>\n",
       "      <td>99060.494118</td>\n",
       "      <td>14.640037</td>\n",
       "    </tr>\n",
       "    <tr>\n",
       "      <th>23</th>\n",
       "      <td>54867.443137</td>\n",
       "      <td>8.108797</td>\n",
       "      <td>76367.717647</td>\n",
       "      <td>11.286298</td>\n",
       "    </tr>\n",
       "    <tr>\n",
       "      <th>24</th>\n",
       "      <td>14596.752941</td>\n",
       "      <td>2.157237</td>\n",
       "      <td>22199.086275</td>\n",
       "      <td>3.280778</td>\n",
       "    </tr>\n",
       "    <tr>\n",
       "      <th>31</th>\n",
       "      <td>73.000000</td>\n",
       "      <td>0.010789</td>\n",
       "      <td>121.000000</td>\n",
       "      <td>0.017882</td>\n",
       "    </tr>\n",
       "    <tr>\n",
       "      <th>41</th>\n",
       "      <td>20656.403922</td>\n",
       "      <td>3.052786</td>\n",
       "      <td>20239.764706</td>\n",
       "      <td>2.991212</td>\n",
       "    </tr>\n",
       "    <tr>\n",
       "      <th>42</th>\n",
       "      <td>41158.168627</td>\n",
       "      <td>6.082719</td>\n",
       "      <td>42233.164706</td>\n",
       "      <td>6.241591</td>\n",
       "    </tr>\n",
       "    <tr>\n",
       "      <th>43</th>\n",
       "      <td>1304.184314</td>\n",
       "      <td>0.192744</td>\n",
       "      <td>1310.105882</td>\n",
       "      <td>0.193619</td>\n",
       "    </tr>\n",
       "    <tr>\n",
       "      <th>52</th>\n",
       "      <td>132784.407843</td>\n",
       "      <td>19.624056</td>\n",
       "      <td>127422.462745</td>\n",
       "      <td>18.831620</td>\n",
       "    </tr>\n",
       "    <tr>\n",
       "      <th>71</th>\n",
       "      <td>181096.658824</td>\n",
       "      <td>26.764068</td>\n",
       "      <td>176958.643137</td>\n",
       "      <td>26.152516</td>\n",
       "    </tr>\n",
       "    <tr>\n",
       "      <th>81</th>\n",
       "      <td>7.000000</td>\n",
       "      <td>0.001035</td>\n",
       "      <td>12.000000</td>\n",
       "      <td>0.001773</td>\n",
       "    </tr>\n",
       "    <tr>\n",
       "      <th>82</th>\n",
       "      <td>513.000000</td>\n",
       "      <td>0.075816</td>\n",
       "      <td>502.000000</td>\n",
       "      <td>0.074190</td>\n",
       "    </tr>\n",
       "    <tr>\n",
       "      <th>90</th>\n",
       "      <td>5326.082353</td>\n",
       "      <td>0.787136</td>\n",
       "      <td>5657.454902</td>\n",
       "      <td>0.836109</td>\n",
       "    </tr>\n",
       "    <tr>\n",
       "      <th>95</th>\n",
       "      <td>14679.909804</td>\n",
       "      <td>2.169527</td>\n",
       "      <td>14885.105882</td>\n",
       "      <td>2.199853</td>\n",
       "    </tr>\n",
       "  </tbody>\n",
       "</table>\n",
       "</div>"
      ],
      "text/plain": [
       "          2016_count  2016_percent     2019_count  2019_percent\n",
       "index                                                          \n",
       "11      12033.952941      1.778484   11875.168627      1.755018\n",
       "21      90771.509804     13.415018   77787.380392     11.496108\n",
       "22     106763.074510     15.778393   99060.494118     14.640037\n",
       "23      54867.443137      8.108797   76367.717647     11.286298\n",
       "24      14596.752941      2.157237   22199.086275      3.280778\n",
       "31         73.000000      0.010789     121.000000      0.017882\n",
       "41      20656.403922      3.052786   20239.764706      2.991212\n",
       "42      41158.168627      6.082719   42233.164706      6.241591\n",
       "43       1304.184314      0.192744    1310.105882      0.193619\n",
       "52     132784.407843     19.624056  127422.462745     18.831620\n",
       "71     181096.658824     26.764068  176958.643137     26.152516\n",
       "81          7.000000      0.001035      12.000000      0.001773\n",
       "82        513.000000      0.075816     502.000000      0.074190\n",
       "90       5326.082353      0.787136    5657.454902      0.836109\n",
       "95      14679.909804      2.169527   14885.105882      2.199853"
      ]
     },
     "execution_count": 9,
     "metadata": {},
     "output_type": "execute_result"
    }
   ],
   "source": [
    "df_combine=pd.concat([df2016,df2019],axis=1)\n",
    "df_combine"
   ]
  },
  {
   "cell_type": "code",
   "execution_count": 10,
   "id": "34abb53a-1d15-48b5-86cd-9068906dffa4",
   "metadata": {},
   "outputs": [
    {
     "data": {
      "text/html": [
       "<div>\n",
       "<style scoped>\n",
       "    .dataframe tbody tr th:only-of-type {\n",
       "        vertical-align: middle;\n",
       "    }\n",
       "\n",
       "    .dataframe tbody tr th {\n",
       "        vertical-align: top;\n",
       "    }\n",
       "\n",
       "    .dataframe thead th {\n",
       "        text-align: right;\n",
       "    }\n",
       "</style>\n",
       "<table border=\"1\" class=\"dataframe\">\n",
       "  <thead>\n",
       "    <tr style=\"text-align: right;\">\n",
       "      <th></th>\n",
       "      <th>2016_count</th>\n",
       "      <th>2016_percent</th>\n",
       "      <th>2019_count</th>\n",
       "      <th>2019_percent</th>\n",
       "      <th>perc_diff</th>\n",
       "    </tr>\n",
       "  </thead>\n",
       "  <tbody>\n",
       "    <tr>\n",
       "      <th>Urban</th>\n",
       "      <td>266998.780392</td>\n",
       "      <td>39.459445</td>\n",
       "      <td>275414.678431</td>\n",
       "      <td>40.703221</td>\n",
       "      <td>1.243776</td>\n",
       "    </tr>\n",
       "    <tr>\n",
       "      <th>Water</th>\n",
       "      <td>32039.945098</td>\n",
       "      <td>4.735147</td>\n",
       "      <td>32417.729412</td>\n",
       "      <td>4.790979</td>\n",
       "      <td>0.055832</td>\n",
       "    </tr>\n",
       "    <tr>\n",
       "      <th>Forest</th>\n",
       "      <td>63118.756863</td>\n",
       "      <td>9.328249</td>\n",
       "      <td>63783.035294</td>\n",
       "      <td>9.426422</td>\n",
       "      <td>0.098173</td>\n",
       "    </tr>\n",
       "    <tr>\n",
       "      <th>Shrub/Herb</th>\n",
       "      <td>313881.066667</td>\n",
       "      <td>46.388124</td>\n",
       "      <td>304381.105882</td>\n",
       "      <td>44.984136</td>\n",
       "      <td>-1.403988</td>\n",
       "    </tr>\n",
       "    <tr>\n",
       "      <th>Ag</th>\n",
       "      <td>520.000000</td>\n",
       "      <td>0.076850</td>\n",
       "      <td>514.000000</td>\n",
       "      <td>0.075963</td>\n",
       "      <td>-0.000887</td>\n",
       "    </tr>\n",
       "  </tbody>\n",
       "</table>\n",
       "</div>"
      ],
      "text/plain": [
       "               2016_count  2016_percent     2019_count  2019_percent  \\\n",
       "Urban       266998.780392     39.459445  275414.678431     40.703221   \n",
       "Water        32039.945098      4.735147   32417.729412      4.790979   \n",
       "Forest       63118.756863      9.328249   63783.035294      9.426422   \n",
       "Shrub/Herb  313881.066667     46.388124  304381.105882     44.984136   \n",
       "Ag             520.000000      0.076850     514.000000      0.075963   \n",
       "\n",
       "            perc_diff  \n",
       "Urban        1.243776  \n",
       "Water        0.055832  \n",
       "Forest       0.098173  \n",
       "Shrub/Herb  -1.403988  \n",
       "Ag          -0.000887  "
      ]
     },
     "execution_count": 10,
     "metadata": {},
     "output_type": "execute_result"
    }
   ],
   "source": [
    "water=[11,90,95]\n",
    "urban=[21,22,23,24]\n",
    "forest=[41,42,43]\n",
    "shrub_herb=[52,71]\n",
    "ag=[81,82]\n",
    "df_cat=pd.DataFrame(df_combine.loc[urban].sum(axis=0),columns=['Urban'])\n",
    "df_cat['Water']=df_combine.loc[water].sum(axis=0)\n",
    "df_cat['Forest']=df_combine.loc[forest].sum(axis=0)\n",
    "df_cat['Shrub/Herb']=df_combine.loc[shrub_herb].sum(axis=0)\n",
    "df_cat['Ag']=df_combine.loc[ag].sum(axis=0)\n",
    "df_cat2=df_cat.transpose()\n",
    "df_cat2['perc_diff']=df_cat2['2019_percent']-df_cat2['2016_percent']\n",
    "df_cat2"
   ]
  },
  {
   "cell_type": "code",
   "execution_count": 11,
   "id": "07c60d69-f8ef-4bf6-b258-51da4df2e02a",
   "metadata": {},
   "outputs": [
    {
     "data": {
      "text/plain": [
       "<matplotlib.collections.LineCollection at 0x7f07fa5dd730>"
      ]
     },
     "execution_count": 11,
     "metadata": {},
     "output_type": "execute_result"
    },
    {
     "data": {
      "image/png": "[encoded data removed]",
      "text/plain": [
       "<Figure size 432x288 with 1 Axes>"
      ]
     },
     "metadata": {
      "needs_background": "light"
     },
     "output_type": "display_data"
    }
   ],
   "source": [
    "plt.title('Percent Change in Land Use from 2016-2019')\n",
    "plt.plot(df_cat2['perc_diff'][0:4])\n",
    "xmin, xmax, ymin, ymax = plt.axis()\n",
    "plt.hlines(0,xmin,xmax,'k','--')"
   ]
  },
  {
   "cell_type": "code",
   "execution_count": 12,
   "id": "329b542b-71a1-4105-8d40-c5d2f9e54836",
   "metadata": {},
   "outputs": [
    {
     "data": {
      "application/vnd.jupyter.widget-view+json": {
       "model_id": "a7356988ea36485a8ff3075c2925321f",
       "version_major": 2,
       "version_minor": 0
      },
      "text/plain": [
       "Map(center=[39.506524163592786, -104.99970955637592], controls=(WidgetControl(options=['position', 'transparen…"
      ]
     },
     "metadata": {},
     "output_type": "display_data"
    }
   ],
   "source": [
    "landcover = {'bands': ['landcover']}\n",
    "Map.addLayer(NLCD2019,landcover, name='NLCD 2019')\n",
    "#Map.add_legend(builtin_legend='NLCD')\n",
    "Map"
   ]
  },
  {
   "cell_type": "code",
   "execution_count": 13,
   "id": "2b937a7c-25b2-42c4-91f9-bb12fe63ec3d",
   "metadata": {},
   "outputs": [],
   "source": [
    "# Get landsat8 imagery\n",
    "landsat8 =ee.ImageCollection(\"LANDSAT/LC08/C02/T1_L2\")\n",
    "image = ee.Image(landsat8\n",
    "    .filterBounds(Point)\n",
    "    .filterDate('2013-06-01', '2013-09-01')\n",
    "    .sort('CLOUD_COVER_LAND').first())\n",
    "image_2013=image.clip(Area)\n",
    "image_2013=image_2013.select(['SR_B1', 'SR_B2', 'SR_B3', 'SR_B4', 'SR_B5', 'SR_B6', 'SR_B7'])\n",
    "image_2013=image_2013.multiply(0.0000275).add(-0.2)"
   ]
  },
  {
   "cell_type": "code",
   "execution_count": 14,
   "id": "ca3deac3-a43e-40cb-8dd2-8da3d146bf03",
   "metadata": {
    "tags": []
   },
   "outputs": [
    {
     "data": {
      "application/vnd.jupyter.widget-view+json": {
       "model_id": "a7356988ea36485a8ff3075c2925321f",
       "version_major": 2,
       "version_minor": 0
      },
      "text/plain": [
       "Map(center=[39.506524163592786, -104.99970955637592], controls=(WidgetControl(options=['position', 'transparen…"
      ]
     },
     "metadata": {},
     "output_type": "display_data"
    }
   ],
   "source": [
    "trueColor = {'bands': ['SR_B4', 'SR_B3', 'SR_B2'], 'min': 0, 'max': 0.4}\n",
    "falseColor = {'min': 0,'max': 0.2,'bands': ['SR_B5', 'SR_B4', 'SR_B3']}\n",
    "NDVI = {'min': -0.2,'max': 1.0,'palette': ['blue','white','brown','yellow', 'lime', 'green','navy']}\n",
    "ndvi_2013=image_2013.normalizedDifference(['SR_B5', 'SR_B4'])\n",
    "Map.addLayer(image_2013, trueColor, name='Landsat8 True 2013')\n",
    "Map.addLayer(image_2013, falseColor, name='Landsat8 False 2013')\n",
    "Map.addLayer(ndvi_2013, NDVI, name='Landsat8 NDVI 2013')\n",
    "# colors = NDVI['palette']\n",
    "# vmin = NDVI['min']\n",
    "# vmax = NDVI['max']\n",
    "# Map.add_colorbar_branca(colors=colors, vmin=vmin, vmax=vmax, layer_name='Landsat8 NDVI 2013')\n",
    "Map"
   ]
  },
  {
   "cell_type": "code",
   "execution_count": 15,
   "id": "4a90533c-fc2d-406a-ae7e-386d5427132c",
   "metadata": {},
   "outputs": [
    {
     "data": {
      "application/vnd.jupyter.widget-view+json": {
       "model_id": "a7356988ea36485a8ff3075c2925321f",
       "version_major": 2,
       "version_minor": 0
      },
      "text/plain": [
       "Map(center=[39.506524163592786, -104.99970955637592], controls=(WidgetControl(options=['position', 'transparen…"
      ]
     },
     "metadata": {},
     "output_type": "display_data"
    }
   ],
   "source": [
    "# Soil and Shrub\n",
    "soil_pnt1 = ee.Geometry.Point([-104.9360, 39.4397]).buffer(300)\n",
    "soil_pnt2 = ee.Geometry.Point([-105.0345, 39.4658]).buffer(300)\n",
    "soil_pnt3 = ee.Geometry.Point([-104.8495, 39.5143]).buffer(300)\n",
    "soil_pnt4 = ee.Geometry.Point([-105.0446, 39.4953]).buffer(300)\n",
    "soil1 = ee.Feature(soil_pnt1, {'class': 2, 'name': 'soil'})\n",
    "soil2 = ee.Feature(soil_pnt2, {'class': 2, 'name': 'soil'})\n",
    "soil3 = ee.Feature(soil_pnt3, {'class': 2, 'name': 'soil'})\n",
    "soil4 = ee.Feature(soil_pnt4, {'class': 2, 'name': 'soil'})\n",
    "\n",
    "# Forest\n",
    "for_pnt1 = ee.Geometry.Point([-105.1067, 39.4512]).buffer(200)\n",
    "for_pnt2 = ee.Geometry.Point([-105.1361, 39.5016]).buffer(200)\n",
    "for_pnt3 = ee.Geometry.Point([-104.9208, 39.4495]).buffer(200)\n",
    "for1 = ee.Feature(for_pnt1, {'class': 1, 'name': 'Forest'})\n",
    "for2 = ee.Feature(for_pnt2, {'class': 1, 'name': 'Forest'})\n",
    "for3 = ee.Feature(for_pnt3, {'class': 1, 'name': 'Forest'})\n",
    "\n",
    "# Water\n",
    "wat_pnt1 = ee.Geometry.Point([-105.0646, 39.5509]).buffer(500)\n",
    "wat_pnt2 = ee.Geometry.Point([-105.0194, 39.5694]).buffer(240)\n",
    "wat_pnt3 = ee.Geometry.Point([-105.0509, 39.6187]).buffer(225)\n",
    "wat_pnt4 = ee.Geometry.Point([-105.0655, 39.4493]).buffer(200)\n",
    "water1 = ee.Feature(wat_pnt1, {'class': 0, 'name': 'water'})\n",
    "water2 = ee.Feature(wat_pnt2, {'class': 0, 'name': 'water'})\n",
    "water3 = ee.Feature(wat_pnt3, {'class': 0, 'name': 'water'})\n",
    "water4 = ee.Feature(wat_pnt4, {'class': 0, 'name': 'water'})\n",
    "\n",
    "urb_pnt1 = ee.Geometry.Point([-104.9886, 39.5716]).buffer(250)\n",
    "urb_pnt2 = ee.Geometry.Point([-104.8772, 39.5625]).buffer(300)\n",
    "urb_pnt3 = ee.Geometry.Point([-105.0004, 39.5481]).buffer(300)\n",
    "urb_pnt4 = ee.Geometry.Point([-105.0163, 39.5362]).buffer(250)\n",
    "urb1 = ee.Feature(urb_pnt1, {'class': 3, 'name': 'urban'})\n",
    "urb2 = ee.Feature(urb_pnt2, {'class': 3, 'name': 'urban'})\n",
    "urb3 = ee.Feature(urb_pnt3, {'class': 3, 'name': 'urban'})\n",
    "urb4 = ee.Feature(urb_pnt4, {'class': 3, 'name': 'urban'})\n",
    "\n",
    "Map.addLayer(water1, {'fill_color':'blue', 'outline': 1}, name='water1')\n",
    "Map.addLayer(water2, {'fill_color':'blue', 'outline': 1}, name='water2')\n",
    "Map.addLayer(water3, {'fill_color':'blue', 'outline': 1}, name='water3')\n",
    "Map.addLayer(water4, {'fill_color':'blue', 'outline': 1}, name='water4')\n",
    "Map.addLayer(for1, {'fill_color':'green', 'outline': 1}, name='Forest1')\n",
    "Map.addLayer(for2, {'fill_color':'green', 'outline': 1}, name='Forest2')\n",
    "Map.addLayer(for3, {'fill_color':'green', 'outline': 1}, name='Forest3')\n",
    "Map.addLayer(soil1, {'fill_color':'yellow', 'outline': 1}, name='soil1')\n",
    "Map.addLayer(soil2, {'fill_color':'yellow', 'outline': 1}, name='soil2')\n",
    "Map.addLayer(soil3, {'fill_color':'yellow', 'outline': 1}, name='soil3')\n",
    "Map.addLayer(soil4, {'fill_color':'yellow', 'outline': 1}, name='soil4')\n",
    "Map.addLayer(urb1, {'fill_color':'red', 'outline': 1}, name='urb1')\n",
    "Map.addLayer(urb2, {'fill_color':'red', 'outline': 1}, name='urb2')\n",
    "Map.addLayer(urb3, {'fill_color':'red', 'outline': 1}, name='urb3')\n",
    "Map.addLayer(urb4, {'fill_color':'red', 'outline': 1}, name='urb4')\n",
    "Map"
   ]
  },
  {
   "cell_type": "code",
   "execution_count": 16,
   "id": "b762e3f7-ad63-4b2c-bef4-93a121bbb9d4",
   "metadata": {},
   "outputs": [],
   "source": [
    "trainingFeatures = ee.FeatureCollection([water1,water2,water3,water4,for1,for2,for3,soil1,soil2,soil3,soil4,urb1,urb2,urb3,urb4])\n",
    "predictionBands = ['SR_B2', 'SR_B3', 'SR_B4', 'SR_B5' ,'SR_B6','SR_B7']\n",
    "classifierTraining = image_2013.select(predictionBands).sampleRegions(collection=trainingFeatures,properties=['class'],scale=30)\n",
    "trainingTesting = classifierTraining.randomColumn('random',69420)\n",
    "training = trainingTesting.filter(ee.Filter.lt('random', 0.66))\n",
    "testing = trainingTesting.filter(ee.Filter.gte('random', 0.66))"
   ]
  },
  {
   "cell_type": "code",
   "execution_count": 17,
   "id": "95e843bc-9f70-42b6-b8b5-ba2094e08a4a",
   "metadata": {},
   "outputs": [],
   "source": [
    "leaf_val=3\n",
    "cartclassifier=ee.Classifier.smileCart(minLeafPopulation=leaf_val).train(features=training,classProperty='class',inputProperties=predictionBands)"
   ]
  },
  {
   "cell_type": "code",
   "execution_count": 18,
   "id": "9ca05fea-ee4e-43a9-bd24-6c640448e8b5",
   "metadata": {},
   "outputs": [
    {
     "data": {
      "application/vnd.jupyter.widget-view+json": {
       "model_id": "a7356988ea36485a8ff3075c2925321f",
       "version_major": 2,
       "version_minor": 0
      },
      "text/plain": [
       "Map(center=[39.506524163592786, -104.99970955637592], controls=(WidgetControl(options=['position', 'transparen…"
      ]
     },
     "metadata": {},
     "output_type": "display_data"
    }
   ],
   "source": [
    "cartClassificationImage=image_2013.select(predictionBands).classify(cartclassifier);\n",
    "Map.addLayer(cartClassificationImage, {'min': 0, 'max': 3,'palette':['blue', 'green','yellow','red']},'CART classification')\n",
    "Map"
   ]
  },
  {
   "cell_type": "code",
   "execution_count": 19,
   "id": "34b8872e-8f10-4394-9e10-4530af0160bc",
   "metadata": {},
   "outputs": [],
   "source": [
    "# Get landsat8 imagery\n",
    "landsat8 =ee.ImageCollection(\"LANDSAT/LC08/C02/T1_L2\")\n",
    "image = ee.Image(landsat8\n",
    "    .filterBounds(Point)\n",
    "    .filterDate('2018-06-01', '2018-09-01')\n",
    "    .sort('CLOUD_COVER_LAND').first())\n",
    "image_2018=image.clip(Area)\n",
    "image_2018 = image_2018.select(['SR_B1', 'SR_B2', 'SR_B3', 'SR_B4', 'SR_B5', 'SR_B6', 'SR_B7'])\n",
    "image_2018 = image_2018.multiply(0.0000275).add(-0.2)"
   ]
  },
  {
   "cell_type": "code",
   "execution_count": 20,
   "id": "7190e2de-75b8-453d-9886-e64ffb72c197",
   "metadata": {},
   "outputs": [
    {
     "data": {
      "application/vnd.jupyter.widget-view+json": {
       "model_id": "a7356988ea36485a8ff3075c2925321f",
       "version_major": 2,
       "version_minor": 0
      },
      "text/plain": [
       "Map(center=[39.506524163592786, -104.99970955637592], controls=(WidgetControl(options=['position', 'transparen…"
      ]
     },
     "metadata": {},
     "output_type": "display_data"
    }
   ],
   "source": [
    "ndvi_2018=image_2018.normalizedDifference(['SR_B5', 'SR_B4'])\n",
    "Map.addLayer(image_2018, trueColor, name='Landsat8 True 2018')\n",
    "Map.addLayer(image_2018, falseColor, name='Landsat8 False 2018')\n",
    "Map.addLayer(ndvi_2018, NDVI, name='Landsat8 NDVI 2018')\n",
    "Map"
   ]
  },
  {
   "cell_type": "code",
   "execution_count": 21,
   "id": "d094fe0a-60d5-4ab7-a6b7-5c72d71ae06f",
   "metadata": {},
   "outputs": [],
   "source": [
    "# Get landsat8 imagery\n",
    "landsat8 =ee.ImageCollection(\"LANDSAT/LC08/C02/T1_L2\")\n",
    "image = ee.Image(landsat8\n",
    "    .filterBounds(Point)\n",
    "    .filterDate('2022-06-01', '2022-09-01')\n",
    "    .sort('CLOUD_COVER_LAND').first())\n",
    "image_2022=image.clip(Area)\n",
    "image_2022 = image_2022.select(['SR_B1', 'SR_B2', 'SR_B3', 'SR_B4', 'SR_B5', 'SR_B6', 'SR_B7'])\n",
    "image_2022 = image_2022.multiply(0.0000275).add(-0.2)"
   ]
  },
  {
   "cell_type": "code",
   "execution_count": 22,
   "id": "ab22fa59-a719-4133-bf59-75bc22df6180",
   "metadata": {},
   "outputs": [
    {
     "data": {
      "application/vnd.jupyter.widget-view+json": {
       "model_id": "a7356988ea36485a8ff3075c2925321f",
       "version_major": 2,
       "version_minor": 0
      },
      "text/plain": [
       "Map(center=[39.506524163592786, -104.99970955637592], controls=(WidgetControl(options=['position', 'transparen…"
      ]
     },
     "metadata": {},
     "output_type": "display_data"
    }
   ],
   "source": [
    "ndvi_2022=image_2022.normalizedDifference(['SR_B5', 'SR_B4'])\n",
    "Map.addLayer(image_2022, trueColor, name='Landsat8 True 2022')\n",
    "Map.addLayer(image_2022, falseColor, name='Landsat8 False 2022')\n",
    "Map.addLayer(ndvi_2022, NDVI, name='Landsat8 NDVI 2022')\n",
    "Map.centerObject(Area)\n",
    "Map"
   ]
  },
  {
   "cell_type": "code",
   "execution_count": null,
   "id": "0e8d6e6a-1606-4bfa-bfa9-c10df1e934ad",
   "metadata": {},
   "outputs": [],
   "source": []
  }
 ],
 "metadata": {
  "kernelspec": {
   "display_name": "Python 3 (ipykernel)",
   "language": "python",
   "name": "python3"
  },
  "language_info": {
   "codemirror_mode": {
    "name": "ipython",
    "version": 3
   },
   "file_extension": ".py",
   "mimetype": "text/x-python",
   "name": "python",
   "nbconvert_exporter": "python",
   "pygments_lexer": "ipython3",
   "version": "3.9.7"
  }
 },
 "nbformat": 4,
 "nbformat_minor": 5
}
