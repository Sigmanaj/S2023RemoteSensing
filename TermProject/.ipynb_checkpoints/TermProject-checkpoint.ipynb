{
 "cells": [
  {
   "cell_type": "markdown",
   "id": "51f58c78-84e3-42d1-88ec-fd8862d4a85a",
   "metadata": {},
   "source": [
    "## Term Project: Identifying Land Cover changes with NLCD and Landsat imagery using Google Earth Engine \n",
    "### Aaron Sigman"
   ]
  },
  {
   "cell_type": "code",
   "execution_count": 1,
   "id": "e6d90240-076c-4803-99dd-f58a4b872ce0",
   "metadata": {},
   "outputs": [],
   "source": [
    "from IPython.display import Image\n",
    "import ee\n",
    "ee.Initialize()"
   ]
  },
  {
   "cell_type": "code",
   "execution_count": 2,
   "id": "27727e47-554b-46a5-b308-b6ca9ec78aff",
   "metadata": {},
   "outputs": [],
   "source": [
    "import geemap"
   ]
  },
  {
   "cell_type": "code",
   "execution_count": 3,
   "id": "60418fbc-ce5b-4f29-a369-bdadfa7ccc04",
   "metadata": {},
   "outputs": [],
   "source": [
    "# Define area of interest\n",
    "Point = ee.Geometry.Point([-105.0376, 39.5010])\n",
    "Area = Point.buffer(20000)"
   ]
  },
  {
   "cell_type": "code",
   "execution_count": 4,
   "id": "562ce698-80f1-41a1-b0d8-7e6ceafcdbd6",
   "metadata": {},
   "outputs": [
    {
     "name": "stdout",
     "output_type": "stream",
     "text": [
      "['landcover', 'impervious', 'impervious_descriptor', 'percent_tree_cover', 'rangeland_annual_herbaceous', 'rangeland_bare_ground', 'rangeland_big_sagebrush', 'rangeland_herbaceous', 'rangeland_litter', 'rangeland_sagebrush', 'rangeland_sagebrush_height', 'rangeland_shrub', 'rangeland_shrub_height']\n"
     ]
    }
   ],
   "source": [
    "# Get NLCD 2016 map for the region\n",
    "image=ee.ImageCollection(\"USGS/NLCD_RELEASES/2016_REL\")\n",
    "image=image.filter(ee.Filter.eq('system:index', '2016')).first()\n",
    "NLCD2016=image.clip(Area)\n",
    "band_names=NLCD2016.bandNames()\n",
    "print(band_names.getInfo())"
   ]
  },
  {
   "cell_type": "code",
   "execution_count": 5,
   "id": "8d962aec-9381-4e78-8fb6-a2c46c463a93",
   "metadata": {},
   "outputs": [
    {
     "data": {
      "application/vnd.jupyter.widget-view+json": {
       "model_id": "ac834209d19c49caa1c7a2471de61250",
       "version_major": 2,
       "version_minor": 0
      },
      "text/plain": [
       "Map(center=[20, 0], controls=(WidgetControl(options=['position', 'transparent_bg'], widget=HBox(children=(Togg…"
      ]
     },
     "metadata": {},
     "output_type": "display_data"
    }
   ],
   "source": [
    "Map = geemap.Map()\n",
    "Map.centerObject(Area)\n",
    "Map.addLayer(Area, {'outline': 2}, name='Study Area')\n",
    "landcover = {'bands': ['landcover']}\n",
    "Map.addLayer(NLCD2016,landcover, name='NLCD 2016')\n",
    "Map"
   ]
  },
  {
   "cell_type": "code",
   "execution_count": 6,
   "id": "163a4da3-0091-49be-a50d-85484cd3918d",
   "metadata": {},
   "outputs": [
    {
     "name": "stdout",
     "output_type": "stream",
     "text": [
      "['landcover', 'impervious', 'impervious_descriptor']\n"
     ]
    }
   ],
   "source": [
    "# Get NLCD 2016 map for the region\n",
    "image=ee.ImageCollection(\"USGS/NLCD_RELEASES/2019_REL/NLCD\")\n",
    "image=image.filter(ee.Filter.eq('system:index', '2019')).first()\n",
    "NLCD2019=image.clip(Area)\n",
    "band_names=NLCD2019.bandNames()\n",
    "print(band_names.getInfo())"
   ]
  },
  {
   "cell_type": "code",
   "execution_count": 7,
   "id": "329b542b-71a1-4105-8d40-c5d2f9e54836",
   "metadata": {},
   "outputs": [
    {
     "data": {
      "application/vnd.jupyter.widget-view+json": {
       "model_id": "ac834209d19c49caa1c7a2471de61250",
       "version_major": 2,
       "version_minor": 0
      },
      "text/plain": [
       "Map(center=[39.50103449274611, -105.0371646904029], controls=(WidgetControl(options=['position', 'transparent_…"
      ]
     },
     "metadata": {},
     "output_type": "display_data"
    }
   ],
   "source": [
    "landcover = {'bands': ['landcover']}\n",
    "Map.addLayer(NLCD2019,landcover, name='NLCD 2019')\n",
    "Map"
   ]
  },
  {
   "cell_type": "code",
   "execution_count": 8,
   "id": "2b937a7c-25b2-42c4-91f9-bb12fe63ec3d",
   "metadata": {},
   "outputs": [],
   "source": [
    "# Get landsat8 imagery\n",
    "landsat8 =ee.ImageCollection(\"LANDSAT/LC08/C02/T1_L2\")\n",
    "image = ee.Image(landsat8\n",
    "    .filterBounds(Point)\n",
    "    .filterDate('2013-06-01', '2013-09-01')\n",
    "    .sort('CLOUD_COVER_LAND').first())\n",
    "image_2013=image.clip(Area)\n",
    "image_2013=image_2013.select(['SR_B1', 'SR_B2', 'SR_B3', 'SR_B4', 'SR_B5', 'SR_B6', 'SR_B7'])\n",
    "image_2013=image_2013.multiply(0.0000275).add(-0.2)"
   ]
  },
  {
   "cell_type": "code",
   "execution_count": 9,
   "id": "ca3deac3-a43e-40cb-8dd2-8da3d146bf03",
   "metadata": {},
   "outputs": [
    {
     "data": {
      "application/vnd.jupyter.widget-view+json": {
       "model_id": "ac834209d19c49caa1c7a2471de61250",
       "version_major": 2,
       "version_minor": 0
      },
      "text/plain": [
       "Map(center=[39.50103449274611, -105.0371646904029], controls=(WidgetControl(options=['position', 'transparent_…"
      ]
     },
     "metadata": {},
     "output_type": "display_data"
    }
   ],
   "source": [
    "trueColor = {'bands': ['SR_B4', 'SR_B3', 'SR_B2'], 'min': 0, 'max': 0.4}\n",
    "falseColor = {'min': 0,'max': 0.2,'bands': ['SR_B5', 'SR_B4', 'SR_B3']}\n",
    "NDVI = {'min': -0.2,'max': 1.0,'palette': ['blue','white','brown','yellow', 'lime', 'green','navy']}\n",
    "ndvi_2013=image_2013.normalizedDifference(['SR_B5', 'SR_B4'])\n",
    "Map.addLayer(image_2013, trueColor, name='Landsat8 True 2013')\n",
    "Map.addLayer(image_2013, falseColor, name='Landsat8 False 2013')\n",
    "Map.addLayer(ndvi_2013, NDVI, name='Landsat8 NDVI 2013')\n",
    "# colors = NDVI['palette']\n",
    "# vmin = NDVI['min']\n",
    "# vmax = NDVI['max']\n",
    "# Map.add_colorbar_branca(colors=colors, vmin=vmin, vmax=vmax, layer_name='Landsat8 NDVI 2013')\n",
    "Map"
   ]
  },
  {
   "cell_type": "code",
   "execution_count": 10,
   "id": "d094fe0a-60d5-4ab7-a6b7-5c72d71ae06f",
   "metadata": {},
   "outputs": [],
   "source": [
    "# Get landsat8 imagery\n",
    "landsat8 =ee.ImageCollection(\"LANDSAT/LC08/C02/T1_L2\")\n",
    "image = ee.Image(landsat8\n",
    "    .filterBounds(Point)\n",
    "    .filterDate('2021-06-01', '2021-09-01')\n",
    "    .sort('CLOUD_COVER_LAND').first())\n",
    "image_2021=image.clip(Area)\n",
    "image_2021 = image_2021.select(['SR_B1', 'SR_B2', 'SR_B3', 'SR_B4', 'SR_B5', 'SR_B6', 'SR_B7'])\n",
    "image_2021 = image_2021.multiply(0.0000275).add(-0.2)"
   ]
  },
  {
   "cell_type": "code",
   "execution_count": 11,
   "id": "ab22fa59-a719-4133-bf59-75bc22df6180",
   "metadata": {},
   "outputs": [
    {
     "data": {
      "application/vnd.jupyter.widget-view+json": {
       "model_id": "ac834209d19c49caa1c7a2471de61250",
       "version_major": 2,
       "version_minor": 0
      },
      "text/plain": [
       "Map(center=[39.50103449274611, -105.0371646904029], controls=(WidgetControl(options=['position', 'transparent_…"
      ]
     },
     "metadata": {},
     "output_type": "display_data"
    }
   ],
   "source": [
    "ndvi_2021=image_2021.normalizedDifference(['SR_B5', 'SR_B4'])\n",
    "Map.addLayer(image_2021, trueColor, name='Landsat8 True 2021')\n",
    "Map.addLayer(image_2021, falseColor, name='Landsat8 False 2021')\n",
    "Map.addLayer(ndvi_2021, NDVI, name='Landsat8 NDVI 2021')\n",
    "Map"
   ]
  },
  {
   "cell_type": "code",
   "execution_count": null,
   "id": "0e8d6e6a-1606-4bfa-bfa9-c10df1e934ad",
   "metadata": {},
   "outputs": [],
   "source": []
  }
 ],
 "metadata": {
  "kernelspec": {
   "display_name": "Python 3 (ipykernel)",
   "language": "python",
   "name": "python3"
  },
  "language_info": {
   "codemirror_mode": {
    "name": "ipython",
    "version": 3
   },
   "file_extension": ".py",
   "mimetype": "text/x-python",
   "name": "python",
   "nbconvert_exporter": "python",
   "pygments_lexer": "ipython3",
   "version": "3.9.7"
  }
 },
 "nbformat": 4,
 "nbformat_minor": 5
}
