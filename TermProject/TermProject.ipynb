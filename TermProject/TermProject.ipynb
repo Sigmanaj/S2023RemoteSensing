{
 "cells": [
  {
   "cell_type": "markdown",
   "id": "51f58c78-84e3-42d1-88ec-fd8862d4a85a",
   "metadata": {},
   "source": [
    "## Term Project: Identifying Land Cover changes with NLCD and Landsat imagery using Google Earth Engine \n",
    "### Aaron Sigman"
   ]
  },
  {
   "cell_type": "code",
   "execution_count": 10,
   "id": "e6d90240-076c-4803-99dd-f58a4b872ce0",
   "metadata": {},
   "outputs": [
    {
     "ename": "MalformedError",
     "evalue": "Service account info was not in the expected format, missing fields token_uri, client_email.",
     "output_type": "error",
     "traceback": [
      "\u001b[1;31m---------------------------------------------------------------------------\u001b[0m",
      "\u001b[1;31mMalformedError\u001b[0m                            Traceback (most recent call last)",
      "\u001b[1;32m~\\AppData\\Local\\Temp\\ipykernel_7664\\904978425.py\u001b[0m in \u001b[0;36m<module>\u001b[1;34m\u001b[0m\n\u001b[0;32m      2\u001b[0m \u001b[1;32mimport\u001b[0m \u001b[0mee\u001b[0m\u001b[1;33m\u001b[0m\u001b[1;33m\u001b[0m\u001b[0m\n\u001b[0;32m      3\u001b[0m \u001b[0maccount\u001b[0m\u001b[1;33m=\u001b[0m\u001b[1;34m\"gee-classproject@gee-sigmanaj.iam.gserviceaccount.com\"\u001b[0m\u001b[1;33m\u001b[0m\u001b[1;33m\u001b[0m\u001b[0m\n\u001b[1;32m----> 4\u001b[1;33m \u001b[0mcreds\u001b[0m\u001b[1;33m=\u001b[0m\u001b[0mee\u001b[0m\u001b[1;33m.\u001b[0m\u001b[0mServiceAccountCredentials\u001b[0m\u001b[1;33m(\u001b[0m\u001b[0maccount\u001b[0m\u001b[1;33m,\u001b[0m\u001b[1;34m\"C:\\\\Users\\\\AJ\\\\Downloads\\\\client_secret_504635541322-1c54t35hmuma4u9no8kgs27sj9avt04e.apps.googleusercontent.com.json\"\u001b[0m\u001b[1;33m)\u001b[0m\u001b[1;33m\u001b[0m\u001b[1;33m\u001b[0m\u001b[0m\n\u001b[0m\u001b[0;32m      5\u001b[0m \u001b[0mee\u001b[0m\u001b[1;33m.\u001b[0m\u001b[0mInitialize\u001b[0m\u001b[1;33m(\u001b[0m\u001b[0mcreds\u001b[0m\u001b[1;33m)\u001b[0m\u001b[1;33m\u001b[0m\u001b[1;33m\u001b[0m\u001b[0m\n",
      "\u001b[1;32m~\\anaconda3\\lib\\site-packages\\ee\\_helpers.py\u001b[0m in \u001b[0;36mServiceAccountCredentials\u001b[1;34m(email, key_file, key_data)\u001b[0m\n\u001b[0;32m     37\u001b[0m   \u001b[1;31m# Assume anything that doesn't end in '.pem' is a JSON key.\u001b[0m\u001b[1;33m\u001b[0m\u001b[1;33m\u001b[0m\u001b[0m\n\u001b[0;32m     38\u001b[0m   \u001b[1;32mif\u001b[0m \u001b[0mkey_file\u001b[0m \u001b[1;32mand\u001b[0m \u001b[1;32mnot\u001b[0m \u001b[0mkey_file\u001b[0m\u001b[1;33m.\u001b[0m\u001b[0mendswith\u001b[0m\u001b[1;33m(\u001b[0m\u001b[1;34m'.pem'\u001b[0m\u001b[1;33m)\u001b[0m\u001b[1;33m:\u001b[0m\u001b[1;33m\u001b[0m\u001b[1;33m\u001b[0m\u001b[0m\n\u001b[1;32m---> 39\u001b[1;33m     return service_account.Credentials.from_service_account_file(\n\u001b[0m\u001b[0;32m     40\u001b[0m         key_file, scopes=oauth.SCOPES)\n\u001b[0;32m     41\u001b[0m \u001b[1;33m\u001b[0m\u001b[0m\n",
      "\u001b[1;32m~\\anaconda3\\lib\\site-packages\\google\\oauth2\\service_account.py\u001b[0m in \u001b[0;36mfrom_service_account_file\u001b[1;34m(cls, filename, **kwargs)\u001b[0m\n\u001b[0;32m    239\u001b[0m                 \u001b[0mcredentials\u001b[0m\u001b[1;33m.\u001b[0m\u001b[1;33m\u001b[0m\u001b[1;33m\u001b[0m\u001b[0m\n\u001b[0;32m    240\u001b[0m         \"\"\"\n\u001b[1;32m--> 241\u001b[1;33m         info, signer = _service_account_info.from_filename(\n\u001b[0m\u001b[0;32m    242\u001b[0m             \u001b[0mfilename\u001b[0m\u001b[1;33m,\u001b[0m \u001b[0mrequire\u001b[0m\u001b[1;33m=\u001b[0m\u001b[1;33m[\u001b[0m\u001b[1;34m\"client_email\"\u001b[0m\u001b[1;33m,\u001b[0m \u001b[1;34m\"token_uri\"\u001b[0m\u001b[1;33m]\u001b[0m\u001b[1;33m\u001b[0m\u001b[1;33m\u001b[0m\u001b[0m\n\u001b[0;32m    243\u001b[0m         )\n",
      "\u001b[1;32m~\\anaconda3\\lib\\site-packages\\google\\auth\\_service_account_info.py\u001b[0m in \u001b[0;36mfrom_filename\u001b[1;34m(filename, require, use_rsa_signer)\u001b[0m\n\u001b[0;32m     80\u001b[0m     \u001b[1;32mwith\u001b[0m \u001b[0mio\u001b[0m\u001b[1;33m.\u001b[0m\u001b[0mopen\u001b[0m\u001b[1;33m(\u001b[0m\u001b[0mfilename\u001b[0m\u001b[1;33m,\u001b[0m \u001b[1;34m\"r\"\u001b[0m\u001b[1;33m,\u001b[0m \u001b[0mencoding\u001b[0m\u001b[1;33m=\u001b[0m\u001b[1;34m\"utf-8\"\u001b[0m\u001b[1;33m)\u001b[0m \u001b[1;32mas\u001b[0m \u001b[0mjson_file\u001b[0m\u001b[1;33m:\u001b[0m\u001b[1;33m\u001b[0m\u001b[1;33m\u001b[0m\u001b[0m\n\u001b[0;32m     81\u001b[0m         \u001b[0mdata\u001b[0m \u001b[1;33m=\u001b[0m \u001b[0mjson\u001b[0m\u001b[1;33m.\u001b[0m\u001b[0mload\u001b[0m\u001b[1;33m(\u001b[0m\u001b[0mjson_file\u001b[0m\u001b[1;33m)\u001b[0m\u001b[1;33m\u001b[0m\u001b[1;33m\u001b[0m\u001b[0m\n\u001b[1;32m---> 82\u001b[1;33m         \u001b[1;32mreturn\u001b[0m \u001b[0mdata\u001b[0m\u001b[1;33m,\u001b[0m \u001b[0mfrom_dict\u001b[0m\u001b[1;33m(\u001b[0m\u001b[0mdata\u001b[0m\u001b[1;33m,\u001b[0m \u001b[0mrequire\u001b[0m\u001b[1;33m=\u001b[0m\u001b[0mrequire\u001b[0m\u001b[1;33m,\u001b[0m \u001b[0muse_rsa_signer\u001b[0m\u001b[1;33m=\u001b[0m\u001b[0muse_rsa_signer\u001b[0m\u001b[1;33m)\u001b[0m\u001b[1;33m\u001b[0m\u001b[1;33m\u001b[0m\u001b[0m\n\u001b[0m",
      "\u001b[1;32m~\\anaconda3\\lib\\site-packages\\google\\auth\\_service_account_info.py\u001b[0m in \u001b[0;36mfrom_dict\u001b[1;34m(data, require, use_rsa_signer)\u001b[0m\n\u001b[0;32m     50\u001b[0m \u001b[1;33m\u001b[0m\u001b[0m\n\u001b[0;32m     51\u001b[0m     \u001b[1;32mif\u001b[0m \u001b[0mmissing\u001b[0m\u001b[1;33m:\u001b[0m\u001b[1;33m\u001b[0m\u001b[1;33m\u001b[0m\u001b[0m\n\u001b[1;32m---> 52\u001b[1;33m         raise exceptions.MalformedError(\n\u001b[0m\u001b[0;32m     53\u001b[0m             \u001b[1;34m\"Service account info was not in the expected format, missing \"\u001b[0m\u001b[1;33m\u001b[0m\u001b[1;33m\u001b[0m\u001b[0m\n\u001b[0;32m     54\u001b[0m             \u001b[1;34m\"fields {}.\"\u001b[0m\u001b[1;33m.\u001b[0m\u001b[0mformat\u001b[0m\u001b[1;33m(\u001b[0m\u001b[1;34m\", \"\u001b[0m\u001b[1;33m.\u001b[0m\u001b[0mjoin\u001b[0m\u001b[1;33m(\u001b[0m\u001b[0mmissing\u001b[0m\u001b[1;33m)\u001b[0m\u001b[1;33m)\u001b[0m\u001b[1;33m\u001b[0m\u001b[1;33m\u001b[0m\u001b[0m\n",
      "\u001b[1;31mMalformedError\u001b[0m: Service account info was not in the expected format, missing fields token_uri, client_email."
     ]
    }
   ],
   "source": [
    "from IPython.display import Image\n",
    "import ee\n",
    "account=\"gee-classproject@gee-sigmanaj.iam.gserviceaccount.com\"\n",
    "creds=ee.ServiceAccountCredentials(account,\"C:\\\\Users\\\\AJ\\\\Downloads\\\\client_secret_504635541322-1c54t35hmuma4u9no8kgs27sj9avt04e.apps.googleusercontent.com.json\")\n",
    "ee.Initialize(creds)"
   ]
  },
  {
   "cell_type": "code",
   "execution_count": 3,
   "id": "27727e47-554b-46a5-b308-b6ca9ec78aff",
   "metadata": {},
   "outputs": [],
   "source": [
    "import geemap"
   ]
  },
  {
   "cell_type": "code",
   "execution_count": null,
   "id": "60418fbc-ce5b-4f29-a369-bdadfa7ccc04",
   "metadata": {},
   "outputs": [],
   "source": [
    "# Define area of interest\n",
    "Point = ee.Geometry.Point([-105.0376, 39.5010])\n",
    "Area = Point.buffer(20000)"
   ]
  },
  {
   "cell_type": "code",
   "execution_count": null,
   "id": "562ce698-80f1-41a1-b0d8-7e6ceafcdbd6",
   "metadata": {},
   "outputs": [],
   "source": [
    "# Get NLCD 2016 map for the region\n",
    "image=ee.ImageCollection(\"USGS/NLCD_RELEASES/2016_REL\")\n",
    "image=image.filter(ee.Filter.eq('system:index', '2016')).first()\n",
    "NLCD2016=image.clip(Area)\n",
    "band_names=NLCD2016.bandNames()\n",
    "print(band_names.getInfo())"
   ]
  },
  {
   "cell_type": "code",
   "execution_count": null,
   "id": "8d962aec-9381-4e78-8fb6-a2c46c463a93",
   "metadata": {},
   "outputs": [],
   "source": [
    "Map = geemap.Map()\n",
    "Map.centerObject(Area)\n",
    "Map.addLayer(Area, {'outline': 2}, name='Study Area')\n",
    "landcover = {'bands': ['landcover']}\n",
    "Map.addLayer(NLCD2016,landcover, name='NLCD 2016')\n",
    "Map"
   ]
  },
  {
   "cell_type": "code",
   "execution_count": null,
   "id": "163a4da3-0091-49be-a50d-85484cd3918d",
   "metadata": {},
   "outputs": [],
   "source": [
    "# Get NLCD 2016 map for the region\n",
    "image=ee.ImageCollection(\"USGS/NLCD_RELEASES/2019_REL/NLCD\")\n",
    "image=image.filter(ee.Filter.eq('system:index', '2019')).first()\n",
    "NLCD2019=image.clip(Area)\n",
    "band_names=NLCD2019.bandNames()\n",
    "print(band_names.getInfo())"
   ]
  },
  {
   "cell_type": "code",
   "execution_count": null,
   "id": "329b542b-71a1-4105-8d40-c5d2f9e54836",
   "metadata": {},
   "outputs": [],
   "source": [
    "landcover = {'bands': ['landcover']}\n",
    "Map.addLayer(NLCD2019,landcover, name='NLCD 2019')\n",
    "Map"
   ]
  },
  {
   "cell_type": "code",
   "execution_count": null,
   "id": "2b937a7c-25b2-42c4-91f9-bb12fe63ec3d",
   "metadata": {},
   "outputs": [],
   "source": [
    "# Get landsat8 imagery\n",
    "landsat8 =ee.ImageCollection(\"LANDSAT/LC08/C02/T1_L2\")\n",
    "image = ee.Image(landsat8\n",
    "    .filterBounds(Point)\n",
    "    .filterDate('2013-06-01', '2013-09-01')\n",
    "    .sort('CLOUD_COVER_LAND').first())\n",
    "image_2013=image.clip(Area)\n",
    "image_2013=image_2013.select(['SR_B1', 'SR_B2', 'SR_B3', 'SR_B4', 'SR_B5', 'SR_B6', 'SR_B7'])\n",
    "image_2013=image_2013.multiply(0.0000275).add(-0.2)"
   ]
  },
  {
   "cell_type": "code",
   "execution_count": null,
   "id": "ca3deac3-a43e-40cb-8dd2-8da3d146bf03",
   "metadata": {},
   "outputs": [],
   "source": [
    "trueColor = {'bands': ['SR_B4', 'SR_B3', 'SR_B2'], 'min': 0, 'max': 0.4}\n",
    "falseColor = {'min': 0,'max': 0.2,'bands': ['SR_B5', 'SR_B4', 'SR_B3']}\n",
    "NDVI = {'min': -0.2,'max': 1.0,'palette': ['blue','white','brown','yellow', 'lime', 'green','navy']}\n",
    "ndvi_2013=image_2013.normalizedDifference(['SR_B5', 'SR_B4'])\n",
    "Map.addLayer(image_2013, trueColor, name='Landsat8 True 2013')\n",
    "Map.addLayer(image_2013, falseColor, name='Landsat8 False 2013')\n",
    "Map.addLayer(ndvi_2013, NDVI, name='Landsat8 NDVI 2013')\n",
    "# colors = NDVI['palette']\n",
    "# vmin = NDVI['min']\n",
    "# vmax = NDVI['max']\n",
    "# Map.add_colorbar_branca(colors=colors, vmin=vmin, vmax=vmax, layer_name='Landsat8 NDVI 2013')\n",
    "Map"
   ]
  },
  {
   "cell_type": "code",
   "execution_count": null,
   "id": "d094fe0a-60d5-4ab7-a6b7-5c72d71ae06f",
   "metadata": {},
   "outputs": [],
   "source": [
    "# Get landsat8 imagery\n",
    "landsat8 =ee.ImageCollection(\"LANDSAT/LC08/C02/T1_L2\")\n",
    "image = ee.Image(landsat8\n",
    "    .filterBounds(Point)\n",
    "    .filterDate('2021-06-01', '2021-09-01')\n",
    "    .sort('CLOUD_COVER_LAND').first())\n",
    "image_2021=image.clip(Area)\n",
    "image_2021 = image_2021.select(['SR_B1', 'SR_B2', 'SR_B3', 'SR_B4', 'SR_B5', 'SR_B6', 'SR_B7'])\n",
    "image_2021 = image_2021.multiply(0.0000275).add(-0.2)"
   ]
  },
  {
   "cell_type": "code",
   "execution_count": null,
   "id": "ab22fa59-a719-4133-bf59-75bc22df6180",
   "metadata": {},
   "outputs": [],
   "source": [
    "ndvi_2021=image_2021.normalizedDifference(['SR_B5', 'SR_B4'])\n",
    "Map.addLayer(image_2021, trueColor, name='Landsat8 True 2021')\n",
    "Map.addLayer(image_2021, falseColor, name='Landsat8 False 2021')\n",
    "Map.addLayer(ndvi_2021, NDVI, name='Landsat8 NDVI 2021')\n",
    "Map"
   ]
  },
  {
   "cell_type": "code",
   "execution_count": null,
   "id": "0e8d6e6a-1606-4bfa-bfa9-c10df1e934ad",
   "metadata": {},
   "outputs": [],
   "source": []
  }
 ],
 "metadata": {
  "kernelspec": {
   "display_name": "Python 3 (ipykernel)",
   "language": "python",
   "name": "python3"
  },
  "language_info": {
   "codemirror_mode": {
    "name": "ipython",
    "version": 3
   },
   "file_extension": ".py",
   "mimetype": "text/x-python",
   "name": "python",
   "nbconvert_exporter": "python",
   "pygments_lexer": "ipython3",
   "version": "3.9.13"
  }
 },
 "nbformat": 4,
 "nbformat_minor": 5
}
